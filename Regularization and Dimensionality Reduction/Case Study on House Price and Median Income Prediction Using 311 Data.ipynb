{
 "cells": [
  {
   "cell_type": "code",
   "execution_count": 69,
   "metadata": {},
   "outputs": [],
   "source": [
    "#import modules we need to use for this session\n",
    "import pandas as pd\n",
    "import numpy as np\n",
    "%matplotlib inline\n",
    "import matplotlib.pyplot as plt\n",
    "from scipy import stats\n",
    "import statsmodels.formula.api as smf\n",
    "import statsmodels.api as sm\n",
    "from sklearn.linear_model import LinearRegression\n",
    "# PCA module\n",
    "from sklearn.decomposition import PCA\n",
    "from sklearn.model_selection import train_test_split\n",
    "from mpl_toolkits.mplot3d import Axes3D\n",
    "from sklearn import datasets\n",
    "from sklearn import linear_model\n",
    "from sklearn import preprocessing\n",
    "from sklearn.metrics import r2_score\n",
    "\n",
    "import warnings\n",
    "warnings.filterwarnings('ignore')"
   ]
  },
  {
   "cell_type": "markdown",
   "metadata": {},
   "source": [
    "# Task 1. House price prediction using 311 data\n",
    "\n",
    "### Can 311 complaining profile of urban neighborhoods enhance real-estate price prediction?\n",
    "\n",
    "[Zhu, E., & Sobolevsky, S. (2018). House Price Modeling with Digital Census. arXiv preprint arXiv:1809.03834.]"
   ]
  },
  {
   "cell_type": "markdown",
   "metadata": {},
   "source": [
    "Before we tried to use some parameters of the house (size) to predict its price. However notice that location matters as well. Below we upload a sample of more than 14000 individual house sales all around NYC in 2012. Each record together with the parameters of the house also contains important characteristics of the location (zip code) - average income of its residents (accodring to US census), as well as the relative structure of 311 complaints happening in the area."
   ]
  },
  {
   "cell_type": "code",
   "execution_count": null,
   "metadata": {},
   "outputs": [],
   "source": []
  },
  {
   "cell_type": "code",
   "execution_count": 70,
   "metadata": {},
   "outputs": [],
   "source": [
    "folder=''"
   ]
  },
  {
   "cell_type": "code",
   "execution_count": 71,
   "metadata": {},
   "outputs": [],
   "source": [
    "REsample=pd.read_csv(folder+'data/NYChome_sales2012.csv',index_col=0)"
   ]
  },
  {
   "cell_type": "code",
   "execution_count": 72,
   "metadata": {},
   "outputs": [
    {
     "data": {
      "text/plain": [
       "14611"
      ]
     },
     "execution_count": 72,
     "metadata": {},
     "output_type": "execute_result"
    }
   ],
   "source": [
    "len(REsample)"
   ]
  },
  {
   "cell_type": "code",
   "execution_count": 73,
   "metadata": {},
   "outputs": [
    {
     "data": {
      "text/html": [
       "<div>\n",
       "<style scoped>\n",
       "    .dataframe tbody tr th:only-of-type {\n",
       "        vertical-align: middle;\n",
       "    }\n",
       "\n",
       "    .dataframe tbody tr th {\n",
       "        vertical-align: top;\n",
       "    }\n",
       "\n",
       "    .dataframe thead th {\n",
       "        text-align: right;\n",
       "    }\n",
       "</style>\n",
       "<table border=\"1\" class=\"dataframe\">\n",
       "  <thead>\n",
       "    <tr style=\"text-align: right;\">\n",
       "      <th></th>\n",
       "      <th>borough</th>\n",
       "      <th>neighborhood</th>\n",
       "      <th>block</th>\n",
       "      <th>lot</th>\n",
       "      <th>easement</th>\n",
       "      <th>building_class_present</th>\n",
       "      <th>address</th>\n",
       "      <th>zip_code</th>\n",
       "      <th>commmercial_units</th>\n",
       "      <th>land_sq_feet</th>\n",
       "      <th>gross_sq_feet</th>\n",
       "      <th>year_built</th>\n",
       "      <th>sale_price</th>\n",
       "      <th>sale_date</th>\n",
       "    </tr>\n",
       "  </thead>\n",
       "  <tbody>\n",
       "    <tr>\n",
       "      <td>204018</td>\n",
       "      <td>4</td>\n",
       "      <td>LAURELTON</td>\n",
       "      <td>12941</td>\n",
       "      <td>94</td>\n",
       "      <td>NaN</td>\n",
       "      <td>A2</td>\n",
       "      <td>131-43 FRANCIS LEWIS BLVD</td>\n",
       "      <td>11413</td>\n",
       "      <td>0</td>\n",
       "      <td>3560</td>\n",
       "      <td>1473</td>\n",
       "      <td>1940</td>\n",
       "      <td>0</td>\n",
       "      <td>2012-01-01</td>\n",
       "    </tr>\n",
       "    <tr>\n",
       "      <td>217555</td>\n",
       "      <td>2</td>\n",
       "      <td>BATHGATE</td>\n",
       "      <td>3046</td>\n",
       "      <td>42</td>\n",
       "      <td>NaN</td>\n",
       "      <td>A1</td>\n",
       "      <td>2069 BATHGATE AVE</td>\n",
       "      <td>10457</td>\n",
       "      <td>0</td>\n",
       "      <td>1964</td>\n",
       "      <td>1424</td>\n",
       "      <td>1899</td>\n",
       "      <td>345376</td>\n",
       "      <td>2012-04-05</td>\n",
       "    </tr>\n",
       "    <tr>\n",
       "      <td>217598</td>\n",
       "      <td>2</td>\n",
       "      <td>BAYCHESTER</td>\n",
       "      <td>4707</td>\n",
       "      <td>70</td>\n",
       "      <td>NaN</td>\n",
       "      <td>A5</td>\n",
       "      <td>1134 EAST 213 STREET</td>\n",
       "      <td>10469</td>\n",
       "      <td>0</td>\n",
       "      <td>2320</td>\n",
       "      <td>1813</td>\n",
       "      <td>1950</td>\n",
       "      <td>335700</td>\n",
       "      <td>2012-05-17</td>\n",
       "    </tr>\n",
       "    <tr>\n",
       "      <td>217599</td>\n",
       "      <td>2</td>\n",
       "      <td>BAYCHESTER</td>\n",
       "      <td>4708</td>\n",
       "      <td>48</td>\n",
       "      <td>NaN</td>\n",
       "      <td>A5</td>\n",
       "      <td>1110 EAST 214TH STREET</td>\n",
       "      <td>10469</td>\n",
       "      <td>0</td>\n",
       "      <td>1710</td>\n",
       "      <td>1813</td>\n",
       "      <td>1945</td>\n",
       "      <td>338000</td>\n",
       "      <td>2012-02-03</td>\n",
       "    </tr>\n",
       "    <tr>\n",
       "      <td>217600</td>\n",
       "      <td>2</td>\n",
       "      <td>BAYCHESTER</td>\n",
       "      <td>4710</td>\n",
       "      <td>1</td>\n",
       "      <td>NaN</td>\n",
       "      <td>A5</td>\n",
       "      <td>1127 EAST 215TH STREET</td>\n",
       "      <td>10469</td>\n",
       "      <td>0</td>\n",
       "      <td>2759</td>\n",
       "      <td>1998</td>\n",
       "      <td>1945</td>\n",
       "      <td>0</td>\n",
       "      <td>2012-12-20</td>\n",
       "    </tr>\n",
       "  </tbody>\n",
       "</table>\n",
       "</div>"
      ],
      "text/plain": [
       "        borough neighborhood  block  lot  easement building_class_present  \\\n",
       "204018        4    LAURELTON  12941   94       NaN                     A2   \n",
       "217555        2     BATHGATE   3046   42       NaN                     A1   \n",
       "217598        2   BAYCHESTER   4707   70       NaN                     A5   \n",
       "217599        2   BAYCHESTER   4708   48       NaN                     A5   \n",
       "217600        2   BAYCHESTER   4710    1       NaN                     A5   \n",
       "\n",
       "                          address  zip_code  commmercial_units  land_sq_feet  \\\n",
       "204018  131-43 FRANCIS LEWIS BLVD     11413                  0          3560   \n",
       "217555          2069 BATHGATE AVE     10457                  0          1964   \n",
       "217598       1134 EAST 213 STREET     10469                  0          2320   \n",
       "217599     1110 EAST 214TH STREET     10469                  0          1710   \n",
       "217600     1127 EAST 215TH STREET     10469                  0          2759   \n",
       "\n",
       "        gross_sq_feet  year_built  sale_price   sale_date  \n",
       "204018           1473        1940           0  2012-01-01  \n",
       "217555           1424        1899      345376  2012-04-05  \n",
       "217598           1813        1950      335700  2012-05-17  \n",
       "217599           1813        1945      338000  2012-02-03  \n",
       "217600           1998        1945           0  2012-12-20  "
      ]
     },
     "execution_count": 73,
     "metadata": {},
     "output_type": "execute_result"
    }
   ],
   "source": [
    "REsample.head()"
   ]
  },
  {
   "cell_type": "code",
   "execution_count": 74,
   "metadata": {},
   "outputs": [
    {
     "data": {
      "text/plain": [
       "Index(['borough', 'neighborhood', 'block', 'lot', 'easement',\n",
       "       'building_class_present', 'address', 'zip_code', 'commmercial_units',\n",
       "       'land_sq_feet', 'gross_sq_feet', 'year_built', 'sale_price',\n",
       "       'sale_date'],\n",
       "      dtype='object')"
      ]
     },
     "execution_count": 74,
     "metadata": {},
     "output_type": "execute_result"
    }
   ],
   "source": [
    "\n",
    "REsample.columns"
   ]
  },
  {
   "cell_type": "code",
   "execution_count": 75,
   "metadata": {},
   "outputs": [
    {
     "data": {
      "text/plain": [
       "array([   0,  216,  894, 2769, 7288, 3444], dtype=int64)"
      ]
     },
     "execution_count": 75,
     "metadata": {},
     "output_type": "execute_result"
    }
   ],
   "source": [
    "#how many houses do we have per each borough?\n",
    "np.bincount(REsample.borough)"
   ]
  },
  {
   "cell_type": "code",
   "execution_count": 76,
   "metadata": {},
   "outputs": [],
   "source": [
    "#split into training (1), validation (2) and test (3) samples\n",
    "np.random.seed(2018)\n",
    "splitind=np.random.uniform(size=len(REsample))\n",
    "REsample1=REsample.loc[splitind<=0.4]\n",
    "REsample2=REsample.loc[(splitind>0.4)&(splitind<0.7)]\n",
    "REsample3=REsample.loc[(splitind>=0.7)]"
   ]
  },
  {
   "cell_type": "code",
   "execution_count": 77,
   "metadata": {},
   "outputs": [
    {
     "data": {
      "text/plain": [
       "5832"
      ]
     },
     "execution_count": 77,
     "metadata": {},
     "output_type": "execute_result"
    }
   ],
   "source": [
    "len(REsample1) #loosing around 50 records within sparse zip codes"
   ]
  },
  {
   "cell_type": "code",
   "execution_count": 78,
   "metadata": {},
   "outputs": [
    {
     "data": {
      "text/plain": [
       "4394"
      ]
     },
     "execution_count": 78,
     "metadata": {},
     "output_type": "execute_result"
    }
   ],
   "source": [
    "len(REsample2)"
   ]
  },
  {
   "cell_type": "code",
   "execution_count": 79,
   "metadata": {},
   "outputs": [
    {
     "data": {
      "text/plain": [
       "4385"
      ]
     },
     "execution_count": 79,
     "metadata": {},
     "output_type": "execute_result"
    }
   ],
   "source": [
    "len(REsample3)"
   ]
  },
  {
   "cell_type": "code",
   "execution_count": 80,
   "metadata": {},
   "outputs": [],
   "source": [
    "# now load and curate 311 data which we're going to use in order to characterize the location"
   ]
  },
  {
   "cell_type": "code",
   "execution_count": 81,
   "metadata": {},
   "outputs": [
    {
     "data": {
      "text/html": [
       "<div>\n",
       "<style scoped>\n",
       "    .dataframe tbody tr th:only-of-type {\n",
       "        vertical-align: middle;\n",
       "    }\n",
       "\n",
       "    .dataframe tbody tr th {\n",
       "        vertical-align: top;\n",
       "    }\n",
       "\n",
       "    .dataframe thead th {\n",
       "        text-align: right;\n",
       "    }\n",
       "</style>\n",
       "<table border=\"1\" class=\"dataframe\">\n",
       "  <thead>\n",
       "    <tr style=\"text-align: right;\">\n",
       "      <th></th>\n",
       "      <th>Zip</th>\n",
       "      <th>Complain</th>\n",
       "      <th>Count</th>\n",
       "    </tr>\n",
       "  </thead>\n",
       "  <tbody>\n",
       "    <tr>\n",
       "      <td>1</td>\n",
       "      <td>NaN</td>\n",
       "      <td>Adopt-A-Basket</td>\n",
       "      <td>5</td>\n",
       "    </tr>\n",
       "    <tr>\n",
       "      <td>2</td>\n",
       "      <td>10001</td>\n",
       "      <td>Adopt-A-Basket</td>\n",
       "      <td>1</td>\n",
       "    </tr>\n",
       "    <tr>\n",
       "      <td>3</td>\n",
       "      <td>10003</td>\n",
       "      <td>Adopt-A-Basket</td>\n",
       "      <td>1</td>\n",
       "    </tr>\n",
       "    <tr>\n",
       "      <td>4</td>\n",
       "      <td>10009</td>\n",
       "      <td>Adopt-A-Basket</td>\n",
       "      <td>1</td>\n",
       "    </tr>\n",
       "    <tr>\n",
       "      <td>5</td>\n",
       "      <td>10010</td>\n",
       "      <td>Adopt-A-Basket</td>\n",
       "      <td>1</td>\n",
       "    </tr>\n",
       "  </tbody>\n",
       "</table>\n",
       "</div>"
      ],
      "text/plain": [
       "     Zip        Complain  Count\n",
       "1    NaN  Adopt-A-Basket      5\n",
       "2  10001  Adopt-A-Basket      1\n",
       "3  10003  Adopt-A-Basket      1\n",
       "4  10009  Adopt-A-Basket      1\n",
       "5  10010  Adopt-A-Basket      1"
      ]
     },
     "execution_count": 81,
     "metadata": {},
     "output_type": "execute_result"
    }
   ],
   "source": [
    "data311 = pd.read_csv( folder+'data/aggr311.csv' , index_col=0 )\n",
    "data311.head()"
   ]
  },
  {
   "cell_type": "code",
   "execution_count": 82,
   "metadata": {},
   "outputs": [],
   "source": [
    "data311.Zip=pd.to_numeric(data311.Zip,errors='coerce')"
   ]
  },
  {
   "cell_type": "code",
   "execution_count": 83,
   "metadata": {},
   "outputs": [],
   "source": [
    "data311=data311.loc[(data311.Zip>=10000)&(data311.Zip<11500)] #take only NYC zip codes"
   ]
  },
  {
   "cell_type": "code",
   "execution_count": 84,
   "metadata": {},
   "outputs": [],
   "source": [
    "data311=pd.pivot_table(data311,index='Zip',columns='Complain',values='Count',fill_value=0)"
   ]
  },
  {
   "cell_type": "code",
   "execution_count": 85,
   "metadata": {},
   "outputs": [
    {
     "data": {
      "text/html": [
       "<div>\n",
       "<style scoped>\n",
       "    .dataframe tbody tr th:only-of-type {\n",
       "        vertical-align: middle;\n",
       "    }\n",
       "\n",
       "    .dataframe tbody tr th {\n",
       "        vertical-align: top;\n",
       "    }\n",
       "\n",
       "    .dataframe thead th {\n",
       "        text-align: right;\n",
       "    }\n",
       "</style>\n",
       "<table border=\"1\" class=\"dataframe\">\n",
       "  <thead>\n",
       "    <tr style=\"text-align: right;\">\n",
       "      <th>Complain</th>\n",
       "      <th>APPLIANCE</th>\n",
       "      <th>Adopt-A-Basket</th>\n",
       "      <th>Air Quality</th>\n",
       "      <th>Animal Abuse</th>\n",
       "      <th>Animal Facility - No Permit</th>\n",
       "      <th>Animal in a Park</th>\n",
       "      <th>Asbestos</th>\n",
       "      <th>BEST/Site Safety</th>\n",
       "      <th>Beach/Pool/Sauna Complaint</th>\n",
       "      <th>Bike Rack Condition</th>\n",
       "      <th>...</th>\n",
       "      <th>Unsanitary Pigeon Condition</th>\n",
       "      <th>Urinating in Public</th>\n",
       "      <th>Vacant Lot</th>\n",
       "      <th>Vending</th>\n",
       "      <th>Violation of Park Rules</th>\n",
       "      <th>Water Conservation</th>\n",
       "      <th>Water Quality</th>\n",
       "      <th>Water System</th>\n",
       "      <th>Window Guard</th>\n",
       "      <th>X-Ray Machine/Equipment</th>\n",
       "    </tr>\n",
       "    <tr>\n",
       "      <th>Zip</th>\n",
       "      <th></th>\n",
       "      <th></th>\n",
       "      <th></th>\n",
       "      <th></th>\n",
       "      <th></th>\n",
       "      <th></th>\n",
       "      <th></th>\n",
       "      <th></th>\n",
       "      <th></th>\n",
       "      <th></th>\n",
       "      <th></th>\n",
       "      <th></th>\n",
       "      <th></th>\n",
       "      <th></th>\n",
       "      <th></th>\n",
       "      <th></th>\n",
       "      <th></th>\n",
       "      <th></th>\n",
       "      <th></th>\n",
       "      <th></th>\n",
       "      <th></th>\n",
       "    </tr>\n",
       "  </thead>\n",
       "  <tbody>\n",
       "    <tr>\n",
       "      <td>10000.0</td>\n",
       "      <td>0</td>\n",
       "      <td>0</td>\n",
       "      <td>1</td>\n",
       "      <td>0</td>\n",
       "      <td>0</td>\n",
       "      <td>1</td>\n",
       "      <td>0</td>\n",
       "      <td>0</td>\n",
       "      <td>0</td>\n",
       "      <td>0</td>\n",
       "      <td>...</td>\n",
       "      <td>0</td>\n",
       "      <td>0</td>\n",
       "      <td>0</td>\n",
       "      <td>8</td>\n",
       "      <td>8</td>\n",
       "      <td>0</td>\n",
       "      <td>0</td>\n",
       "      <td>0</td>\n",
       "      <td>0</td>\n",
       "      <td>0</td>\n",
       "    </tr>\n",
       "    <tr>\n",
       "      <td>10001.0</td>\n",
       "      <td>0</td>\n",
       "      <td>1</td>\n",
       "      <td>90</td>\n",
       "      <td>0</td>\n",
       "      <td>0</td>\n",
       "      <td>1</td>\n",
       "      <td>20</td>\n",
       "      <td>36</td>\n",
       "      <td>1</td>\n",
       "      <td>1</td>\n",
       "      <td>...</td>\n",
       "      <td>3</td>\n",
       "      <td>0</td>\n",
       "      <td>2</td>\n",
       "      <td>51</td>\n",
       "      <td>5</td>\n",
       "      <td>5</td>\n",
       "      <td>2</td>\n",
       "      <td>366</td>\n",
       "      <td>0</td>\n",
       "      <td>0</td>\n",
       "    </tr>\n",
       "    <tr>\n",
       "      <td>10002.0</td>\n",
       "      <td>15</td>\n",
       "      <td>0</td>\n",
       "      <td>80</td>\n",
       "      <td>0</td>\n",
       "      <td>0</td>\n",
       "      <td>21</td>\n",
       "      <td>18</td>\n",
       "      <td>20</td>\n",
       "      <td>2</td>\n",
       "      <td>6</td>\n",
       "      <td>...</td>\n",
       "      <td>5</td>\n",
       "      <td>1</td>\n",
       "      <td>4</td>\n",
       "      <td>27</td>\n",
       "      <td>14</td>\n",
       "      <td>10</td>\n",
       "      <td>7</td>\n",
       "      <td>324</td>\n",
       "      <td>0</td>\n",
       "      <td>0</td>\n",
       "    </tr>\n",
       "    <tr>\n",
       "      <td>10003.0</td>\n",
       "      <td>15</td>\n",
       "      <td>1</td>\n",
       "      <td>143</td>\n",
       "      <td>0</td>\n",
       "      <td>2</td>\n",
       "      <td>44</td>\n",
       "      <td>24</td>\n",
       "      <td>13</td>\n",
       "      <td>2</td>\n",
       "      <td>2</td>\n",
       "      <td>...</td>\n",
       "      <td>7</td>\n",
       "      <td>11</td>\n",
       "      <td>2</td>\n",
       "      <td>54</td>\n",
       "      <td>25</td>\n",
       "      <td>12</td>\n",
       "      <td>5</td>\n",
       "      <td>318</td>\n",
       "      <td>0</td>\n",
       "      <td>0</td>\n",
       "    </tr>\n",
       "    <tr>\n",
       "      <td>10004.0</td>\n",
       "      <td>0</td>\n",
       "      <td>0</td>\n",
       "      <td>15</td>\n",
       "      <td>0</td>\n",
       "      <td>0</td>\n",
       "      <td>4</td>\n",
       "      <td>3</td>\n",
       "      <td>1</td>\n",
       "      <td>0</td>\n",
       "      <td>1</td>\n",
       "      <td>...</td>\n",
       "      <td>1</td>\n",
       "      <td>1</td>\n",
       "      <td>0</td>\n",
       "      <td>16</td>\n",
       "      <td>21</td>\n",
       "      <td>0</td>\n",
       "      <td>0</td>\n",
       "      <td>37</td>\n",
       "      <td>0</td>\n",
       "      <td>0</td>\n",
       "    </tr>\n",
       "  </tbody>\n",
       "</table>\n",
       "<p>5 rows × 162 columns</p>\n",
       "</div>"
      ],
      "text/plain": [
       "Complain  APPLIANCE  Adopt-A-Basket  Air Quality  Animal Abuse  \\\n",
       "Zip                                                              \n",
       "10000.0           0               0            1             0   \n",
       "10001.0           0               1           90             0   \n",
       "10002.0          15               0           80             0   \n",
       "10003.0          15               1          143             0   \n",
       "10004.0           0               0           15             0   \n",
       "\n",
       "Complain  Animal Facility - No Permit  Animal in a Park  Asbestos  \\\n",
       "Zip                                                                 \n",
       "10000.0                             0                 1         0   \n",
       "10001.0                             0                 1        20   \n",
       "10002.0                             0                21        18   \n",
       "10003.0                             2                44        24   \n",
       "10004.0                             0                 4         3   \n",
       "\n",
       "Complain  BEST/Site Safety  Beach/Pool/Sauna Complaint  Bike Rack Condition  \\\n",
       "Zip                                                                           \n",
       "10000.0                  0                           0                    0   \n",
       "10001.0                 36                           1                    1   \n",
       "10002.0                 20                           2                    6   \n",
       "10003.0                 13                           2                    2   \n",
       "10004.0                  1                           0                    1   \n",
       "\n",
       "Complain  ...  Unsanitary Pigeon Condition  Urinating in Public  Vacant Lot  \\\n",
       "Zip       ...                                                                 \n",
       "10000.0   ...                            0                    0           0   \n",
       "10001.0   ...                            3                    0           2   \n",
       "10002.0   ...                            5                    1           4   \n",
       "10003.0   ...                            7                   11           2   \n",
       "10004.0   ...                            1                    1           0   \n",
       "\n",
       "Complain  Vending  Violation of Park Rules  Water Conservation  Water Quality  \\\n",
       "Zip                                                                             \n",
       "10000.0         8                        8                   0              0   \n",
       "10001.0        51                        5                   5              2   \n",
       "10002.0        27                       14                  10              7   \n",
       "10003.0        54                       25                  12              5   \n",
       "10004.0        16                       21                   0              0   \n",
       "\n",
       "Complain  Water System  Window Guard  X-Ray Machine/Equipment  \n",
       "Zip                                                            \n",
       "10000.0              0             0                        0  \n",
       "10001.0            366             0                        0  \n",
       "10002.0            324             0                        0  \n",
       "10003.0            318             0                        0  \n",
       "10004.0             37             0                        0  \n",
       "\n",
       "[5 rows x 162 columns]"
      ]
     },
     "execution_count": 85,
     "metadata": {},
     "output_type": "execute_result"
    }
   ],
   "source": [
    "data311.head()"
   ]
  },
  {
   "cell_type": "code",
   "execution_count": 86,
   "metadata": {},
   "outputs": [],
   "source": [
    "list_311=list(data311.columns)"
   ]
  },
  {
   "cell_type": "code",
   "execution_count": 87,
   "metadata": {},
   "outputs": [],
   "source": [
    "Total311=data311.sum(axis=1) #total 311 activity per zip code\n",
    "data311=data311.div(data311.sum(axis=1), axis=0) #normalize activity of various cathegories within zip code by total\n",
    "data311=data311.loc[Total311>100] #keep only those zip codes having sufficient activity"
   ]
  },
  {
   "cell_type": "code",
   "execution_count": 88,
   "metadata": {},
   "outputs": [
    {
     "data": {
      "text/plain": [
       "179"
      ]
     },
     "execution_count": 88,
     "metadata": {},
     "output_type": "execute_result"
    }
   ],
   "source": [
    "len(data311) #only 179 zip codes with reliable data left"
   ]
  },
  {
   "cell_type": "code",
   "execution_count": 89,
   "metadata": {},
   "outputs": [
    {
     "data": {
      "text/html": [
       "<div>\n",
       "<style scoped>\n",
       "    .dataframe tbody tr th:only-of-type {\n",
       "        vertical-align: middle;\n",
       "    }\n",
       "\n",
       "    .dataframe tbody tr th {\n",
       "        vertical-align: top;\n",
       "    }\n",
       "\n",
       "    .dataframe thead th {\n",
       "        text-align: right;\n",
       "    }\n",
       "</style>\n",
       "<table border=\"1\" class=\"dataframe\">\n",
       "  <thead>\n",
       "    <tr style=\"text-align: right;\">\n",
       "      <th>Complain</th>\n",
       "      <th>APPLIANCE</th>\n",
       "      <th>Adopt-A-Basket</th>\n",
       "      <th>Air Quality</th>\n",
       "      <th>Animal Abuse</th>\n",
       "      <th>Animal Facility - No Permit</th>\n",
       "      <th>Animal in a Park</th>\n",
       "      <th>Asbestos</th>\n",
       "      <th>BEST/Site Safety</th>\n",
       "      <th>Beach/Pool/Sauna Complaint</th>\n",
       "      <th>Bike Rack Condition</th>\n",
       "      <th>...</th>\n",
       "      <th>Unsanitary Pigeon Condition</th>\n",
       "      <th>Urinating in Public</th>\n",
       "      <th>Vacant Lot</th>\n",
       "      <th>Vending</th>\n",
       "      <th>Violation of Park Rules</th>\n",
       "      <th>Water Conservation</th>\n",
       "      <th>Water Quality</th>\n",
       "      <th>Water System</th>\n",
       "      <th>Window Guard</th>\n",
       "      <th>X-Ray Machine/Equipment</th>\n",
       "    </tr>\n",
       "    <tr>\n",
       "      <th>Zip</th>\n",
       "      <th></th>\n",
       "      <th></th>\n",
       "      <th></th>\n",
       "      <th></th>\n",
       "      <th></th>\n",
       "      <th></th>\n",
       "      <th></th>\n",
       "      <th></th>\n",
       "      <th></th>\n",
       "      <th></th>\n",
       "      <th></th>\n",
       "      <th></th>\n",
       "      <th></th>\n",
       "      <th></th>\n",
       "      <th></th>\n",
       "      <th></th>\n",
       "      <th></th>\n",
       "      <th></th>\n",
       "      <th></th>\n",
       "      <th></th>\n",
       "      <th></th>\n",
       "    </tr>\n",
       "  </thead>\n",
       "  <tbody>\n",
       "    <tr>\n",
       "      <td>10000.0</td>\n",
       "      <td>0.000000</td>\n",
       "      <td>0.000000</td>\n",
       "      <td>0.008772</td>\n",
       "      <td>0.0</td>\n",
       "      <td>0.000000</td>\n",
       "      <td>0.008772</td>\n",
       "      <td>0.000000</td>\n",
       "      <td>0.000000</td>\n",
       "      <td>0.000000</td>\n",
       "      <td>0.000000</td>\n",
       "      <td>...</td>\n",
       "      <td>0.000000</td>\n",
       "      <td>0.000000</td>\n",
       "      <td>0.000000</td>\n",
       "      <td>0.070175</td>\n",
       "      <td>0.070175</td>\n",
       "      <td>0.000000</td>\n",
       "      <td>0.000000</td>\n",
       "      <td>0.000000</td>\n",
       "      <td>0.0</td>\n",
       "      <td>0.0</td>\n",
       "    </tr>\n",
       "    <tr>\n",
       "      <td>10001.0</td>\n",
       "      <td>0.000000</td>\n",
       "      <td>0.000146</td>\n",
       "      <td>0.013179</td>\n",
       "      <td>0.0</td>\n",
       "      <td>0.000000</td>\n",
       "      <td>0.000146</td>\n",
       "      <td>0.002929</td>\n",
       "      <td>0.005272</td>\n",
       "      <td>0.000146</td>\n",
       "      <td>0.000146</td>\n",
       "      <td>...</td>\n",
       "      <td>0.000439</td>\n",
       "      <td>0.000000</td>\n",
       "      <td>0.000293</td>\n",
       "      <td>0.007468</td>\n",
       "      <td>0.000732</td>\n",
       "      <td>0.000732</td>\n",
       "      <td>0.000293</td>\n",
       "      <td>0.053595</td>\n",
       "      <td>0.0</td>\n",
       "      <td>0.0</td>\n",
       "    </tr>\n",
       "    <tr>\n",
       "      <td>10002.0</td>\n",
       "      <td>0.001330</td>\n",
       "      <td>0.000000</td>\n",
       "      <td>0.007095</td>\n",
       "      <td>0.0</td>\n",
       "      <td>0.000000</td>\n",
       "      <td>0.001862</td>\n",
       "      <td>0.001596</td>\n",
       "      <td>0.001774</td>\n",
       "      <td>0.000177</td>\n",
       "      <td>0.000532</td>\n",
       "      <td>...</td>\n",
       "      <td>0.000443</td>\n",
       "      <td>0.000089</td>\n",
       "      <td>0.000355</td>\n",
       "      <td>0.002394</td>\n",
       "      <td>0.001242</td>\n",
       "      <td>0.000887</td>\n",
       "      <td>0.000621</td>\n",
       "      <td>0.028734</td>\n",
       "      <td>0.0</td>\n",
       "      <td>0.0</td>\n",
       "    </tr>\n",
       "    <tr>\n",
       "      <td>10003.0</td>\n",
       "      <td>0.001331</td>\n",
       "      <td>0.000089</td>\n",
       "      <td>0.012690</td>\n",
       "      <td>0.0</td>\n",
       "      <td>0.000177</td>\n",
       "      <td>0.003905</td>\n",
       "      <td>0.002130</td>\n",
       "      <td>0.001154</td>\n",
       "      <td>0.000177</td>\n",
       "      <td>0.000177</td>\n",
       "      <td>...</td>\n",
       "      <td>0.000621</td>\n",
       "      <td>0.000976</td>\n",
       "      <td>0.000177</td>\n",
       "      <td>0.004792</td>\n",
       "      <td>0.002218</td>\n",
       "      <td>0.001065</td>\n",
       "      <td>0.000444</td>\n",
       "      <td>0.028219</td>\n",
       "      <td>0.0</td>\n",
       "      <td>0.0</td>\n",
       "    </tr>\n",
       "    <tr>\n",
       "      <td>10004.0</td>\n",
       "      <td>0.000000</td>\n",
       "      <td>0.000000</td>\n",
       "      <td>0.009740</td>\n",
       "      <td>0.0</td>\n",
       "      <td>0.000000</td>\n",
       "      <td>0.002597</td>\n",
       "      <td>0.001948</td>\n",
       "      <td>0.000649</td>\n",
       "      <td>0.000000</td>\n",
       "      <td>0.000649</td>\n",
       "      <td>...</td>\n",
       "      <td>0.000649</td>\n",
       "      <td>0.000649</td>\n",
       "      <td>0.000000</td>\n",
       "      <td>0.010390</td>\n",
       "      <td>0.013636</td>\n",
       "      <td>0.000000</td>\n",
       "      <td>0.000000</td>\n",
       "      <td>0.024026</td>\n",
       "      <td>0.0</td>\n",
       "      <td>0.0</td>\n",
       "    </tr>\n",
       "  </tbody>\n",
       "</table>\n",
       "<p>5 rows × 162 columns</p>\n",
       "</div>"
      ],
      "text/plain": [
       "Complain  APPLIANCE  Adopt-A-Basket  Air Quality  Animal Abuse  \\\n",
       "Zip                                                              \n",
       "10000.0    0.000000        0.000000     0.008772           0.0   \n",
       "10001.0    0.000000        0.000146     0.013179           0.0   \n",
       "10002.0    0.001330        0.000000     0.007095           0.0   \n",
       "10003.0    0.001331        0.000089     0.012690           0.0   \n",
       "10004.0    0.000000        0.000000     0.009740           0.0   \n",
       "\n",
       "Complain  Animal Facility - No Permit  Animal in a Park  Asbestos  \\\n",
       "Zip                                                                 \n",
       "10000.0                      0.000000          0.008772  0.000000   \n",
       "10001.0                      0.000000          0.000146  0.002929   \n",
       "10002.0                      0.000000          0.001862  0.001596   \n",
       "10003.0                      0.000177          0.003905  0.002130   \n",
       "10004.0                      0.000000          0.002597  0.001948   \n",
       "\n",
       "Complain  BEST/Site Safety  Beach/Pool/Sauna Complaint  Bike Rack Condition  \\\n",
       "Zip                                                                           \n",
       "10000.0           0.000000                    0.000000             0.000000   \n",
       "10001.0           0.005272                    0.000146             0.000146   \n",
       "10002.0           0.001774                    0.000177             0.000532   \n",
       "10003.0           0.001154                    0.000177             0.000177   \n",
       "10004.0           0.000649                    0.000000             0.000649   \n",
       "\n",
       "Complain  ...  Unsanitary Pigeon Condition  Urinating in Public  Vacant Lot  \\\n",
       "Zip       ...                                                                 \n",
       "10000.0   ...                     0.000000             0.000000    0.000000   \n",
       "10001.0   ...                     0.000439             0.000000    0.000293   \n",
       "10002.0   ...                     0.000443             0.000089    0.000355   \n",
       "10003.0   ...                     0.000621             0.000976    0.000177   \n",
       "10004.0   ...                     0.000649             0.000649    0.000000   \n",
       "\n",
       "Complain   Vending  Violation of Park Rules  Water Conservation  \\\n",
       "Zip                                                               \n",
       "10000.0   0.070175                 0.070175            0.000000   \n",
       "10001.0   0.007468                 0.000732            0.000732   \n",
       "10002.0   0.002394                 0.001242            0.000887   \n",
       "10003.0   0.004792                 0.002218            0.001065   \n",
       "10004.0   0.010390                 0.013636            0.000000   \n",
       "\n",
       "Complain  Water Quality  Water System  Window Guard  X-Ray Machine/Equipment  \n",
       "Zip                                                                           \n",
       "10000.0        0.000000      0.000000           0.0                      0.0  \n",
       "10001.0        0.000293      0.053595           0.0                      0.0  \n",
       "10002.0        0.000621      0.028734           0.0                      0.0  \n",
       "10003.0        0.000444      0.028219           0.0                      0.0  \n",
       "10004.0        0.000000      0.024026           0.0                      0.0  \n",
       "\n",
       "[5 rows x 162 columns]"
      ]
     },
     "execution_count": 89,
     "metadata": {},
     "output_type": "execute_result"
    }
   ],
   "source": [
    "data311.head()"
   ]
  },
  {
   "cell_type": "markdown",
   "metadata": {},
   "source": [
    "#### Q1. Run linear regression 'sale_price ~ gross_sq_feet+land_sq_feet+year_built' over the training data"
   ]
  },
  {
   "cell_type": "code",
   "execution_count": 90,
   "metadata": {},
   "outputs": [],
   "source": [
    "lm = smf.ols(formula = 'sale_price ~ gross_sq_feet+land_sq_feet+year_built', data = REsample1).fit()"
   ]
  },
  {
   "cell_type": "markdown",
   "metadata": {},
   "source": [
    "#### Q2. Add 311 data corresponding to the zip code of the house location to REsample1,2,3 \n",
    "in order to characterize the house's neighborhood by merging the dataframes REsample1,2,3 with data311 by zip code. Name merged dataframes REsample1_311, REsample2_311, REsample3_311 \n",
    "rename 311 columns to F1,F2,... for easier formulae engineering\n",
    "but keep the original names as a dictionary {'F1':'APPLIANCE', ...}"
   ]
  },
  {
   "cell_type": "code",
   "execution_count": 91,
   "metadata": {
    "scrolled": true
   },
   "outputs": [],
   "source": [
    "dictionary = {}\n",
    "for i, c in enumerate(data311.columns):\n",
    "    F_curr = 'F'+ str(i+1)\n",
    "    data311.rename(columns={c:F_curr},inplace=True)\n",
    "    dictionary[F_curr] = c"
   ]
  },
  {
   "cell_type": "code",
   "execution_count": 92,
   "metadata": {},
   "outputs": [],
   "source": [
    "REsample1_311 = pd.merge(REsample1, data311, left_on='zip_code', right_on=data311.index)\n",
    "REsample2_311 = pd.merge(REsample2, data311, left_on='zip_code', right_on=data311.index)\n",
    "REsample3_311 = pd.merge(REsample3, data311, left_on='zip_code', right_on=data311.index)"
   ]
  },
  {
   "cell_type": "code",
   "execution_count": 93,
   "metadata": {},
   "outputs": [
    {
     "name": "stdout",
     "output_type": "stream",
     "text": [
      "Help on function merge in module pandas.core.reshape.merge:\n",
      "\n",
      "merge(left, right, how='inner', on=None, left_on=None, right_on=None, left_index=False, right_index=False, sort=False, suffixes=('_x', '_y'), copy=True, indicator=False, validate=None)\n",
      "    Merge DataFrame or named Series objects with a database-style join.\n",
      "    \n",
      "    The join is done on columns or indexes. If joining columns on\n",
      "    columns, the DataFrame indexes *will be ignored*. Otherwise if joining indexes\n",
      "    on indexes or indexes on a column or columns, the index will be passed on.\n",
      "    \n",
      "    Parameters\n",
      "    ----------\n",
      "    left : DataFrame\n",
      "    right : DataFrame or named Series\n",
      "        Object to merge with.\n",
      "    how : {'left', 'right', 'outer', 'inner'}, default 'inner'\n",
      "        Type of merge to be performed.\n",
      "    \n",
      "        * left: use only keys from left frame, similar to a SQL left outer join;\n",
      "          preserve key order.\n",
      "        * right: use only keys from right frame, similar to a SQL right outer join;\n",
      "          preserve key order.\n",
      "        * outer: use union of keys from both frames, similar to a SQL full outer\n",
      "          join; sort keys lexicographically.\n",
      "        * inner: use intersection of keys from both frames, similar to a SQL inner\n",
      "          join; preserve the order of the left keys.\n",
      "    on : label or list\n",
      "        Column or index level names to join on. These must be found in both\n",
      "        DataFrames. If `on` is None and not merging on indexes then this defaults\n",
      "        to the intersection of the columns in both DataFrames.\n",
      "    left_on : label or list, or array-like\n",
      "        Column or index level names to join on in the left DataFrame. Can also\n",
      "        be an array or list of arrays of the length of the left DataFrame.\n",
      "        These arrays are treated as if they are columns.\n",
      "    right_on : label or list, or array-like\n",
      "        Column or index level names to join on in the right DataFrame. Can also\n",
      "        be an array or list of arrays of the length of the right DataFrame.\n",
      "        These arrays are treated as if they are columns.\n",
      "    left_index : bool, default False\n",
      "        Use the index from the left DataFrame as the join key(s). If it is a\n",
      "        MultiIndex, the number of keys in the other DataFrame (either the index\n",
      "        or a number of columns) must match the number of levels.\n",
      "    right_index : bool, default False\n",
      "        Use the index from the right DataFrame as the join key. Same caveats as\n",
      "        left_index.\n",
      "    sort : bool, default False\n",
      "        Sort the join keys lexicographically in the result DataFrame. If False,\n",
      "        the order of the join keys depends on the join type (how keyword).\n",
      "    suffixes : tuple of (str, str), default ('_x', '_y')\n",
      "        Suffix to apply to overlapping column names in the left and right\n",
      "        side, respectively. To raise an exception on overlapping columns use\n",
      "        (False, False).\n",
      "    copy : bool, default True\n",
      "        If False, avoid copy if possible.\n",
      "    indicator : bool or str, default False\n",
      "        If True, adds a column to output DataFrame called \"_merge\" with\n",
      "        information on the source of each row.\n",
      "        If string, column with information on source of each row will be added to\n",
      "        output DataFrame, and column will be named value of string.\n",
      "        Information column is Categorical-type and takes on a value of \"left_only\"\n",
      "        for observations whose merge key only appears in 'left' DataFrame,\n",
      "        \"right_only\" for observations whose merge key only appears in 'right'\n",
      "        DataFrame, and \"both\" if the observation's merge key is found in both.\n",
      "    \n",
      "    validate : str, optional\n",
      "        If specified, checks if merge is of specified type.\n",
      "    \n",
      "        * \"one_to_one\" or \"1:1\": check if merge keys are unique in both\n",
      "          left and right datasets.\n",
      "        * \"one_to_many\" or \"1:m\": check if merge keys are unique in left\n",
      "          dataset.\n",
      "        * \"many_to_one\" or \"m:1\": check if merge keys are unique in right\n",
      "          dataset.\n",
      "        * \"many_to_many\" or \"m:m\": allowed, but does not result in checks.\n",
      "    \n",
      "        .. versionadded:: 0.21.0\n",
      "    \n",
      "    Returns\n",
      "    -------\n",
      "    DataFrame\n",
      "        A DataFrame of the two merged objects.\n",
      "    \n",
      "    See Also\n",
      "    --------\n",
      "    merge_ordered : Merge with optional filling/interpolation.\n",
      "    merge_asof : Merge on nearest keys.\n",
      "    DataFrame.join : Similar method using indices.\n",
      "    \n",
      "    Notes\n",
      "    -----\n",
      "    Support for specifying index levels as the `on`, `left_on`, and\n",
      "    `right_on` parameters was added in version 0.23.0\n",
      "    Support for merging named Series objects was added in version 0.24.0\n",
      "    \n",
      "    Examples\n",
      "    --------\n",
      "    \n",
      "    >>> df1 = pd.DataFrame({'lkey': ['foo', 'bar', 'baz', 'foo'],\n",
      "    ...                     'value': [1, 2, 3, 5]})\n",
      "    >>> df2 = pd.DataFrame({'rkey': ['foo', 'bar', 'baz', 'foo'],\n",
      "    ...                     'value': [5, 6, 7, 8]})\n",
      "    >>> df1\n",
      "        lkey value\n",
      "    0   foo      1\n",
      "    1   bar      2\n",
      "    2   baz      3\n",
      "    3   foo      5\n",
      "    >>> df2\n",
      "        rkey value\n",
      "    0   foo      5\n",
      "    1   bar      6\n",
      "    2   baz      7\n",
      "    3   foo      8\n",
      "    \n",
      "    Merge df1 and df2 on the lkey and rkey columns. The value columns have\n",
      "    the default suffixes, _x and _y, appended.\n",
      "    \n",
      "    >>> df1.merge(df2, left_on='lkey', right_on='rkey')\n",
      "      lkey  value_x rkey  value_y\n",
      "    0  foo        1  foo        5\n",
      "    1  foo        1  foo        8\n",
      "    2  foo        5  foo        5\n",
      "    3  foo        5  foo        8\n",
      "    4  bar        2  bar        6\n",
      "    5  baz        3  baz        7\n",
      "    \n",
      "    Merge DataFrames df1 and df2 with specified left and right suffixes\n",
      "    appended to any overlapping columns.\n",
      "    \n",
      "    >>> df1.merge(df2, left_on='lkey', right_on='rkey',\n",
      "    ...           suffixes=('_left', '_right'))\n",
      "      lkey  value_left rkey  value_right\n",
      "    0  foo           1  foo            5\n",
      "    1  foo           1  foo            8\n",
      "    2  foo           5  foo            5\n",
      "    3  foo           5  foo            8\n",
      "    4  bar           2  bar            6\n",
      "    5  baz           3  baz            7\n",
      "    \n",
      "    Merge DataFrames df1 and df2, but raise an exception if the DataFrames have\n",
      "    any overlapping columns.\n",
      "    \n",
      "    >>> df1.merge(df2, left_on='lkey', right_on='rkey', suffixes=(False, False))\n",
      "    Traceback (most recent call last):\n",
      "    ...\n",
      "    ValueError: columns overlap but no suffix specified:\n",
      "        Index(['value'], dtype='object')\n",
      "\n"
     ]
    }
   ],
   "source": [
    "help(pd.merge)"
   ]
  },
  {
   "cell_type": "markdown",
   "metadata": {},
   "source": [
    "#### Q3. Run the linear model with 311\n",
    "Train the model over the training sample REsample1_311 and test over the test sample REsample3_311,\n",
    "report training and test R2"
   ]
  },
  {
   "cell_type": "code",
   "execution_count": 94,
   "metadata": {
    "scrolled": false
   },
   "outputs": [
    {
     "data": {
      "text/plain": [
       "'sale_price ~ gross_sq_feet+land_sq_feet+year_built+F1+F2+F3+F4+F5+F6+F7+F8+F9+F10+F11+F12+F13+F14+F15+F16+F17+F18+F19+F20+F21+F22+F23+F24+F25+F26+F27+F28+F29+F30+F31+F32+F33+F34+F35+F36+F37+F38+F39+F40+F41+F42+F43+F44+F45+F46+F47+F48+F49+F50+F51+F52+F53+F54+F55+F56+F57+F58+F59+F60+F61+F62+F63+F64+F65+F66+F67+F68+F69+F70+F71+F72+F73+F74+F75+F76+F77+F78+F79+F80+F81+F82+F83+F84+F85+F86+F87+F88+F89+F90+F91+F92+F93+F94+F95+F96+F97+F98+F99+F100+F101+F102+F103+F104+F105+F106+F107+F108+F109+F110+F111+F112+F113+F114+F115+F116+F117+F118+F119+F120+F121+F122+F123+F124+F125+F126+F127+F128+F129+F130+F131+F132+F133+F134+F135+F136+F137+F138+F139+F140+F141+F142+F143+F144+F145+F146+F147+F148+F149+F150+F151+F152+F153+F154+F155+F156+F157+F158+F159+F160+F161+F162'"
      ]
     },
     "execution_count": 94,
     "metadata": {},
     "output_type": "execute_result"
    }
   ],
   "source": [
    "formula = 'sale_price ~ gross_sq_feet+land_sq_feet+year_built+F'+'+F'.join([str(p) for p in range(1,len(dictionary)+1)])\n",
    "formula"
   ]
  },
  {
   "cell_type": "code",
   "execution_count": 95,
   "metadata": {
    "scrolled": true
   },
   "outputs": [
    {
     "name": "stdout",
     "output_type": "stream",
     "text": [
      "                            OLS Regression Results                            \n",
      "==============================================================================\n",
      "Dep. Variable:             sale_price   R-squared:                       0.448\n",
      "Model:                            OLS   Adj. R-squared:                  0.433\n",
      "Method:                 Least Squares   F-statistic:                     30.23\n",
      "Date:                Mon, 18 Nov 2019   Prob (F-statistic):               0.00\n",
      "Time:                        10:01:27   Log-Likelihood:                -85271.\n",
      "No. Observations:                5710   AIC:                         1.708e+05\n",
      "Df Residuals:                    5560   BIC:                         1.718e+05\n",
      "Df Model:                         149                                         \n",
      "Covariance Type:            nonrobust                                         \n",
      "=================================================================================\n",
      "                    coef    std err          t      P>|t|      [0.025      0.975]\n",
      "---------------------------------------------------------------------------------\n",
      "Intercept     -1.873e+08    6.1e+07     -3.071      0.002   -3.07e+08   -6.77e+07\n",
      "gross_sq_feet   160.0441     14.642     10.931      0.000     131.340     188.748\n",
      "land_sq_feet      7.1463      4.080      1.751      0.080      -0.853      15.145\n",
      "year_built      -48.2619    538.026     -0.090      0.929   -1103.003    1006.480\n",
      "F1             1.711e+08   1.74e+08      0.982      0.326   -1.71e+08    5.13e+08\n",
      "F2            -4.882e+09   1.92e+09     -2.545      0.011   -8.64e+09   -1.12e+09\n",
      "F3             2.114e+08   1.27e+08      1.666      0.096   -3.74e+07     4.6e+08\n",
      "F4             5.596e+08   2.19e+08      2.556      0.011     1.3e+08    9.89e+08\n",
      "F5             -6.37e+07    1.3e+09     -0.049      0.961   -2.61e+09    2.48e+09\n",
      "F6            -1.763e+08   1.18e+08     -1.489      0.137   -4.08e+08    5.58e+07\n",
      "F7             3.628e+07   3.25e+08      0.112      0.911   -6.01e+08    6.73e+08\n",
      "F8            -3.062e+08   4.36e+08     -0.703      0.482   -1.16e+09    5.48e+08\n",
      "F9            -2.971e+09   8.72e+08     -3.406      0.001   -4.68e+09   -1.26e+09\n",
      "F10            8.015e+08   1.11e+09      0.722      0.470   -1.37e+09    2.98e+09\n",
      "F11           -2.458e+08   4.98e+08     -0.493      0.622   -1.22e+09    7.31e+08\n",
      "F12            1.835e+08   6.03e+07      3.044      0.002    6.53e+07    3.02e+08\n",
      "F13            6.783e+08   3.66e+08      1.853      0.064   -3.94e+07     1.4e+09\n",
      "F14            2.666e+09   2.02e+09      1.317      0.188    -1.3e+09    6.63e+09\n",
      "F15            2.736e+08    7.9e+08      0.346      0.729   -1.28e+09    1.82e+09\n",
      "F16            2.075e+08   5.34e+07      3.884      0.000    1.03e+08    3.12e+08\n",
      "F17            8.798e+08   8.32e+08      1.057      0.290   -7.51e+08    2.51e+09\n",
      "F18            4.354e+09   2.71e+09      1.605      0.109   -9.65e+08    9.67e+09\n",
      "F19            1.935e+08   6.12e+07      3.163      0.002    7.35e+07    3.13e+08\n",
      "F20            2.458e+08   2.31e+08      1.063      0.288   -2.07e+08    6.99e+08\n",
      "F21            3.304e+08   3.08e+08      1.071      0.284   -2.74e+08    9.35e+08\n",
      "F22            8.023e+08   3.17e+09      0.253      0.800   -5.41e+09    7.01e+09\n",
      "F23            1.709e+09   8.06e+08      2.121      0.034    1.29e+08    3.29e+09\n",
      "F24           -6.473e+08   1.24e+09     -0.521      0.602   -3.08e+09    1.79e+09\n",
      "F25            1.463e+08   6.73e+07      2.175      0.030    1.44e+07    2.78e+08\n",
      "F26            2.024e+08   8.09e+07      2.501      0.012    4.37e+07    3.61e+08\n",
      "F27           -1.356e+09   6.72e+08     -2.018      0.044   -2.67e+09   -3.88e+07\n",
      "F28            1.988e+08   1.94e+08      1.023      0.306   -1.82e+08     5.8e+08\n",
      "F29            6.696e+08   2.94e+08      2.278      0.023    9.33e+07    1.25e+09\n",
      "F30            1.215e+09   8.42e+08      1.443      0.149   -4.36e+08    2.87e+09\n",
      "F31            1.584e+08   5.51e+07      2.876      0.004    5.04e+07    2.66e+08\n",
      "F32            1.768e+08   7.33e+07      2.413      0.016    3.32e+07     3.2e+08\n",
      "F33            1.508e+07    3.2e+08      0.047      0.962   -6.12e+08    6.42e+08\n",
      "F34            2.122e+08   7.59e+07      2.798      0.005    6.35e+07    3.61e+08\n",
      "F35            2.066e+08   6.55e+07      3.153      0.002    7.81e+07    3.35e+08\n",
      "F36            2.034e+08   6.17e+07      3.298      0.001    8.25e+07    3.24e+08\n",
      "F37           -2.068e+08   3.54e+08     -0.585      0.559      -9e+08    4.86e+08\n",
      "F38           -3.658e+08   2.81e+08     -1.300      0.194   -9.18e+08    1.86e+08\n",
      "F39           -1.429e+09   1.02e+09     -1.395      0.163   -3.44e+09    5.79e+08\n",
      "F40            4.757e+08   4.81e+08      0.989      0.323   -4.67e+08    1.42e+09\n",
      "F41            2.205e+08   6.83e+07      3.229      0.001    8.66e+07    3.54e+08\n",
      "F42           -3.055e+07   1.74e+08     -0.176      0.860   -3.71e+08     3.1e+08\n",
      "F43             2.31e+08   1.02e+08      2.255      0.024    3.02e+07    4.32e+08\n",
      "F44           -5.298e+08    4.5e+08     -1.178      0.239   -1.41e+09    3.52e+08\n",
      "F45           -2.832e+09   3.62e+09     -0.782      0.434   -9.93e+09    4.26e+09\n",
      "F46           -2.352e+09   1.76e+09     -1.336      0.181    -5.8e+09     1.1e+09\n",
      "F47            8.452e+08   1.08e+09      0.782      0.434   -1.27e+09    2.96e+09\n",
      "F48           -7.878e+08   6.28e+08     -1.254      0.210   -2.02e+09    4.44e+08\n",
      "F49           -3.633e+09   1.78e+09     -2.041      0.041   -7.12e+09   -1.43e+08\n",
      "F50            1.443e+08   1.63e+08      0.884      0.377   -1.76e+08    4.64e+08\n",
      "F51            1.416e+08   1.54e+08      0.920      0.358    -1.6e+08    4.43e+08\n",
      "F52           -1.017e+08   2.54e+08     -0.400      0.689      -6e+08    3.96e+08\n",
      "F53           -1.025e+08   1.42e+08     -0.724      0.469    -3.8e+08    1.75e+08\n",
      "F54            6.753e+08   1.53e+09      0.443      0.658   -2.31e+09    3.67e+09\n",
      "F55           -2.747e+08   1.89e+08     -1.451      0.147   -6.46e+08    9.64e+07\n",
      "F56            1.859e+08   6.74e+07      2.757      0.006    5.37e+07    3.18e+08\n",
      "F57            2.312e+08   7.63e+07      3.029      0.002    8.15e+07    3.81e+08\n",
      "F58            1.408e+08   5.12e+07      2.750      0.006    4.05e+07    2.41e+08\n",
      "F59            1.836e+08   6.07e+07      3.025      0.002    6.46e+07    3.03e+08\n",
      "F60            1.308e+09   6.94e+08      1.883      0.060   -5.36e+07    2.67e+09\n",
      "F61            1.432e+08   1.53e+08      0.934      0.350   -1.57e+08    4.44e+08\n",
      "F62           -8.821e+08   3.41e+09     -0.258      0.796   -7.57e+09    5.81e+09\n",
      "F63            4.977e+08   1.46e+08      3.412      0.001    2.12e+08    7.84e+08\n",
      "F64           -4.506e+08   1.83e+09     -0.247      0.805   -4.03e+09    3.13e+09\n",
      "F65           -1.985e+09   2.53e+09     -0.786      0.432   -6.94e+09    2.97e+09\n",
      "F66           -7.462e+09   3.14e+09     -2.377      0.017   -1.36e+10   -1.31e+09\n",
      "F67            2.246e+08   3.61e+08      0.622      0.534   -4.83e+08    9.32e+08\n",
      "F68            6.189e+08   4.54e+08      1.362      0.173   -2.72e+08    1.51e+09\n",
      "F69            1.672e+09   7.33e+08      2.281      0.023    2.35e+08    3.11e+09\n",
      "F70            1.763e+09   1.18e+09      1.493      0.135   -5.52e+08    4.08e+09\n",
      "F71            1.166e+09   1.14e+09      1.023      0.306   -1.07e+09     3.4e+09\n",
      "F72            1.605e+08   5.49e+07      2.921      0.004    5.28e+07    2.68e+08\n",
      "F73            6.611e+07   1.54e+08      0.430      0.667   -2.35e+08    3.67e+08\n",
      "F74            3.069e+08   1.65e+08      1.858      0.063   -1.69e+07    6.31e+08\n",
      "F75           -4.614e+08   2.22e+08     -2.075      0.038   -8.97e+08   -2.54e+07\n",
      "F76            2.732e+08   1.95e+08      1.400      0.162   -1.09e+08    6.56e+08\n",
      "F77           -1.144e+08   3.21e+08     -0.356      0.722   -7.44e+08    5.15e+08\n",
      "F78            1.129e+08   2.37e+08      0.475      0.634   -3.53e+08    5.78e+08\n",
      "F79           -2.381e+09   3.84e+09     -0.620      0.535   -9.91e+09    5.15e+09\n",
      "F80           -2.996e+09   2.52e+09     -1.191      0.234   -7.93e+09    1.94e+09\n",
      "F81            3.647e-05   5.85e-05      0.624      0.533   -7.82e-05       0.000\n",
      "F82            9.491e+07   1.62e+08      0.586      0.558   -2.23e+08    4.13e+08\n",
      "F83            2.385e+08   7.28e+07      3.277      0.001    9.58e+07    3.81e+08\n",
      "F84            6.613e+08   4.41e+08      1.500      0.134   -2.03e+08    1.53e+09\n",
      "F85            1.807e+08   7.82e+07      2.312      0.021    2.75e+07    3.34e+08\n",
      "F86            8.238e+07    6.9e+08      0.119      0.905   -1.27e+09    1.44e+09\n",
      "F87            5.004e+08   7.35e+08      0.681      0.496   -9.41e+08    1.94e+09\n",
      "F88            1.355e+08   5.43e+07      2.495      0.013     2.9e+07    2.42e+08\n",
      "F89            1.833e+08   6.58e+07      2.784      0.005    5.42e+07    3.12e+08\n",
      "F90            2.283e+08   7.31e+07      3.123      0.002     8.5e+07    3.72e+08\n",
      "F91             4.76e+08    1.6e+08      2.982      0.003    1.63e+08    7.89e+08\n",
      "F92            5.758e+08   2.91e+08      1.981      0.048    6.05e+06    1.15e+09\n",
      "F93            4.223e+08   1.14e+08      3.714      0.000    1.99e+08    6.45e+08\n",
      "F94            1.938e+08   6.13e+07      3.160      0.002    7.36e+07    3.14e+08\n",
      "F95            1.503e+08   5.65e+07      2.660      0.008    3.95e+07    2.61e+08\n",
      "F96            1.448e+08   3.17e+08      0.457      0.648   -4.77e+08    7.66e+08\n",
      "F97           -5.548e+09   2.57e+09     -2.155      0.031   -1.06e+10      -5e+08\n",
      "F98            5.009e+08   1.73e+08      2.900      0.004    1.62e+08    8.39e+08\n",
      "F99            5.052e+08   1.35e+08      3.741      0.000     2.4e+08     7.7e+08\n",
      "F100           1.914e+08    5.6e+07      3.419      0.001    8.17e+07    3.01e+08\n",
      "F101           2.136e+08   6.82e+07      3.132      0.002    7.99e+07    3.47e+08\n",
      "F102           9.722e+08   2.56e+08      3.795      0.000     4.7e+08    1.47e+09\n",
      "F103           1.798e+08   5.68e+07      3.167      0.002    6.85e+07    2.91e+08\n",
      "F104           1.078e+09   2.97e+08      3.635      0.000    4.97e+08    1.66e+09\n",
      "F105           2.983e+07   7.31e+07      0.408      0.683   -1.13e+08    1.73e+08\n",
      "F106           4.477e+08   1.51e+08      2.957      0.003    1.51e+08    7.45e+08\n",
      "F107             1.6e+08   9.48e+08      0.169      0.866    -1.7e+09    2.02e+09\n",
      "F108          -6.421e+08   4.23e+09     -0.152      0.879   -8.93e+09    7.64e+09\n",
      "F109          -9.348e+08   7.45e+08     -1.255      0.209   -2.39e+09    5.25e+08\n",
      "F110           8.483e+08   2.11e+09      0.401      0.688    -3.3e+09    4.99e+09\n",
      "F111          -2.578e+08   7.64e+08     -0.338      0.736   -1.75e+09    1.24e+09\n",
      "F112          -1.402e+08   7.33e+08     -0.191      0.848   -1.58e+09     1.3e+09\n",
      "F113          -1.467e+09   2.08e+09     -0.706      0.480   -5.54e+09     2.6e+09\n",
      "F114          -7.334e+08    1.9e+09     -0.386      0.700   -4.46e+09    2.99e+09\n",
      "F115           2.684e+09   3.77e+09      0.712      0.476    -4.7e+09    1.01e+10\n",
      "F116          -5.785e+08   3.79e+08     -1.526      0.127   -1.32e+09    1.65e+08\n",
      "F117           2.046e+08   8.51e+07      2.405      0.016    3.78e+07    3.71e+08\n",
      "F118           1.571e+08   7.42e+07      2.119      0.034    1.17e+07    3.03e+08\n",
      "F119          -4.662e+06   1.87e+08     -0.025      0.980   -3.71e+08    3.62e+08\n",
      "F120          -3.204e+09    2.5e+09     -1.279      0.201   -8.11e+09    1.71e+09\n",
      "F121           1.552e+08    7.7e+07      2.015      0.044    4.17e+06    3.06e+08\n",
      "F122          -5.266e+08   9.44e+08     -0.558      0.577   -2.38e+09    1.32e+09\n",
      "F123           5.967e+08   2.01e+08      2.975      0.003    2.04e+08     9.9e+08\n",
      "F124          -1.377e+08   5.94e+08     -0.232      0.817    -1.3e+09    1.03e+09\n",
      "F125           1.817e+08   6.18e+07      2.940      0.003    6.05e+07    3.03e+08\n",
      "F126           2.725e+08   1.67e+08      1.634      0.102   -5.43e+07    5.99e+08\n",
      "F127            1.63e+07   1.83e+08      0.089      0.929   -3.42e+08    3.74e+08\n",
      "F128           1.675e+08   2.79e+08      0.601      0.548   -3.79e+08    7.14e+08\n",
      "F129           1.901e+08   1.34e+08      1.418      0.156   -7.28e+07    4.53e+08\n",
      "F130           1.146e+09   5.45e+08      2.102      0.036     7.7e+07    2.22e+09\n",
      "F131           2.637e+08   1.94e+08      1.358      0.174   -1.17e+08    6.44e+08\n",
      "F132           1.962e+09   1.66e+09      1.181      0.238   -1.29e+09    5.22e+09\n",
      "F133          -2.142e+09   3.59e+09     -0.597      0.550   -9.18e+09    4.89e+09\n",
      "F134           3.532e+08   2.23e+09      0.158      0.874   -4.02e+09    4.72e+09\n",
      "F135           8.862e+07   1.99e+08      0.446      0.656   -3.01e+08    4.78e+08\n",
      "F136          -1.824e+09   4.47e+09     -0.408      0.683   -1.06e+10    6.94e+09\n",
      "F137           1.666e+08   5.52e+07      3.018      0.003    5.84e+07    2.75e+08\n",
      "F138           2.021e+08   6.35e+07      3.181      0.001    7.76e+07    3.27e+08\n",
      "F139           1.913e+08   8.51e+07      2.248      0.025    2.45e+07    3.58e+08\n",
      "F140           3.161e+08   1.94e+08      1.627      0.104   -6.47e+07    6.97e+08\n",
      "F141           3.252e+08   9.71e+07      3.349      0.001    1.35e+08    5.16e+08\n",
      "F142          -3.336e+09   3.59e+09     -0.930      0.352   -1.04e+10    3.69e+09\n",
      "F143           3.846e+08   1.82e+08      2.107      0.035    2.68e+07    7.42e+08\n",
      "F144           1.603e+08   7.83e+08      0.205      0.838   -1.38e+09     1.7e+09\n",
      "F145           1.949e+08   6.72e+07      2.899      0.004    6.31e+07    3.27e+08\n",
      "F146           3.405e+08   2.09e+08      1.629      0.103   -6.94e+07     7.5e+08\n",
      "F147             1.8e+08   5.72e+07      3.148      0.002    6.79e+07    2.92e+08\n",
      "F148           6.993e+09    3.8e+09      1.842      0.066   -4.49e+08    1.44e+10\n",
      "F149          -4.732e+08   3.04e+09     -0.156      0.876   -6.42e+09    5.48e+09\n",
      "F150          -8.675e+08   4.43e+08     -1.958      0.050   -1.74e+09    1.23e+06\n",
      "F151            1.12e+07   5.88e+08      0.019      0.985   -1.14e+09    1.16e+09\n",
      "F152            1.49e+08   1.96e+08      0.761      0.447   -2.35e+08    5.33e+08\n",
      "F153          -8.247e+07   6.28e+08     -0.131      0.896   -1.31e+09    1.15e+09\n",
      "F154          -1.228e+09   8.19e+08     -1.500      0.134   -2.83e+09    3.77e+08\n",
      "F155           2.671e+08   1.02e+08      2.617      0.009     6.7e+07    4.67e+08\n",
      "F156           4.085e+08   1.41e+08      2.887      0.004    1.31e+08    6.86e+08\n",
      "F157           2.609e+08   1.96e+08      1.332      0.183   -1.23e+08    6.45e+08\n",
      "F158            3.09e+08   9.36e+07      3.302      0.001    1.26e+08    4.93e+08\n",
      "F159           1.348e+09   3.11e+08      4.327      0.000    7.37e+08    1.96e+09\n",
      "F160           1.819e+08   6.37e+07      2.854      0.004    5.69e+07    3.07e+08\n",
      "F161           3.744e+09   1.55e+09      2.412      0.016       7e+08    6.79e+09\n",
      "F162           5.046e+08   1.33e+09      0.380      0.704    -2.1e+09    3.11e+09\n",
      "==============================================================================\n",
      "Omnibus:                     8298.035   Durbin-Watson:                   2.391\n",
      "Prob(Omnibus):                  0.000   Jarque-Bera (JB):         12324629.952\n",
      "Skew:                           8.102   Prob(JB):                         0.00\n",
      "Kurtosis:                     230.024   Cond. No.                     1.18e+16\n",
      "==============================================================================\n",
      "\n",
      "Warnings:\n",
      "[1] Standard Errors assume that the covariance matrix of the errors is correctly specified.\n",
      "[2] The smallest eigenvalue is 1.1e-21. This might indicate that there are\n",
      "strong multicollinearity problems or that the design matrix is singular.\n"
     ]
    }
   ],
   "source": [
    "lm2 = smf.ols(formula = formula, data = REsample1_311).fit()\n",
    "print(lm2.summary())"
   ]
  },
  {
   "cell_type": "code",
   "execution_count": 96,
   "metadata": {},
   "outputs": [
    {
     "name": "stdout",
     "output_type": "stream",
     "text": [
      "The training R2 is: 0.44755585866664527\n",
      "The test R2 is: 0.2788057468106786\n"
     ]
    }
   ],
   "source": [
    "r2_train = r2_score(REsample1_311.sale_price,lm2.predict(REsample1_311))\n",
    "r2_test = r2_score(REsample3_311.sale_price,lm2.predict(REsample3_311))\n",
    "print('The training R2 is: {}'.format(r2_train))\n",
    "print('The test R2 is: {}'.format(r2_test))"
   ]
  },
  {
   "cell_type": "markdown",
   "metadata": {},
   "source": [
    "#### Q4. Apply regularization\n",
    "Train Ridge and Lasso over REsample1_311 with an arbitrary default parameter $\\alpha=1$.\n",
    "Then evaluate their out-of-sample performance over REsample3_311\n",
    "Make sure to scale the features in all three samples first, learning the scaler over the training sample"
   ]
  },
  {
   "cell_type": "code",
   "execution_count": 97,
   "metadata": {},
   "outputs": [],
   "source": [
    "columns = []\n",
    "for i in dictionary:\n",
    "    columns.append(i)\n",
    "#Extract the features we are going to use\n",
    "columns.append('gross_sq_feet')\n",
    "columns.append('land_sq_feet')\n",
    "columns.append('year_built')"
   ]
  },
  {
   "cell_type": "code",
   "execution_count": 98,
   "metadata": {},
   "outputs": [],
   "source": [
    "mu=REsample1_311[columns].mean()\n",
    "sigma=REsample1_311[columns].std()"
   ]
  },
  {
   "cell_type": "code",
   "execution_count": 123,
   "metadata": {},
   "outputs": [],
   "source": [
    "Scaled1_311=(REsample1_311[columns]-mu)/sigma\n",
    "Scaled2_311=(REsample2_311[columns]-mu)/sigma\n",
    "Scaled3_311=(REsample3_311[columns]-mu)/sigma"
   ]
  },
  {
   "cell_type": "code",
   "execution_count": 128,
   "metadata": {},
   "outputs": [],
   "source": [
    "Scaled1_311 = Scaled1_311.dropna(axis=1,how='any')\n",
    "Scaled2_311 = Scaled2_311.dropna(axis=1,how='any')\n",
    "Scaled3_311 = Scaled3_311.dropna(axis=1,how='any')"
   ]
  },
  {
   "cell_type": "code",
   "execution_count": 129,
   "metadata": {
    "scrolled": true
   },
   "outputs": [
    {
     "name": "stdout",
     "output_type": "stream",
     "text": [
      "False\n",
      "True\n"
     ]
    }
   ],
   "source": [
    "print(np.any(np.isnan(Scaled1_311)))\n",
    "print(np.all(np.isfinite(Scaled1_311)))"
   ]
  },
  {
   "cell_type": "code",
   "execution_count": 126,
   "metadata": {},
   "outputs": [
    {
     "data": {
      "text/html": [
       "<div>\n",
       "<style scoped>\n",
       "    .dataframe tbody tr th:only-of-type {\n",
       "        vertical-align: middle;\n",
       "    }\n",
       "\n",
       "    .dataframe tbody tr th {\n",
       "        vertical-align: top;\n",
       "    }\n",
       "\n",
       "    .dataframe thead th {\n",
       "        text-align: right;\n",
       "    }\n",
       "</style>\n",
       "<table border=\"1\" class=\"dataframe\">\n",
       "  <thead>\n",
       "    <tr style=\"text-align: right;\">\n",
       "      <th></th>\n",
       "      <th>F1</th>\n",
       "      <th>F2</th>\n",
       "      <th>F3</th>\n",
       "      <th>F4</th>\n",
       "      <th>F5</th>\n",
       "      <th>F6</th>\n",
       "      <th>F7</th>\n",
       "      <th>F8</th>\n",
       "      <th>F9</th>\n",
       "      <th>F10</th>\n",
       "      <th>...</th>\n",
       "      <th>F156</th>\n",
       "      <th>F157</th>\n",
       "      <th>F158</th>\n",
       "      <th>F159</th>\n",
       "      <th>F160</th>\n",
       "      <th>F161</th>\n",
       "      <th>F162</th>\n",
       "      <th>gross_sq_feet</th>\n",
       "      <th>land_sq_feet</th>\n",
       "      <th>year_built</th>\n",
       "    </tr>\n",
       "  </thead>\n",
       "  <tbody>\n",
       "    <tr>\n",
       "      <td>0</td>\n",
       "      <td>3.536481</td>\n",
       "      <td>-0.33729</td>\n",
       "      <td>-0.349858</td>\n",
       "      <td>2.023700</td>\n",
       "      <td>-0.484463</td>\n",
       "      <td>-0.288680</td>\n",
       "      <td>-1.027910</td>\n",
       "      <td>-0.246486</td>\n",
       "      <td>-0.599716</td>\n",
       "      <td>-0.300726</td>\n",
       "      <td>...</td>\n",
       "      <td>-0.453754</td>\n",
       "      <td>-0.174600</td>\n",
       "      <td>-0.719157</td>\n",
       "      <td>-1.423825</td>\n",
       "      <td>-0.937235</td>\n",
       "      <td>-0.278540</td>\n",
       "      <td>-0.208687</td>\n",
       "      <td>-0.363210</td>\n",
       "      <td>-0.511639</td>\n",
       "      <td>-1.670001</td>\n",
       "    </tr>\n",
       "    <tr>\n",
       "      <td>1</td>\n",
       "      <td>3.536481</td>\n",
       "      <td>-0.33729</td>\n",
       "      <td>-0.349858</td>\n",
       "      <td>2.023700</td>\n",
       "      <td>-0.484463</td>\n",
       "      <td>-0.288680</td>\n",
       "      <td>-1.027910</td>\n",
       "      <td>-0.246486</td>\n",
       "      <td>-0.599716</td>\n",
       "      <td>-0.300726</td>\n",
       "      <td>...</td>\n",
       "      <td>-0.453754</td>\n",
       "      <td>-0.174600</td>\n",
       "      <td>-0.719157</td>\n",
       "      <td>-1.423825</td>\n",
       "      <td>-0.937235</td>\n",
       "      <td>-0.278540</td>\n",
       "      <td>-0.208687</td>\n",
       "      <td>0.250513</td>\n",
       "      <td>0.027231</td>\n",
       "      <td>-1.593465</td>\n",
       "    </tr>\n",
       "    <tr>\n",
       "      <td>2</td>\n",
       "      <td>3.536481</td>\n",
       "      <td>-0.33729</td>\n",
       "      <td>-0.349858</td>\n",
       "      <td>2.023700</td>\n",
       "      <td>-0.484463</td>\n",
       "      <td>-0.288680</td>\n",
       "      <td>-1.027910</td>\n",
       "      <td>-0.246486</td>\n",
       "      <td>-0.599716</td>\n",
       "      <td>-0.300726</td>\n",
       "      <td>...</td>\n",
       "      <td>-0.453754</td>\n",
       "      <td>-0.174600</td>\n",
       "      <td>-0.719157</td>\n",
       "      <td>-1.423825</td>\n",
       "      <td>-0.937235</td>\n",
       "      <td>-0.278540</td>\n",
       "      <td>-0.208687</td>\n",
       "      <td>-0.156854</td>\n",
       "      <td>-0.377085</td>\n",
       "      <td>-1.249051</td>\n",
       "    </tr>\n",
       "    <tr>\n",
       "      <td>3</td>\n",
       "      <td>3.536481</td>\n",
       "      <td>-0.33729</td>\n",
       "      <td>-0.349858</td>\n",
       "      <td>2.023700</td>\n",
       "      <td>-0.484463</td>\n",
       "      <td>-0.288680</td>\n",
       "      <td>-1.027910</td>\n",
       "      <td>-0.246486</td>\n",
       "      <td>-0.599716</td>\n",
       "      <td>-0.300726</td>\n",
       "      <td>...</td>\n",
       "      <td>-0.453754</td>\n",
       "      <td>-0.174600</td>\n",
       "      <td>-0.719157</td>\n",
       "      <td>-1.423825</td>\n",
       "      <td>-0.937235</td>\n",
       "      <td>-0.278540</td>\n",
       "      <td>-0.208687</td>\n",
       "      <td>0.065541</td>\n",
       "      <td>-0.377085</td>\n",
       "      <td>-1.440392</td>\n",
       "    </tr>\n",
       "    <tr>\n",
       "      <td>4</td>\n",
       "      <td>1.569431</td>\n",
       "      <td>-0.33729</td>\n",
       "      <td>-0.401531</td>\n",
       "      <td>3.711176</td>\n",
       "      <td>0.104541</td>\n",
       "      <td>-0.408331</td>\n",
       "      <td>0.379982</td>\n",
       "      <td>0.276196</td>\n",
       "      <td>-0.599716</td>\n",
       "      <td>-0.300726</td>\n",
       "      <td>...</td>\n",
       "      <td>-0.589710</td>\n",
       "      <td>-0.453153</td>\n",
       "      <td>-0.082645</td>\n",
       "      <td>-0.750009</td>\n",
       "      <td>-0.155079</td>\n",
       "      <td>1.146794</td>\n",
       "      <td>-0.208687</td>\n",
       "      <td>0.052710</td>\n",
       "      <td>-0.594794</td>\n",
       "      <td>0.090336</td>\n",
       "    </tr>\n",
       "    <tr>\n",
       "      <td>...</td>\n",
       "      <td>...</td>\n",
       "      <td>...</td>\n",
       "      <td>...</td>\n",
       "      <td>...</td>\n",
       "      <td>...</td>\n",
       "      <td>...</td>\n",
       "      <td>...</td>\n",
       "      <td>...</td>\n",
       "      <td>...</td>\n",
       "      <td>...</td>\n",
       "      <td>...</td>\n",
       "      <td>...</td>\n",
       "      <td>...</td>\n",
       "      <td>...</td>\n",
       "      <td>...</td>\n",
       "      <td>...</td>\n",
       "      <td>...</td>\n",
       "      <td>...</td>\n",
       "      <td>...</td>\n",
       "      <td>...</td>\n",
       "      <td>...</td>\n",
       "    </tr>\n",
       "    <tr>\n",
       "      <td>5705</td>\n",
       "      <td>-1.017304</td>\n",
       "      <td>5.69253</td>\n",
       "      <td>0.169526</td>\n",
       "      <td>-0.239723</td>\n",
       "      <td>6.448176</td>\n",
       "      <td>-0.671732</td>\n",
       "      <td>0.203779</td>\n",
       "      <td>-0.833108</td>\n",
       "      <td>1.703905</td>\n",
       "      <td>-0.300726</td>\n",
       "      <td>...</td>\n",
       "      <td>-0.352911</td>\n",
       "      <td>-0.527248</td>\n",
       "      <td>0.890945</td>\n",
       "      <td>-0.012120</td>\n",
       "      <td>0.658919</td>\n",
       "      <td>-0.278540</td>\n",
       "      <td>-0.208687</td>\n",
       "      <td>-0.983348</td>\n",
       "      <td>0.165386</td>\n",
       "      <td>-0.866369</td>\n",
       "    </tr>\n",
       "    <tr>\n",
       "      <td>5706</td>\n",
       "      <td>-1.017304</td>\n",
       "      <td>5.69253</td>\n",
       "      <td>0.169526</td>\n",
       "      <td>-0.239723</td>\n",
       "      <td>6.448176</td>\n",
       "      <td>-0.671732</td>\n",
       "      <td>0.203779</td>\n",
       "      <td>-0.833108</td>\n",
       "      <td>1.703905</td>\n",
       "      <td>-0.300726</td>\n",
       "      <td>...</td>\n",
       "      <td>-0.352911</td>\n",
       "      <td>-0.527248</td>\n",
       "      <td>0.890945</td>\n",
       "      <td>-0.012120</td>\n",
       "      <td>0.658919</td>\n",
       "      <td>-0.278540</td>\n",
       "      <td>-0.208687</td>\n",
       "      <td>0.562720</td>\n",
       "      <td>-0.278871</td>\n",
       "      <td>2.042014</td>\n",
       "    </tr>\n",
       "    <tr>\n",
       "      <td>5707</td>\n",
       "      <td>-1.017304</td>\n",
       "      <td>5.69253</td>\n",
       "      <td>0.169526</td>\n",
       "      <td>-0.239723</td>\n",
       "      <td>6.448176</td>\n",
       "      <td>-0.671732</td>\n",
       "      <td>0.203779</td>\n",
       "      <td>-0.833108</td>\n",
       "      <td>1.703905</td>\n",
       "      <td>-0.300726</td>\n",
       "      <td>...</td>\n",
       "      <td>-0.352911</td>\n",
       "      <td>-0.527248</td>\n",
       "      <td>0.890945</td>\n",
       "      <td>-0.012120</td>\n",
       "      <td>0.658919</td>\n",
       "      <td>-0.278540</td>\n",
       "      <td>-0.208687</td>\n",
       "      <td>-0.482961</td>\n",
       "      <td>0.141815</td>\n",
       "      <td>-1.593465</td>\n",
       "    </tr>\n",
       "    <tr>\n",
       "      <td>5708</td>\n",
       "      <td>-1.017304</td>\n",
       "      <td>5.69253</td>\n",
       "      <td>0.169526</td>\n",
       "      <td>-0.239723</td>\n",
       "      <td>6.448176</td>\n",
       "      <td>-0.671732</td>\n",
       "      <td>0.203779</td>\n",
       "      <td>-0.833108</td>\n",
       "      <td>1.703905</td>\n",
       "      <td>-0.300726</td>\n",
       "      <td>...</td>\n",
       "      <td>-0.352911</td>\n",
       "      <td>-0.527248</td>\n",
       "      <td>0.890945</td>\n",
       "      <td>-0.012120</td>\n",
       "      <td>0.658919</td>\n",
       "      <td>-0.278540</td>\n",
       "      <td>-0.208687</td>\n",
       "      <td>-0.346103</td>\n",
       "      <td>0.580506</td>\n",
       "      <td>-1.440392</td>\n",
       "    </tr>\n",
       "    <tr>\n",
       "      <td>5709</td>\n",
       "      <td>-1.017304</td>\n",
       "      <td>5.69253</td>\n",
       "      <td>0.169526</td>\n",
       "      <td>-0.239723</td>\n",
       "      <td>6.448176</td>\n",
       "      <td>-0.671732</td>\n",
       "      <td>0.203779</td>\n",
       "      <td>-0.833108</td>\n",
       "      <td>1.703905</td>\n",
       "      <td>-0.300726</td>\n",
       "      <td>...</td>\n",
       "      <td>-0.352911</td>\n",
       "      <td>-0.527248</td>\n",
       "      <td>0.890945</td>\n",
       "      <td>-0.012120</td>\n",
       "      <td>0.658919</td>\n",
       "      <td>-0.278540</td>\n",
       "      <td>-0.208687</td>\n",
       "      <td>-0.393148</td>\n",
       "      <td>0.629614</td>\n",
       "      <td>-1.593465</td>\n",
       "    </tr>\n",
       "  </tbody>\n",
       "</table>\n",
       "<p>5710 rows × 164 columns</p>\n",
       "</div>"
      ],
      "text/plain": [
       "            F1       F2        F3        F4        F5        F6        F7  \\\n",
       "0     3.536481 -0.33729 -0.349858  2.023700 -0.484463 -0.288680 -1.027910   \n",
       "1     3.536481 -0.33729 -0.349858  2.023700 -0.484463 -0.288680 -1.027910   \n",
       "2     3.536481 -0.33729 -0.349858  2.023700 -0.484463 -0.288680 -1.027910   \n",
       "3     3.536481 -0.33729 -0.349858  2.023700 -0.484463 -0.288680 -1.027910   \n",
       "4     1.569431 -0.33729 -0.401531  3.711176  0.104541 -0.408331  0.379982   \n",
       "...        ...      ...       ...       ...       ...       ...       ...   \n",
       "5705 -1.017304  5.69253  0.169526 -0.239723  6.448176 -0.671732  0.203779   \n",
       "5706 -1.017304  5.69253  0.169526 -0.239723  6.448176 -0.671732  0.203779   \n",
       "5707 -1.017304  5.69253  0.169526 -0.239723  6.448176 -0.671732  0.203779   \n",
       "5708 -1.017304  5.69253  0.169526 -0.239723  6.448176 -0.671732  0.203779   \n",
       "5709 -1.017304  5.69253  0.169526 -0.239723  6.448176 -0.671732  0.203779   \n",
       "\n",
       "            F8        F9       F10  ...      F156      F157      F158  \\\n",
       "0    -0.246486 -0.599716 -0.300726  ... -0.453754 -0.174600 -0.719157   \n",
       "1    -0.246486 -0.599716 -0.300726  ... -0.453754 -0.174600 -0.719157   \n",
       "2    -0.246486 -0.599716 -0.300726  ... -0.453754 -0.174600 -0.719157   \n",
       "3    -0.246486 -0.599716 -0.300726  ... -0.453754 -0.174600 -0.719157   \n",
       "4     0.276196 -0.599716 -0.300726  ... -0.589710 -0.453153 -0.082645   \n",
       "...        ...       ...       ...  ...       ...       ...       ...   \n",
       "5705 -0.833108  1.703905 -0.300726  ... -0.352911 -0.527248  0.890945   \n",
       "5706 -0.833108  1.703905 -0.300726  ... -0.352911 -0.527248  0.890945   \n",
       "5707 -0.833108  1.703905 -0.300726  ... -0.352911 -0.527248  0.890945   \n",
       "5708 -0.833108  1.703905 -0.300726  ... -0.352911 -0.527248  0.890945   \n",
       "5709 -0.833108  1.703905 -0.300726  ... -0.352911 -0.527248  0.890945   \n",
       "\n",
       "          F159      F160      F161      F162  gross_sq_feet  land_sq_feet  \\\n",
       "0    -1.423825 -0.937235 -0.278540 -0.208687      -0.363210     -0.511639   \n",
       "1    -1.423825 -0.937235 -0.278540 -0.208687       0.250513      0.027231   \n",
       "2    -1.423825 -0.937235 -0.278540 -0.208687      -0.156854     -0.377085   \n",
       "3    -1.423825 -0.937235 -0.278540 -0.208687       0.065541     -0.377085   \n",
       "4    -0.750009 -0.155079  1.146794 -0.208687       0.052710     -0.594794   \n",
       "...        ...       ...       ...       ...            ...           ...   \n",
       "5705 -0.012120  0.658919 -0.278540 -0.208687      -0.983348      0.165386   \n",
       "5706 -0.012120  0.658919 -0.278540 -0.208687       0.562720     -0.278871   \n",
       "5707 -0.012120  0.658919 -0.278540 -0.208687      -0.482961      0.141815   \n",
       "5708 -0.012120  0.658919 -0.278540 -0.208687      -0.346103      0.580506   \n",
       "5709 -0.012120  0.658919 -0.278540 -0.208687      -0.393148      0.629614   \n",
       "\n",
       "      year_built  \n",
       "0      -1.670001  \n",
       "1      -1.593465  \n",
       "2      -1.249051  \n",
       "3      -1.440392  \n",
       "4       0.090336  \n",
       "...          ...  \n",
       "5705   -0.866369  \n",
       "5706    2.042014  \n",
       "5707   -1.593465  \n",
       "5708   -1.440392  \n",
       "5709   -1.593465  \n",
       "\n",
       "[5710 rows x 164 columns]"
      ]
     },
     "execution_count": 126,
     "metadata": {},
     "output_type": "execute_result"
    }
   ],
   "source": [
    "Scaled1_311"
   ]
  },
  {
   "cell_type": "code",
   "execution_count": 30,
   "metadata": {
    "scrolled": true
   },
   "outputs": [],
   "source": [
    "#X_scale = preprocessing.scale(REsample1_311[columns])\n",
    "#X_scale_valid = preprocessing.scale(REsample2_311[columns])\n",
    "#X_scale_test = preprocessing.scale(REsample3_311[columns])\n",
    "# Scale the features in all three samples"
   ]
  },
  {
   "cell_type": "code",
   "execution_count": 127,
   "metadata": {},
   "outputs": [],
   "source": [
    "Ridge=linear_model.Ridge(fit_intercept=True, alpha=1).fit(Scaled1_311, REsample1_311['sale_price'])"
   ]
  },
  {
   "cell_type": "code",
   "execution_count": 130,
   "metadata": {
    "scrolled": true
   },
   "outputs": [
    {
     "name": "stdout",
     "output_type": "stream",
     "text": [
      "The Ridge training R2 is: 0.44741272142935196\n",
      "The Ridge out-of-sample R2 is: 0.2794473888029133\n"
     ]
    }
   ],
   "source": [
    "r2_train = r2_score(REsample1_311.sale_price,Ridge.predict(Scaled1_311))\n",
    "r2_test = r2_score(REsample3_311.sale_price,Ridge.predict(Scaled3_311))\n",
    "print('The Ridge training R2 is: {}'.format(r2_train))\n",
    "print('The Ridge out-of-sample R2 is: {}'.format(r2_test))"
   ]
  },
  {
   "cell_type": "code",
   "execution_count": 131,
   "metadata": {},
   "outputs": [],
   "source": [
    "Lasso=linear_model.Lasso(fit_intercept=True, alpha=1).fit(Scaled1_311, REsample1_311['sale_price'])"
   ]
  },
  {
   "cell_type": "code",
   "execution_count": 133,
   "metadata": {
    "scrolled": true
   },
   "outputs": [
    {
     "name": "stdout",
     "output_type": "stream",
     "text": [
      "The Lasso training R2 is: 0.44708565171129644\n",
      "The Lasso out-of-sample R2 is: 0.2739233665343517\n"
     ]
    }
   ],
   "source": [
    "r2_train = r2_score(REsample1_311.sale_price,Lasso.predict(Scaled1_311))\n",
    "r2_test = r2_score(REsample3_311.sale_price,Lasso.predict(Scaled3_311))\n",
    "print('The Lasso training R2 is: {}'.format(r2_train))\n",
    "print('The Lasso out-of-sample R2 is: {}'.format(r2_test))"
   ]
  },
  {
   "cell_type": "code",
   "execution_count": 35,
   "metadata": {},
   "outputs": [],
   "source": [
    "# This is because we haven't tune the hyperparameters so the performancs look bad. "
   ]
  },
  {
   "cell_type": "markdown",
   "metadata": {},
   "source": [
    "#### Q5. Perform parameter selection for Lasso and Ridge over validation sample\n",
    "try exponential range -exp(10)...exp(20) with 100 values in it\n",
    "\n",
    "Visualize the validation R2 vs alpha\n",
    "\n",
    "For the optimal alpha evaluate performance of the models over the test set"
   ]
  },
  {
   "cell_type": "code",
   "execution_count": 36,
   "metadata": {},
   "outputs": [],
   "source": [
    "def Regularization_fit_alpha(model,X_train,y_train,X_valid,y_valid,alphas,Graph=False, logl=False):\n",
    "    #model = 1-Ridge, 2-Lasso\n",
    "    #aplhas: a list of aplha values to try\n",
    "    #Graph: plot the graph of R^2 values for different alpha\n",
    "\n",
    "    R_2_OS=[] #out of sample R2's\n",
    "    \n",
    "    #initialize the model to use for each given alpha\n",
    "    if model==1:\n",
    "        RM = lambda a: linear_model.Ridge(fit_intercept=True, alpha=a)\n",
    "        model_label='Ridge'\n",
    "    else:\n",
    "        RM = lambda a: linear_model.Lasso(fit_intercept=True, alpha=a)\n",
    "        model_label='Lasso'\n",
    "    \n",
    "    best_R2 = -1\n",
    "    best_alpha = alphas[0]\n",
    "    best_coefs = []\n",
    "    \n",
    "    for a in alphas: #for all alphas to try\n",
    "        lm = RM(a) #assign the model\n",
    "        lm.fit(X_train,y_train)  #fit the regularization model\n",
    "        y_predict=lm.predict(X_valid) #compute the prediction for the validation sample \n",
    "        R_2_OS_=r2_score(y_valid,y_predict)\n",
    "        R_2_OS.append(R_2_OS_)\n",
    "        if R_2_OS_ > best_R2: #if current OS R2 is the best - update the best solution\n",
    "            best_R2 = R_2_OS_\n",
    "            best_alpha = a\n",
    "            best_coefs = lm.coef_\n",
    "    \n",
    "    if Graph==True: #visualization of the performance depending on alpha\n",
    "        plt.title('OS-R-squared for different Alpha')\n",
    "        if logl: #log-scale\n",
    "            plt.xlabel('ln(Alpha)')\n",
    "            l=np.log(alphas)\n",
    "            bl=np.log(best_alpha)\n",
    "        else:\n",
    "            plt.xlabel('Alpha')\n",
    "            l=alphas\n",
    "            bl=best_alpha\n",
    "        plt.ylim((-0.1,1))\n",
    "        plt.plot(l,R_2_OS,'b',label=model_label)\n",
    "        plt.legend(loc='upper right')\n",
    "        plt.ylabel('R-squared')\n",
    "        plt.axvline(bl,color='r',linestyle='--')\n",
    "\n",
    "        plt.show()\n",
    "    \n",
    "    return [best_alpha,best_R2,best_coefs]"
   ]
  },
  {
   "cell_type": "code",
   "execution_count": 134,
   "metadata": {
    "scrolled": true
   },
   "outputs": [
    {
     "data": {
      "image/png": "[encoded data removed]",
      "text/plain": [
       "<Figure size 432x288 with 1 Axes>"
      ]
     },
     "metadata": {
      "needs_background": "light"
     },
     "output_type": "display_data"
    },
    {
     "name": "stdout",
     "output_type": "stream",
     "text": [
      "Optimal alpha for Lasso=12015.339377705404, best OS R_2=0.3032249454510386\n"
     ]
    },
    {
     "data": {
      "text/plain": [
       "array([     0.        ,     -0.        ,      0.        ,     -0.        ,\n",
       "            0.        , -31524.9303307 , -13573.22996516,      0.        ,\n",
       "           -0.        ,  51258.75812469,     -0.        ,     -0.        ,\n",
       "            0.        ,   4406.80280829,      0.        ,  66505.16034734,\n",
       "           -0.        ,  32398.55351521,     -0.        ,      0.        ,\n",
       "        -8476.27935265,  -4232.54634622,  10358.01806462,  13747.00748937,\n",
       "            0.        ,     -0.        , -18653.1556221 ,     -0.        ,\n",
       "       396307.79281935,     -0.        ,      0.        ,     -0.        ,\n",
       "       -16807.99332919,     -0.        ,     -0.        ,  14553.08222383,\n",
       "           -0.        ,     -0.        ,      0.        , -86980.27863359,\n",
       "            0.        ,  -9073.81149679,      0.        ,     -0.        ,\n",
       "        -4852.62442359,     -0.        ,     -0.        , -47231.814818  ,\n",
       "           -0.        ,      0.        ,      0.        ,     -0.        ,\n",
       "           -0.        ,      0.        ,      0.        ,     -0.        ,\n",
       "       -11945.80447278,      0.        ,     -0.        ,      0.        ,\n",
       "           -0.        ,     -0.        ,      0.        ,      0.        ,\n",
       "       -15083.9725022 ,     -0.        ,      0.        ,      0.        ,\n",
       "            0.        ,      0.        ,      0.        ,     -0.        ,\n",
       "            0.        ,      0.        ,     -0.        ,     -0.        ,\n",
       "           -0.        ,   2672.09077201,   3833.54658778,     -0.        ,\n",
       "        -8621.16536287,     -0.        ,  17879.7627236 ,     -0.        ,\n",
       "           -0.        , -23779.12552723,     -0.        ,  20730.16678362,\n",
       "            0.        ,  46956.35772857,     -0.        ,      0.        ,\n",
       "         2182.21902136,      0.        ,  10945.62228099, -26218.49455661,\n",
       "       -33943.11285881,     -0.        ,     -0.        ,     -0.        ,\n",
       "            0.        ,      0.        ,     -0.        ,     -0.        ,\n",
       "           -0.        ,     -0.        ,     -0.        , -10816.30760878,\n",
       "        17658.89545455,  87115.5814711 , -21965.49528904,     -0.        ,\n",
       "           -0.        ,     -0.        ,     -0.        ,      0.        ,\n",
       "            0.        ,  -4320.66246488,      0.        ,     -0.        ,\n",
       "            0.        ,     -0.        ,     -0.        ,      0.        ,\n",
       "        99680.38822291,      0.        ,     -0.        ,     -0.        ,\n",
       "            0.        ,     -0.        , 130249.9122584 ,     -0.        ,\n",
       "           -0.        ,  -2324.62918296,  -1847.93123907,      0.        ,\n",
       "            0.        ,     -0.        ,     -0.        ,      0.        ,\n",
       "       -23002.55156576,      0.        ,  27948.33844921,      0.        ,\n",
       "           -0.        ,      0.        ,      0.        ,      0.        ,\n",
       "            0.        ,      0.        ,     -0.        ,     -0.        ,\n",
       "        16154.80217185,     -0.        ,  46567.33740731, -13068.9275591 ,\n",
       "           -0.        ,  17894.7199771 ,     -0.        ,      0.        ,\n",
       "           -0.        , 164545.400777  ,   5096.15736787,     -0.        ])"
      ]
     },
     "execution_count": 134,
     "metadata": {},
     "output_type": "execute_result"
    }
   ],
   "source": [
    "alphas = np.exp(np.linspace(-10,20,100)) #exponential range of possible alphas\n",
    "[alpha_optimal, best_R2, Lasso_coefs]=Regularization_fit_alpha(2,Scaled1_311,REsample1_311['sale_price'],Scaled2_311,REsample2_311['sale_price'],alphas,Graph=True,logl=True)\n",
    "print('Optimal alpha for Lasso={0}, best OS R_2={1}'.format(alpha_optimal,best_R2))\n",
    "Lasso_coefs"
   ]
  },
  {
   "cell_type": "code",
   "execution_count": 135,
   "metadata": {
    "scrolled": true
   },
   "outputs": [
    {
     "name": "stdout",
     "output_type": "stream",
     "text": [
      "The Lasso R2 performance over test set is: 0.36345312673345587\n"
     ]
    }
   ],
   "source": [
    "Lasso=linear_model.Lasso(fit_intercept=True, alpha=12015).fit(Scaled1_311, REsample1_311['sale_price'])\n",
    "r2_test = r2_score(REsample3_311.sale_price,Lasso.predict(Scaled3_311))\n",
    "print('The Lasso R2 performance over test set is: {}'.format(r2_test))"
   ]
  },
  {
   "cell_type": "code",
   "execution_count": 136,
   "metadata": {
    "scrolled": true
   },
   "outputs": [
    {
     "data": {
      "image/png": "[encoded data removed]",
      "text/plain": [
       "<Figure size 432x288 with 1 Axes>"
      ]
     },
     "metadata": {
      "needs_background": "light"
     },
     "output_type": "display_data"
    },
    {
     "name": "stdout",
     "output_type": "stream",
     "text": [
      "Optimal alpha for Ridge=1063.900307652953, best OS R_2=0.29180436975799307\n"
     ]
    },
    {
     "data": {
      "text/plain": [
       "array([-2.70886468e+03, -3.27258757e+04,  2.79304236e+04, -6.14420025e+03,\n",
       "        2.41471858e+04, -2.84444930e+04, -2.11305245e+04,  2.49063885e+04,\n",
       "       -3.26516268e+04,  5.25183009e+04, -1.29848997e+04, -3.85995945e+04,\n",
       "        7.38147025e+03,  2.19371590e+04, -5.69893776e+02,  8.68984267e+04,\n",
       "       -5.20890868e+03,  4.50370849e+04, -3.42193715e+03, -1.53242112e+04,\n",
       "       -2.74721964e+04, -1.28931626e+04,  2.58228901e+04,  1.15782206e+04,\n",
       "       -1.68173023e+04,  1.56987379e+02, -5.32932470e+04,  1.29677811e+03,\n",
       "        2.17438925e+05,  1.65667843e+04,  2.36671619e+03, -1.42600770e+04,\n",
       "       -7.26281584e+04,  2.05656352e+03, -1.33487960e+04,  3.28787549e+04,\n",
       "       -2.22476749e+04, -1.90634358e+04,  2.02744209e+04, -6.47019881e+04,\n",
       "        1.63233331e+04, -2.24224924e+04,  9.71072935e+03,  4.27063351e+03,\n",
       "       -3.04428806e+04, -2.75250921e+04, -4.59957443e+02, -5.45064619e+04,\n",
       "       -1.16489559e+04, -4.15647712e+03,  2.09767954e+04,  5.91597424e+03,\n",
       "       -4.50921465e+04,  5.08175637e+04, -6.41038984e+02, -1.06858339e+04,\n",
       "       -1.82164200e+04, -5.32983561e+03, -1.40680266e+04, -1.15313106e+04,\n",
       "       -8.42545640e+02, -9.62628055e+03,  3.23377612e+04,  1.81240037e+04,\n",
       "       -2.48396996e+04, -1.05159285e+04,  2.30889242e+04, -1.70633764e+04,\n",
       "        1.53764609e+04, -8.84193914e+03, -4.34269495e+03, -2.57205736e+04,\n",
       "        1.41624218e+04,  1.41028461e+04, -4.10025830e+03, -2.08046173e+04,\n",
       "       -9.94683017e+03,  5.56172888e+02,  2.27115554e+04, -2.10320766e+04,\n",
       "       -2.64617411e+04, -1.12853874e+04,  5.23513156e+04,  1.40282113e+03,\n",
       "       -3.14736723e+03, -3.47949426e+04, -1.35319646e+04,  7.53818688e+04,\n",
       "       -1.68669703e+03,  4.56240425e+04, -1.11580011e+04,  1.21715544e+04,\n",
       "        6.86831914e+03, -1.62466509e+04,  1.59493051e+04, -3.80008802e+04,\n",
       "       -2.01911752e+04, -4.19316406e+03, -2.47048611e+03, -5.08368217e+02,\n",
       "        8.93360842e+03,  7.80095897e+03,  4.74250165e+03, -1.74985793e+04,\n",
       "       -9.27993245e+03, -5.69908363e+03, -5.69208086e+03, -2.27212717e+04,\n",
       "        2.31303042e+04,  6.54628171e+04, -3.21230920e+04, -7.09114075e+03,\n",
       "       -1.66068410e+04, -7.85278115e+03,  8.38668821e+03,  1.55646140e+04,\n",
       "        6.30181614e+02, -6.34669254e+04, -1.31545009e+04, -1.18853295e+04,\n",
       "        6.69833293e+03, -6.83059960e+02,  5.19199271e+03, -4.25108444e+03,\n",
       "        1.30462193e+05,  1.83384066e+04, -8.47854638e+03, -3.53316324e+04,\n",
       "        7.17322760e+02, -3.72212988e+02,  8.96139421e+04, -1.18738643e+04,\n",
       "        6.39474785e+03, -2.50890375e+04, -1.71088131e+04,  2.20048399e+04,\n",
       "       -5.96055726e+03, -1.67570900e+04, -9.93420355e+03,  2.06793359e+03,\n",
       "       -3.44507618e+04,  1.85086791e+04,  3.22019912e+04,  4.26901699e+04,\n",
       "       -7.03511784e+01, -2.50938486e+03,  6.80888184e+03,  8.69482665e+03,\n",
       "        1.92213823e+04,  1.99851719e+04, -2.41843032e+04,  1.89837895e+03,\n",
       "        2.70765948e+04,  6.06982523e+03,  7.25837227e+04, -1.47898515e+04,\n",
       "       -8.88626697e+03,  3.33684651e+04, -1.64497997e+04,  1.21797023e+04,\n",
       "       -9.30277191e+03,  1.43614692e+05,  2.03293231e+04, -4.00155263e+03])"
      ]
     },
     "execution_count": 136,
     "metadata": {},
     "output_type": "execute_result"
    }
   ],
   "source": [
    "alphas = np.exp(np.linspace(-10,20,100)) #exponential range of possible alphas\n",
    "[alpha_optimal, best_R2, Ridge_coefs]=Regularization_fit_alpha(1,Scaled1_311,REsample1_311['sale_price'],Scaled2_311,REsample2_311['sale_price'],alphas,Graph=True,logl=True)\n",
    "print('Optimal alpha for Ridge={0}, best OS R_2={1}'.format(alpha_optimal,best_R2))\n",
    "Ridge_coefs"
   ]
  },
  {
   "cell_type": "code",
   "execution_count": 137,
   "metadata": {},
   "outputs": [
    {
     "name": "stdout",
     "output_type": "stream",
     "text": [
      "The Ridge R2 performance over test set is: 0.33994257204105227\n"
     ]
    }
   ],
   "source": [
    "Ridge=linear_model.Ridge(fit_intercept=True, alpha=1064).fit(Scaled1_311, REsample1_311['sale_price'])\n",
    "r2_test = r2_score(REsample3_311.sale_price,Ridge.predict(Scaled3_311))\n",
    "print('The Ridge R2 performance over test set is: {}'.format(r2_test))"
   ]
  },
  {
   "cell_type": "markdown",
   "metadata": {},
   "source": [
    "# Task 2. Model Mean income of the zip code population using 311 profile of the neighborhood"
   ]
  },
  {
   "cell_type": "code",
   "execution_count": 138,
   "metadata": {},
   "outputs": [
    {
     "data": {
      "text/html": [
       "<div>\n",
       "<style scoped>\n",
       "    .dataframe tbody tr th:only-of-type {\n",
       "        vertical-align: middle;\n",
       "    }\n",
       "\n",
       "    .dataframe tbody tr th {\n",
       "        vertical-align: top;\n",
       "    }\n",
       "\n",
       "    .dataframe thead th {\n",
       "        text-align: right;\n",
       "    }\n",
       "</style>\n",
       "<table border=\"1\" class=\"dataframe\">\n",
       "  <thead>\n",
       "    <tr style=\"text-align: right;\">\n",
       "      <th></th>\n",
       "      <th>Median</th>\n",
       "      <th>Mean</th>\n",
       "      <th>Pop</th>\n",
       "    </tr>\n",
       "    <tr>\n",
       "      <th>Zip</th>\n",
       "      <th></th>\n",
       "      <th></th>\n",
       "      <th></th>\n",
       "    </tr>\n",
       "  </thead>\n",
       "  <tbody>\n",
       "    <tr>\n",
       "      <td>1001</td>\n",
       "      <td>56662.5735</td>\n",
       "      <td>66687.7509</td>\n",
       "      <td>16445</td>\n",
       "    </tr>\n",
       "    <tr>\n",
       "      <td>1002</td>\n",
       "      <td>49853.4177</td>\n",
       "      <td>75062.6343</td>\n",
       "      <td>28069</td>\n",
       "    </tr>\n",
       "    <tr>\n",
       "      <td>1003</td>\n",
       "      <td>28462.0000</td>\n",
       "      <td>35121.0000</td>\n",
       "      <td>8491</td>\n",
       "    </tr>\n",
       "    <tr>\n",
       "      <td>1005</td>\n",
       "      <td>75423.0000</td>\n",
       "      <td>82442.0000</td>\n",
       "      <td>4798</td>\n",
       "    </tr>\n",
       "    <tr>\n",
       "      <td>1007</td>\n",
       "      <td>79076.3540</td>\n",
       "      <td>85801.9750</td>\n",
       "      <td>12962</td>\n",
       "    </tr>\n",
       "  </tbody>\n",
       "</table>\n",
       "</div>"
      ],
      "text/plain": [
       "          Median        Mean    Pop\n",
       "Zip                                \n",
       "1001  56662.5735  66687.7509  16445\n",
       "1002  49853.4177  75062.6343  28069\n",
       "1003  28462.0000  35121.0000   8491\n",
       "1005  75423.0000  82442.0000   4798\n",
       "1007  79076.3540  85801.9750  12962"
      ]
     },
     "execution_count": 138,
     "metadata": {},
     "output_type": "execute_result"
    }
   ],
   "source": [
    "#load the data\n",
    "dataIncome=pd.read_csv(folder+\"data/MeanZip.csv\",index_col=0)\n",
    "dataIncome=dataIncome.apply(pd.to_numeric, errors='coerce')\n",
    "dataIncome=dataIncome.loc[dataIncome.Mean>0]\n",
    "dataIncome.head()"
   ]
  },
  {
   "cell_type": "code",
   "execution_count": 139,
   "metadata": {},
   "outputs": [],
   "source": [
    "#split into training (1), validation (2) and test (3) samples\n",
    "np.random.seed(2018)\n",
    "splitind=np.random.uniform(size=len(dataIncome))\n",
    "dataIncome1=dataIncome.loc[splitind<=0.4]\n",
    "dataIncome2=dataIncome.loc[(splitind>0.4)&(splitind<0.7)]\n",
    "dataIncome3=dataIncome.loc[(splitind>=0.7)]"
   ]
  },
  {
   "cell_type": "markdown",
   "metadata": {},
   "source": [
    "#### Q1. Perform regularied regression of Mean income of the zip code vs its 311 profile \n",
    "Train Ridge and Lasso over dataIncome1 with an arbitrary default parameter $\\alpha=100$.\n",
    "Then evaluate their out-of-sample performance over dataIncome3\n",
    "Make sure to scale the features in all three samples first, learning the scaler over the training sample"
   ]
  },
  {
   "cell_type": "code",
   "execution_count": 152,
   "metadata": {},
   "outputs": [],
   "source": [
    "columns = data311.columns"
   ]
  },
  {
   "cell_type": "code",
   "execution_count": 153,
   "metadata": {},
   "outputs": [],
   "source": [
    "dataIncome1_311 = pd.merge(dataIncome1['Mean'], data311, left_on=dataIncome1.index, right_on=data311.index)\n",
    "dataIncome2_311 = pd.merge(dataIncome2['Mean'], data311, left_on=dataIncome2.index, right_on=data311.index)\n",
    "dataIncome3_311 = pd.merge(dataIncome3['Mean'], data311, left_on=dataIncome3.index, right_on=data311.index)"
   ]
  },
  {
   "cell_type": "code",
   "execution_count": 154,
   "metadata": {},
   "outputs": [],
   "source": [
    "dataIncome1_311 = dataIncome1_311.set_index('key_0')\n",
    "dataIncome2_311 = dataIncome2_311.set_index('key_0')\n",
    "dataIncome3_311 = dataIncome3_311.set_index('key_0')"
   ]
  },
  {
   "cell_type": "code",
   "execution_count": 156,
   "metadata": {},
   "outputs": [],
   "source": [
    "mu=dataIncome1_311[columns].mean()\n",
    "sigma=dataIncome1_311[columns].std()"
   ]
  },
  {
   "cell_type": "code",
   "execution_count": 157,
   "metadata": {},
   "outputs": [],
   "source": [
    "Scaled1_311=(dataIncome1_311[columns]-mu)/sigma\n",
    "Scaled2_311=(dataIncome2_311[columns]-mu)/sigma\n",
    "Scaled3_311=(dataIncome3_311[columns]-mu)/sigma"
   ]
  },
  {
   "cell_type": "code",
   "execution_count": 158,
   "metadata": {},
   "outputs": [],
   "source": [
    "Scaled1_311 = Scaled1_311.dropna(axis=1,how='any')\n",
    "Scaled2_311 = Scaled2_311.dropna(axis=1,how='any')\n",
    "Scaled3_311 = Scaled3_311.dropna(axis=1,how='any')"
   ]
  },
  {
   "cell_type": "code",
   "execution_count": 159,
   "metadata": {},
   "outputs": [
    {
     "name": "stdout",
     "output_type": "stream",
     "text": [
      "False\n",
      "True\n"
     ]
    }
   ],
   "source": [
    "print(np.any(np.isnan(Scaled1_311)))\n",
    "print(np.all(np.isfinite(Scaled1_311)))"
   ]
  },
  {
   "cell_type": "code",
   "execution_count": 45,
   "metadata": {},
   "outputs": [],
   "source": [
    "#X_scale = preprocessing.scale(dataIncome1_311[columns])\n",
    "#X_scale_valid = preprocessing.scale(dataIncome2_311[columns])\n",
    "#X_scale_test = preprocessing.scale(dataIncome3_311[columns])"
   ]
  },
  {
   "cell_type": "code",
   "execution_count": 160,
   "metadata": {},
   "outputs": [
    {
     "name": "stdout",
     "output_type": "stream",
     "text": [
      "The Ridge R2 performance over test set is: 0.20642956252228017\n"
     ]
    }
   ],
   "source": [
    "Ridge=linear_model.Ridge(fit_intercept=True, alpha=100).fit(Scaled1_311, dataIncome1_311['Mean'])\n",
    "r2_test = r2_score(dataIncome3_311.Mean,Ridge.predict(Scaled3_311))\n",
    "print('The Ridge R2 performance over test set is: {}'.format(r2_test))"
   ]
  },
  {
   "cell_type": "code",
   "execution_count": 161,
   "metadata": {},
   "outputs": [
    {
     "name": "stdout",
     "output_type": "stream",
     "text": [
      "The Lasso R2 performance over test set is: -0.7893104421955184\n"
     ]
    }
   ],
   "source": [
    "Lasso=linear_model.Lasso(fit_intercept=True, alpha=100).fit(Scaled1_311, dataIncome1_311['Mean'])\n",
    "r2_test = r2_score(dataIncome3_311.Mean,Lasso.predict(Scaled3_311))\n",
    "print('The Lasso R2 performance over test set is: {}'.format(r2_test))"
   ]
  },
  {
   "cell_type": "markdown",
   "metadata": {},
   "source": [
    "#### Q2. Perform parameter selection for Lasso and Ridge over validation sample\n",
    "try exponential range -exp(10)...exp(20) with 100 values in it\n",
    "\n",
    "Visualize the validation R2 vs alpha\n",
    "\n",
    "For the optimal alpha evaluate performance of the models over the test set. \n",
    "\n",
    "Why do you think performance does not look that good, especially for one of the models?"
   ]
  },
  {
   "cell_type": "code",
   "execution_count": 162,
   "metadata": {
    "scrolled": true
   },
   "outputs": [
    {
     "data": {
      "image/png": "[encoded data removed]",
      "text/plain": [
       "<Figure size 432x288 with 1 Axes>"
      ]
     },
     "metadata": {
      "needs_background": "light"
     },
     "output_type": "display_data"
    },
    {
     "name": "stdout",
     "output_type": "stream",
     "text": [
      "Optimal alpha for Lasso=2640.669807145078, best OS R_2=0.7142663458329066\n"
     ]
    },
    {
     "data": {
      "text/plain": [
       "array([   -0.        ,     0.        ,  4067.87136156,    -0.        ,\n",
       "           0.        ,     0.        ,     0.        ,    -0.        ,\n",
       "          -0.        ,    -0.        ,     0.        ,    -0.        ,\n",
       "           0.        ,     0.        ,    -0.        ,  6054.03937251,\n",
       "        -396.42977153,     0.        ,     0.        ,     0.        ,\n",
       "          -0.        ,     0.        , -1828.14054249,    -0.        ,\n",
       "           0.        ,    -0.        ,     0.        ,  -220.19047942,\n",
       "       15464.90471583,     0.        ,     0.        ,  3176.73200287,\n",
       "        1947.99428189,     0.        ,    -0.        ,     0.        ,\n",
       "           0.        ,    -0.        ,   456.34864406,     0.        ,\n",
       "        -525.4533753 ,     0.        ,    -0.        ,    -0.        ,\n",
       "           0.        ,     0.        ,     0.        ,     0.        ,\n",
       "       -2538.58533749,     0.        ,     0.        ,     0.        ,\n",
       "          -0.        ,     0.        ,    -0.        , -6504.63376017,\n",
       "           0.        ,    -0.        ,    -0.        ,    -0.        ,\n",
       "          -0.        , -3115.86747626,    -0.        ,    -0.        ,\n",
       "          -0.        ,     0.        ,     0.        ,     0.        ,\n",
       "         -25.99130612,    -0.        ,    -0.        ,     0.        ,\n",
       "           0.        ,     0.        ,    -0.        ,     0.        ,\n",
       "          -0.        ,     0.        ,    -0.        ,     0.        ,\n",
       "           0.        ,    -0.        ,    -0.        ,     0.        ,\n",
       "          -0.        ,    -0.        ,    -0.        ,  2457.12755045,\n",
       "           0.        ,  2900.40150598,    -0.        ,     0.        ,\n",
       "           0.        ,    -0.        ,    -0.        ,  1530.50218612,\n",
       "           0.        ,     0.        ,     0.        ,    -0.        ,\n",
       "          -0.        ,    -0.        ,     0.        ,    -0.        ,\n",
       "           0.        ,     0.        ,     0.        ,    -0.        ,\n",
       "           0.        ,     0.        ,     0.        ,    -0.        ,\n",
       "        1093.33033934,     0.        ,     0.        ,     0.        ,\n",
       "           0.        ,    -0.        ,     0.        ,    -0.        ,\n",
       "           0.        ,    -0.        ,  5569.09647813,    -0.        ,\n",
       "           0.        ,    -0.        ,     0.        ,  2315.56993501,\n",
       "           0.        ,    -0.        ,    -0.        ,     0.        ,\n",
       "          -0.        ,  4865.88351438,    -0.        ,    -0.        ,\n",
       "          -0.        ,     0.        ,     0.        ,    -0.        ,\n",
       "          -0.        ,     0.        ,     0.        , -3060.57176401,\n",
       "          -0.        ,    -0.        ,     0.        ,    -0.        ,\n",
       "          -0.        ,    -0.        ,     0.        ,     0.        ,\n",
       "        4425.09024241,     0.        ,     0.        ,     0.        ,\n",
       "           0.        ,    -0.        ,    -0.        ])"
      ]
     },
     "execution_count": 162,
     "metadata": {},
     "output_type": "execute_result"
    }
   ],
   "source": [
    "alphas = np.exp(np.linspace(-10,20,100)) #exponential range of possible alphas\n",
    "[alpha_optimal, best_R2, Lasso_coefs]=Regularization_fit_alpha(2,Scaled1_311, dataIncome1_311['Mean'],Scaled2_311,dataIncome2_311['Mean'],alphas,Graph=True,logl=True)\n",
    "print('Optimal alpha for Lasso={0}, best OS R_2={1}'.format(alpha_optimal,best_R2))\n",
    "Lasso_coefs"
   ]
  },
  {
   "cell_type": "code",
   "execution_count": 163,
   "metadata": {
    "scrolled": true
   },
   "outputs": [
    {
     "data": {
      "image/png": "[encoded data removed]",
      "text/plain": [
       "<Figure size 432x288 with 1 Axes>"
      ]
     },
     "metadata": {
      "needs_background": "light"
     },
     "output_type": "display_data"
    },
    {
     "name": "stdout",
     "output_type": "stream",
     "text": [
      "Optimal alpha for Ridge=4.5399929762484854e-05, best OS R_2=0.3968507094645841\n"
     ]
    },
    {
     "data": {
      "text/plain": [
       "array([ 1.56985493e+02,  7.65863605e+02,  5.26363453e+03,  1.50186629e+02,\n",
       "       -3.32085610e+02,  1.89243947e+03,  1.66072213e+03, -7.84758405e+02,\n",
       "       -6.66873511e+02, -1.80600411e+03, -2.70978135e+02,  5.88415029e+02,\n",
       "        3.23968297e+02,  3.17997607e+03, -1.23468346e+01,  3.19868460e+03,\n",
       "       -2.84077182e+03,  1.28062450e+03,  6.46867535e+02,  1.11683466e+03,\n",
       "       -2.16882221e+02,  8.48884434e+02, -3.37074815e+03,  1.07950906e+03,\n",
       "       -7.98440911e+02,  4.01280158e+00,  1.01301660e+03, -1.00211128e+03,\n",
       "        6.40301210e+03,  3.43142933e+02,  6.94731865e+02,  6.07327862e+02,\n",
       "        1.25191094e+03, -1.83261689e+03,  8.79873454e+02,  2.73718535e+03,\n",
       "        1.30481864e+03, -7.53286617e+02,  3.39685913e+03,  7.84885763e+02,\n",
       "       -1.47383769e+03,  7.56564039e+02, -3.89225196e+00,  3.99654496e+02,\n",
       "        3.53195035e+03,  1.43247733e+03,  1.54879379e+03,  1.28163983e+03,\n",
       "       -4.29644928e+03,  1.92037107e+02, -8.08492715e+02,  5.32908042e+02,\n",
       "       -1.00219876e+03,  1.45918721e+03,  1.94607888e+03, -3.14659772e+03,\n",
       "        1.72877248e+03, -8.79672870e+02, -1.33292018e+03, -1.26841508e+03,\n",
       "       -8.07168219e+02, -3.17015383e+03, -5.55297667e+02, -7.90780395e+01,\n",
       "        2.40392720e+03,  8.01955269e+01,  2.42135100e+03,  1.55187755e+02,\n",
       "       -1.27619741e+03,  1.08657322e+03, -2.66385827e+03, -2.16086799e+02,\n",
       "        1.75682147e+02,  1.46261168e+03,  7.30449839e+02,  1.10191577e+02,\n",
       "       -7.68140556e+02,  3.19747895e+03, -1.91188357e+03, -1.30759185e+02,\n",
       "       -1.93974333e+03,  1.94736276e+03,  4.29716479e+02, -9.84179209e+02,\n",
       "       -1.45178146e+03, -2.04930059e+03, -2.25762833e+03,  1.95413269e+03,\n",
       "        1.98807190e+03,  2.22940465e+03, -9.05485406e+02, -9.65744288e+02,\n",
       "       -2.45516626e+03, -1.99632591e+03, -3.25630525e+03,  4.91666542e+03,\n",
       "       -9.25268039e+02,  1.10442037e+03,  9.05051230e+02, -1.32714842e+03,\n",
       "       -7.61509927e+02, -1.05644105e+03,  1.70286321e+03,  3.90865810e+02,\n",
       "        1.10614486e+03,  1.71475436e+03, -1.00322412e+03, -2.20754909e+03,\n",
       "       -3.15343247e+02, -7.86023592e+02,  2.19786186e+03, -2.31733988e+03,\n",
       "       -6.07277385e+01,  1.17495262e+03,  5.44316143e+01,  1.42500384e+03,\n",
       "        1.14013557e+03, -7.93559804e+01,  2.41118867e+03, -1.77485085e+03,\n",
       "       -3.39938451e+02, -1.58271926e+03,  5.64536930e+03, -1.70393130e+03,\n",
       "        2.27576893e+03, -2.66966626e+03,  1.44123400e+03,  2.52340907e+03,\n",
       "        1.90257357e+03,  6.33324730e+02,  4.80481681e+02,  8.06920559e+02,\n",
       "       -1.74613358e+03,  4.08215724e+03, -2.24903729e+03, -5.98247492e+02,\n",
       "       -2.41586214e+02,  2.08266587e+03,  8.26622926e+02, -1.66293183e+03,\n",
       "       -4.10442759e+01,  1.76542943e+02,  1.17543815e+03, -3.60927877e+03,\n",
       "        8.94818844e+02, -2.84125093e+03, -8.14422722e+02, -6.40357805e+02,\n",
       "       -4.69956713e+02, -1.84353773e+02,  7.57997243e+02, -1.04082288e+03,\n",
       "        1.16629743e+03,  8.88349545e+02, -9.68065756e+02,  1.93872724e+03,\n",
       "       -1.96114163e+03,  2.13006866e+02, -7.83760498e+02])"
      ]
     },
     "execution_count": 163,
     "metadata": {},
     "output_type": "execute_result"
    }
   ],
   "source": [
    "alphas = np.exp(np.linspace(-10,20,100)) #exponential range of possible alphas\n",
    "[alpha_optimal, best_R2, Ridge_coefs]=Regularization_fit_alpha(1,Scaled1_311, dataIncome1_311['Mean'],Scaled2_311,dataIncome2_311['Mean'],alphas,Graph=True,logl=True)\n",
    "print('Optimal alpha for Ridge={0}, best OS R_2={1}'.format(alpha_optimal,best_R2))\n",
    "Ridge_coefs"
   ]
  },
  {
   "cell_type": "code",
   "execution_count": 164,
   "metadata": {},
   "outputs": [
    {
     "name": "stdout",
     "output_type": "stream",
     "text": [
      "The Ridge R2 performance over test set is: -0.2493625292175221\n",
      "The Lasso R2 performance over test set is: -0.8317432182107123\n"
     ]
    }
   ],
   "source": [
    "Ridge=linear_model.Ridge(fit_intercept=True, alpha=4.54).fit(Scaled1_311, dataIncome1_311['Mean'])\n",
    "r2_test = r2_score(dataIncome3_311.Mean,Ridge.predict(Scaled3_311))\n",
    "print('The Ridge R2 performance over test set is: {}'.format(r2_test))\n",
    "Lasso=linear_model.Lasso(fit_intercept=True, alpha=2640).fit(Scaled1_311, dataIncome1_311['Mean'])\n",
    "r2_test = r2_score(dataIncome3_311.Mean,Lasso.predict(Scaled3_311))\n",
    "print('The Lasso R2 performance over test set is: {}'.format(r2_test))"
   ]
  },
  {
   "cell_type": "markdown",
   "metadata": {},
   "source": [
    "Try to see if there is multicolinearity in the test set. Not obvious"
   ]
  },
  {
   "cell_type": "code",
   "execution_count": 165,
   "metadata": {
    "scrolled": false
   },
   "outputs": [
    {
     "data": {
      "text/html": [
       "<div>\n",
       "<style scoped>\n",
       "    .dataframe tbody tr th:only-of-type {\n",
       "        vertical-align: middle;\n",
       "    }\n",
       "\n",
       "    .dataframe tbody tr th {\n",
       "        vertical-align: top;\n",
       "    }\n",
       "\n",
       "    .dataframe thead th {\n",
       "        text-align: right;\n",
       "    }\n",
       "</style>\n",
       "<table border=\"1\" class=\"dataframe\">\n",
       "  <thead>\n",
       "    <tr style=\"text-align: right;\">\n",
       "      <th></th>\n",
       "      <th>Mean</th>\n",
       "      <th>F1</th>\n",
       "      <th>F2</th>\n",
       "      <th>F3</th>\n",
       "      <th>F4</th>\n",
       "      <th>F5</th>\n",
       "      <th>F6</th>\n",
       "      <th>F7</th>\n",
       "      <th>F8</th>\n",
       "      <th>F9</th>\n",
       "      <th>...</th>\n",
       "      <th>F153</th>\n",
       "      <th>F154</th>\n",
       "      <th>F155</th>\n",
       "      <th>F156</th>\n",
       "      <th>F157</th>\n",
       "      <th>F158</th>\n",
       "      <th>F159</th>\n",
       "      <th>F160</th>\n",
       "      <th>F161</th>\n",
       "      <th>F162</th>\n",
       "    </tr>\n",
       "  </thead>\n",
       "  <tbody>\n",
       "    <tr>\n",
       "      <td>Mean</td>\n",
       "      <td>1.000000</td>\n",
       "      <td>-0.601971</td>\n",
       "      <td>-0.048202</td>\n",
       "      <td>0.532607</td>\n",
       "      <td>-0.402385</td>\n",
       "      <td>0.203057</td>\n",
       "      <td>0.372221</td>\n",
       "      <td>0.528405</td>\n",
       "      <td>0.266587</td>\n",
       "      <td>-0.072493</td>\n",
       "      <td>...</td>\n",
       "      <td>0.158221</td>\n",
       "      <td>0.354994</td>\n",
       "      <td>-0.024897</td>\n",
       "      <td>0.352088</td>\n",
       "      <td>0.256317</td>\n",
       "      <td>0.075133</td>\n",
       "      <td>0.043574</td>\n",
       "      <td>0.243078</td>\n",
       "      <td>-0.273994</td>\n",
       "      <td>0.058128</td>\n",
       "    </tr>\n",
       "    <tr>\n",
       "      <td>F1</td>\n",
       "      <td>-0.601971</td>\n",
       "      <td>1.000000</td>\n",
       "      <td>-0.014424</td>\n",
       "      <td>-0.348764</td>\n",
       "      <td>0.640300</td>\n",
       "      <td>-0.093160</td>\n",
       "      <td>-0.229923</td>\n",
       "      <td>-0.186470</td>\n",
       "      <td>-0.285597</td>\n",
       "      <td>-0.221451</td>\n",
       "      <td>...</td>\n",
       "      <td>-0.204234</td>\n",
       "      <td>-0.191784</td>\n",
       "      <td>-0.034152</td>\n",
       "      <td>-0.213999</td>\n",
       "      <td>-0.058089</td>\n",
       "      <td>-0.259769</td>\n",
       "      <td>-0.316799</td>\n",
       "      <td>-0.368628</td>\n",
       "      <td>-0.161312</td>\n",
       "      <td>-0.068026</td>\n",
       "    </tr>\n",
       "    <tr>\n",
       "      <td>F2</td>\n",
       "      <td>-0.048202</td>\n",
       "      <td>-0.014424</td>\n",
       "      <td>1.000000</td>\n",
       "      <td>-0.048348</td>\n",
       "      <td>-0.001996</td>\n",
       "      <td>-0.052070</td>\n",
       "      <td>0.085858</td>\n",
       "      <td>0.023384</td>\n",
       "      <td>0.086132</td>\n",
       "      <td>0.008608</td>\n",
       "      <td>...</td>\n",
       "      <td>-0.222134</td>\n",
       "      <td>-0.129382</td>\n",
       "      <td>-0.124977</td>\n",
       "      <td>0.022471</td>\n",
       "      <td>0.104192</td>\n",
       "      <td>-0.122258</td>\n",
       "      <td>0.003528</td>\n",
       "      <td>0.205494</td>\n",
       "      <td>-0.070671</td>\n",
       "      <td>-0.060341</td>\n",
       "    </tr>\n",
       "    <tr>\n",
       "      <td>F3</td>\n",
       "      <td>0.532607</td>\n",
       "      <td>-0.348764</td>\n",
       "      <td>-0.048348</td>\n",
       "      <td>1.000000</td>\n",
       "      <td>-0.173581</td>\n",
       "      <td>0.017879</td>\n",
       "      <td>0.439399</td>\n",
       "      <td>0.208402</td>\n",
       "      <td>0.175102</td>\n",
       "      <td>0.228383</td>\n",
       "      <td>...</td>\n",
       "      <td>-0.071585</td>\n",
       "      <td>0.682985</td>\n",
       "      <td>-0.204477</td>\n",
       "      <td>0.848331</td>\n",
       "      <td>0.264867</td>\n",
       "      <td>-0.222348</td>\n",
       "      <td>-0.104439</td>\n",
       "      <td>-0.070727</td>\n",
       "      <td>-0.050493</td>\n",
       "      <td>-0.065086</td>\n",
       "    </tr>\n",
       "    <tr>\n",
       "      <td>F4</td>\n",
       "      <td>-0.402385</td>\n",
       "      <td>0.640300</td>\n",
       "      <td>-0.001996</td>\n",
       "      <td>-0.173581</td>\n",
       "      <td>1.000000</td>\n",
       "      <td>-0.078410</td>\n",
       "      <td>-0.088951</td>\n",
       "      <td>-0.168331</td>\n",
       "      <td>-0.045686</td>\n",
       "      <td>-0.120690</td>\n",
       "      <td>...</td>\n",
       "      <td>-0.252617</td>\n",
       "      <td>-0.079684</td>\n",
       "      <td>-0.110546</td>\n",
       "      <td>-0.079931</td>\n",
       "      <td>0.006769</td>\n",
       "      <td>-0.153126</td>\n",
       "      <td>-0.278043</td>\n",
       "      <td>-0.121076</td>\n",
       "      <td>-0.000942</td>\n",
       "      <td>-0.086349</td>\n",
       "    </tr>\n",
       "    <tr>\n",
       "      <td>...</td>\n",
       "      <td>...</td>\n",
       "      <td>...</td>\n",
       "      <td>...</td>\n",
       "      <td>...</td>\n",
       "      <td>...</td>\n",
       "      <td>...</td>\n",
       "      <td>...</td>\n",
       "      <td>...</td>\n",
       "      <td>...</td>\n",
       "      <td>...</td>\n",
       "      <td>...</td>\n",
       "      <td>...</td>\n",
       "      <td>...</td>\n",
       "      <td>...</td>\n",
       "      <td>...</td>\n",
       "      <td>...</td>\n",
       "      <td>...</td>\n",
       "      <td>...</td>\n",
       "      <td>...</td>\n",
       "      <td>...</td>\n",
       "      <td>...</td>\n",
       "    </tr>\n",
       "    <tr>\n",
       "      <td>F158</td>\n",
       "      <td>0.075133</td>\n",
       "      <td>-0.259769</td>\n",
       "      <td>-0.122258</td>\n",
       "      <td>-0.222348</td>\n",
       "      <td>-0.153126</td>\n",
       "      <td>0.041739</td>\n",
       "      <td>-0.229847</td>\n",
       "      <td>-0.111104</td>\n",
       "      <td>-0.211208</td>\n",
       "      <td>0.024240</td>\n",
       "      <td>...</td>\n",
       "      <td>0.151105</td>\n",
       "      <td>-0.176136</td>\n",
       "      <td>0.537375</td>\n",
       "      <td>-0.163842</td>\n",
       "      <td>-0.257707</td>\n",
       "      <td>1.000000</td>\n",
       "      <td>0.460432</td>\n",
       "      <td>0.506681</td>\n",
       "      <td>-0.100403</td>\n",
       "      <td>0.650785</td>\n",
       "    </tr>\n",
       "    <tr>\n",
       "      <td>F159</td>\n",
       "      <td>0.043574</td>\n",
       "      <td>-0.316799</td>\n",
       "      <td>0.003528</td>\n",
       "      <td>-0.104439</td>\n",
       "      <td>-0.278043</td>\n",
       "      <td>0.187256</td>\n",
       "      <td>-0.155010</td>\n",
       "      <td>0.038096</td>\n",
       "      <td>-0.106630</td>\n",
       "      <td>0.233771</td>\n",
       "      <td>...</td>\n",
       "      <td>0.353828</td>\n",
       "      <td>-0.264414</td>\n",
       "      <td>0.098365</td>\n",
       "      <td>-0.201507</td>\n",
       "      <td>-0.193858</td>\n",
       "      <td>0.460432</td>\n",
       "      <td>1.000000</td>\n",
       "      <td>0.273308</td>\n",
       "      <td>-0.038958</td>\n",
       "      <td>0.175668</td>\n",
       "    </tr>\n",
       "    <tr>\n",
       "      <td>F160</td>\n",
       "      <td>0.243078</td>\n",
       "      <td>-0.368628</td>\n",
       "      <td>0.205494</td>\n",
       "      <td>-0.070727</td>\n",
       "      <td>-0.121076</td>\n",
       "      <td>0.205257</td>\n",
       "      <td>0.172452</td>\n",
       "      <td>-0.155417</td>\n",
       "      <td>0.160847</td>\n",
       "      <td>-0.003766</td>\n",
       "      <td>...</td>\n",
       "      <td>0.054620</td>\n",
       "      <td>-0.266257</td>\n",
       "      <td>0.455573</td>\n",
       "      <td>-0.060458</td>\n",
       "      <td>-0.156126</td>\n",
       "      <td>0.506681</td>\n",
       "      <td>0.273308</td>\n",
       "      <td>1.000000</td>\n",
       "      <td>-0.237982</td>\n",
       "      <td>0.199642</td>\n",
       "    </tr>\n",
       "    <tr>\n",
       "      <td>F161</td>\n",
       "      <td>-0.273994</td>\n",
       "      <td>-0.161312</td>\n",
       "      <td>-0.070671</td>\n",
       "      <td>-0.050493</td>\n",
       "      <td>-0.000942</td>\n",
       "      <td>-0.081549</td>\n",
       "      <td>-0.084796</td>\n",
       "      <td>-0.098855</td>\n",
       "      <td>-0.036418</td>\n",
       "      <td>0.397240</td>\n",
       "      <td>...</td>\n",
       "      <td>-0.111268</td>\n",
       "      <td>-0.118063</td>\n",
       "      <td>-0.122453</td>\n",
       "      <td>-0.048852</td>\n",
       "      <td>0.017273</td>\n",
       "      <td>-0.100403</td>\n",
       "      <td>-0.038958</td>\n",
       "      <td>-0.237982</td>\n",
       "      <td>1.000000</td>\n",
       "      <td>-0.040368</td>\n",
       "    </tr>\n",
       "    <tr>\n",
       "      <td>F162</td>\n",
       "      <td>0.058128</td>\n",
       "      <td>-0.068026</td>\n",
       "      <td>-0.060341</td>\n",
       "      <td>-0.065086</td>\n",
       "      <td>-0.086349</td>\n",
       "      <td>-0.028933</td>\n",
       "      <td>-0.005313</td>\n",
       "      <td>-0.025288</td>\n",
       "      <td>-0.106203</td>\n",
       "      <td>-0.064064</td>\n",
       "      <td>...</td>\n",
       "      <td>0.277177</td>\n",
       "      <td>-0.135847</td>\n",
       "      <td>0.420259</td>\n",
       "      <td>-0.037747</td>\n",
       "      <td>-0.059203</td>\n",
       "      <td>0.650785</td>\n",
       "      <td>0.175668</td>\n",
       "      <td>0.199642</td>\n",
       "      <td>-0.040368</td>\n",
       "      <td>1.000000</td>\n",
       "    </tr>\n",
       "  </tbody>\n",
       "</table>\n",
       "<p>163 rows × 163 columns</p>\n",
       "</div>"
      ],
      "text/plain": [
       "          Mean        F1        F2        F3        F4        F5        F6  \\\n",
       "Mean  1.000000 -0.601971 -0.048202  0.532607 -0.402385  0.203057  0.372221   \n",
       "F1   -0.601971  1.000000 -0.014424 -0.348764  0.640300 -0.093160 -0.229923   \n",
       "F2   -0.048202 -0.014424  1.000000 -0.048348 -0.001996 -0.052070  0.085858   \n",
       "F3    0.532607 -0.348764 -0.048348  1.000000 -0.173581  0.017879  0.439399   \n",
       "F4   -0.402385  0.640300 -0.001996 -0.173581  1.000000 -0.078410 -0.088951   \n",
       "...        ...       ...       ...       ...       ...       ...       ...   \n",
       "F158  0.075133 -0.259769 -0.122258 -0.222348 -0.153126  0.041739 -0.229847   \n",
       "F159  0.043574 -0.316799  0.003528 -0.104439 -0.278043  0.187256 -0.155010   \n",
       "F160  0.243078 -0.368628  0.205494 -0.070727 -0.121076  0.205257  0.172452   \n",
       "F161 -0.273994 -0.161312 -0.070671 -0.050493 -0.000942 -0.081549 -0.084796   \n",
       "F162  0.058128 -0.068026 -0.060341 -0.065086 -0.086349 -0.028933 -0.005313   \n",
       "\n",
       "            F7        F8        F9  ...      F153      F154      F155  \\\n",
       "Mean  0.528405  0.266587 -0.072493  ...  0.158221  0.354994 -0.024897   \n",
       "F1   -0.186470 -0.285597 -0.221451  ... -0.204234 -0.191784 -0.034152   \n",
       "F2    0.023384  0.086132  0.008608  ... -0.222134 -0.129382 -0.124977   \n",
       "F3    0.208402  0.175102  0.228383  ... -0.071585  0.682985 -0.204477   \n",
       "F4   -0.168331 -0.045686 -0.120690  ... -0.252617 -0.079684 -0.110546   \n",
       "...        ...       ...       ...  ...       ...       ...       ...   \n",
       "F158 -0.111104 -0.211208  0.024240  ...  0.151105 -0.176136  0.537375   \n",
       "F159  0.038096 -0.106630  0.233771  ...  0.353828 -0.264414  0.098365   \n",
       "F160 -0.155417  0.160847 -0.003766  ...  0.054620 -0.266257  0.455573   \n",
       "F161 -0.098855 -0.036418  0.397240  ... -0.111268 -0.118063 -0.122453   \n",
       "F162 -0.025288 -0.106203 -0.064064  ...  0.277177 -0.135847  0.420259   \n",
       "\n",
       "          F156      F157      F158      F159      F160      F161      F162  \n",
       "Mean  0.352088  0.256317  0.075133  0.043574  0.243078 -0.273994  0.058128  \n",
       "F1   -0.213999 -0.058089 -0.259769 -0.316799 -0.368628 -0.161312 -0.068026  \n",
       "F2    0.022471  0.104192 -0.122258  0.003528  0.205494 -0.070671 -0.060341  \n",
       "F3    0.848331  0.264867 -0.222348 -0.104439 -0.070727 -0.050493 -0.065086  \n",
       "F4   -0.079931  0.006769 -0.153126 -0.278043 -0.121076 -0.000942 -0.086349  \n",
       "...        ...       ...       ...       ...       ...       ...       ...  \n",
       "F158 -0.163842 -0.257707  1.000000  0.460432  0.506681 -0.100403  0.650785  \n",
       "F159 -0.201507 -0.193858  0.460432  1.000000  0.273308 -0.038958  0.175668  \n",
       "F160 -0.060458 -0.156126  0.506681  0.273308  1.000000 -0.237982  0.199642  \n",
       "F161 -0.048852  0.017273 -0.100403 -0.038958 -0.237982  1.000000 -0.040368  \n",
       "F162 -0.037747 -0.059203  0.650785  0.175668  0.199642 -0.040368  1.000000  \n",
       "\n",
       "[163 rows x 163 columns]"
      ]
     },
     "execution_count": 165,
     "metadata": {},
     "output_type": "execute_result"
    }
   ],
   "source": [
    "dataIncome3_311.corr()"
   ]
  },
  {
   "cell_type": "markdown",
   "metadata": {},
   "source": [
    "Try to use a different dataset split with more data in train set. The result seems fine"
   ]
  },
  {
   "cell_type": "markdown",
   "metadata": {},
   "source": [
    "Check the number of samples"
   ]
  },
  {
   "cell_type": "code",
   "execution_count": 56,
   "metadata": {
    "scrolled": true
   },
   "outputs": [
    {
     "data": {
      "text/plain": [
       "140"
      ]
     },
     "execution_count": 56,
     "metadata": {},
     "output_type": "execute_result"
    }
   ],
   "source": [
    "len(train)"
   ]
  },
  {
   "cell_type": "code",
   "execution_count": 57,
   "metadata": {},
   "outputs": [
    {
     "data": {
      "text/plain": [
       "35"
      ]
     },
     "execution_count": 57,
     "metadata": {},
     "output_type": "execute_result"
    }
   ],
   "source": [
    "len(test)"
   ]
  },
  {
   "cell_type": "code",
   "execution_count": 58,
   "metadata": {},
   "outputs": [
    {
     "data": {
      "text/plain": [
       "179"
      ]
     },
     "execution_count": 58,
     "metadata": {},
     "output_type": "execute_result"
    }
   ],
   "source": [
    "len(data311)"
   ]
  },
  {
   "cell_type": "markdown",
   "metadata": {},
   "source": [
    "Based on the analysis, I would infer the bad performance is because the number of features is almost equal to that of samples. Lack of smaples leads to inevitable overfitting. Lasso tends to select one feature among all the correlated features, which might leads to instability. Using elastic net might be helpful."
   ]
  }
 ],
 "metadata": {
  "anaconda-cloud": {},
  "kernelspec": {
   "display_name": "Python 3",
   "language": "python",
   "name": "python3"
  },
  "language_info": {
   "codemirror_mode": {
    "name": "ipython",
    "version": 3
   },
   "file_extension": ".py",
   "mimetype": "text/x-python",
   "name": "python",
   "nbconvert_exporter": "python",
   "pygments_lexer": "ipython3",
   "version": "3.7.0"
  }
 },
 "nbformat": 4,
 "nbformat_minor": 2
}
