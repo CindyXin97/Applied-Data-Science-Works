{
 "cells": [
  {
   "cell_type": "markdown",
   "metadata": {
    "colab_type": "text",
    "id": "ap5mOugvWOkT"
   },
   "source": [
    "# A few Challenges"
   ]
  },
  {
   "cell_type": "markdown",
   "metadata": {
    "colab_type": "text",
    "id": "qRrvDm-5kgyZ"
   },
   "source": [
    "## Problem 1:Linear Regression"
   ]
  },
  {
   "cell_type": "markdown",
   "metadata": {
    "colab_type": "text",
    "id": "bAnnk0MWWZpc"
   },
   "source": [
    "### Task 1:Load the dataset named assignment2_part1.csv \n",
    "\n"
   ]
  },
  {
   "cell_type": "code",
   "execution_count": 1,
   "metadata": {},
   "outputs": [
    {
     "name": "stderr",
     "output_type": "stream",
     "text": [
      "C:\\ProgramData\\Anaconda3\\lib\\site-packages\\statsmodels\\compat\\pandas.py:49: FutureWarning: The Panel class is removed from pandas. Accessing it from the top-level namespace will also be removed in the next version\n",
      "  data_klasses = (pandas.Series, pandas.DataFrame, pandas.Panel)\n"
     ]
    }
   ],
   "source": [
    "import pandas as pd\n",
    "import numpy as np\n",
    "import statsmodels.formula.api as smf\n",
    "import statsmodels.api as sm\n",
    "from sklearn import linear_model\n",
    "import matplotlib.pylab as plt\n",
    "import math\n",
    "import seaborn as sbn\n",
    "%matplotlib inline\n",
    "\n",
    "import warnings\n",
    "warnings.filterwarnings(action='ignore')"
   ]
  },
  {
   "cell_type": "code",
   "execution_count": 2,
   "metadata": {
    "colab": {},
    "colab_type": "code",
    "id": "Pl7FbbdFWMDj"
   },
   "outputs": [],
   "source": [
    "data = pd.read_csv(\"assignment2_part1.csv\")"
   ]
  },
  {
   "cell_type": "markdown",
   "metadata": {
    "colab_type": "text",
    "id": "WFOu_9ecWswp"
   },
   "source": [
    "### Task 2:Split this given dataset into training set,testing set and validation set (80% data as training set,10% as testing and other 10% as validation)"
   ]
  },
  {
   "cell_type": "code",
   "execution_count": 3,
   "metadata": {
    "colab": {},
    "colab_type": "code",
    "id": "xV2DBLqXWkQ4",
    "scrolled": false
   },
   "outputs": [],
   "source": [
    "data1 = data.drop('Unnamed: 0', axis=1)"
   ]
  },
  {
   "cell_type": "code",
   "execution_count": 4,
   "metadata": {},
   "outputs": [],
   "source": [
    "train, validation, test = np.split(data1.sample(frac=1),[int(0.8*len(data1)),int(0.9*len(data1))])\n",
    "test = test.sort_values(by='x')"
   ]
  },
  {
   "cell_type": "markdown",
   "metadata": {
    "colab_type": "text",
    "id": "Y1aZbo4EW_cz"
   },
   "source": [
    "### Task 3: Visualize the data and try to fit a linear (regression) model to it and comment whether you think this data is suitable to fit a linear model."
   ]
  },
  {
   "cell_type": "code",
   "execution_count": 5,
   "metadata": {
    "colab": {},
    "colab_type": "code",
    "id": "NVK5GP7gXOYf"
   },
   "outputs": [
    {
     "data": {
      "text/plain": [
       "<matplotlib.axes._subplots.AxesSubplot at 0x1dae16975f8>"
      ]
     },
     "execution_count": 5,
     "metadata": {},
     "output_type": "execute_result"
    },
    {
     "data": {
      "image/png": "[encoded data removed]",
      "text/plain": [
       "<Figure size 432x288 with 1 Axes>"
      ]
     },
     "metadata": {
      "needs_background": "light"
     },
     "output_type": "display_data"
    },
    {
     "data": {
      "image/png": "[encoded data removed]",
      "text/plain": [
       "<Figure size 432x288 with 1 Axes>"
      ]
     },
     "metadata": {
      "needs_background": "light"
     },
     "output_type": "display_data"
    },
    {
     "data": {
      "image/png": "[encoded data removed]",
      "text/plain": [
       "<Figure size 432x288 with 1 Axes>"
      ]
     },
     "metadata": {
      "needs_background": "light"
     },
     "output_type": "display_data"
    }
   ],
   "source": [
    "train.plot(x='x',y='y',kind='scatter')\n",
    "validation.plot(x='x',y='y',kind='scatter')\n",
    "test.plot(x='x',y='y',kind='scatter')"
   ]
  },
  {
   "cell_type": "code",
   "execution_count": 6,
   "metadata": {},
   "outputs": [
    {
     "name": "stdout",
     "output_type": "stream",
     "text": [
      "                            OLS Regression Results                            \n",
      "==============================================================================\n",
      "Dep. Variable:                      y   R-squared:                       0.773\n",
      "Model:                            OLS   Adj. R-squared:                  0.769\n",
      "Method:                 Least Squares   F-statistic:                     210.8\n",
      "Date:                Sun, 20 Oct 2019   Prob (F-statistic):           1.29e-21\n",
      "Time:                        20:32:33   Log-Likelihood:                -522.59\n",
      "No. Observations:                  64   AIC:                             1049.\n",
      "Df Residuals:                      62   BIC:                             1053.\n",
      "Df Model:                           1                                         \n",
      "Covariance Type:            nonrobust                                         \n",
      "==============================================================================\n",
      "                 coef    std err          t      P>|t|      [0.025      0.975]\n",
      "------------------------------------------------------------------------------\n",
      "Intercept     43.4193    116.935      0.371      0.712    -190.331     277.170\n",
      "x            135.9628      9.365     14.519      0.000     117.243     154.683\n",
      "==============================================================================\n",
      "Omnibus:                       14.177   Durbin-Watson:                   2.222\n",
      "Prob(Omnibus):                  0.001   Jarque-Bera (JB):               15.968\n",
      "Skew:                           1.009   Prob(JB):                     0.000341\n",
      "Kurtosis:                       4.384   Cond. No.                         13.5\n",
      "==============================================================================\n",
      "\n",
      "Warnings:\n",
      "[1] Standard Errors assume that the covariance matrix of the errors is correctly specified.\n"
     ]
    }
   ],
   "source": [
    "lm = smf.ols(formula='y~x', data = train).fit()\n",
    "print(lm.summary())\n",
    "\n",
    "#I don't think the data is suitable for a linear model, it should be polynomial regression."
   ]
  },
  {
   "cell_type": "markdown",
   "metadata": {
    "colab_type": "text",
    "id": "cd5qg4sUXS2h"
   },
   "source": [
    "### Task 4: Visualize the regression fit"
   ]
  },
  {
   "cell_type": "code",
   "execution_count": 7,
   "metadata": {
    "colab": {},
    "colab_type": "code",
    "id": "WTMTt12zXSda"
   },
   "outputs": [
    {
     "data": {
      "text/plain": [
       "[<matplotlib.lines.Line2D at 0x1dae18b0be0>]"
      ]
     },
     "execution_count": 7,
     "metadata": {},
     "output_type": "execute_result"
    },
    {
     "data": {
      "image/png": "[encoded data removed]",
      "text/plain": [
       "<Figure size 432x288 with 1 Axes>"
      ]
     },
     "metadata": {
      "needs_background": "light"
     },
     "output_type": "display_data"
    }
   ],
   "source": [
    "train['ypred']=lm.predict() \n",
    "plt.plot(train.x,train.y,'.r')\n",
    "plt.plot(train.x,train.ypred,'b') "
   ]
  },
  {
   "cell_type": "markdown",
   "metadata": {
    "colab_type": "text",
    "id": "n-y9aWREaKsK"
   },
   "source": [
    "### Task 5: Try to introduce another regressor variable if you think that linear model was not apt for this."
   ]
  },
  {
   "cell_type": "code",
   "execution_count": 8,
   "metadata": {
    "colab": {},
    "colab_type": "code",
    "id": "eyZuI7g_anyC"
   },
   "outputs": [],
   "source": [
    "train['x3']=train.x**3"
   ]
  },
  {
   "cell_type": "markdown",
   "metadata": {
    "colab_type": "text",
    "id": "4BXxh0flatKF"
   },
   "source": [
    "### Task 6: Fit a regression model to it,now with 2 regressor variables and also visualize the results"
   ]
  },
  {
   "cell_type": "code",
   "execution_count": 9,
   "metadata": {
    "colab": {},
    "colab_type": "code",
    "id": "6l43truMarCv",
    "scrolled": true
   },
   "outputs": [
    {
     "name": "stdout",
     "output_type": "stream",
     "text": [
      "                            OLS Regression Results                            \n",
      "==============================================================================\n",
      "Dep. Variable:                      y   R-squared:                       0.993\n",
      "Model:                            OLS   Adj. R-squared:                  0.993\n",
      "Method:                 Least Squares   F-statistic:                     4534.\n",
      "Date:                Sun, 20 Oct 2019   Prob (F-statistic):           4.58e-67\n",
      "Time:                        20:32:33   Log-Likelihood:                -409.73\n",
      "No. Observations:                  64   AIC:                             825.5\n",
      "Df Residuals:                      61   BIC:                             831.9\n",
      "Df Model:                           2                                         \n",
      "Covariance Type:            nonrobust                                         \n",
      "==============================================================================\n",
      "                 coef    std err          t      P>|t|      [0.025      0.975]\n",
      "------------------------------------------------------------------------------\n",
      "Intercept   -175.3156     20.794     -8.431      0.000    -216.897    -133.735\n",
      "x             10.4834      3.231      3.244      0.002       4.022      16.944\n",
      "x3             0.4077      0.009     44.873      0.000       0.390       0.426\n",
      "==============================================================================\n",
      "Omnibus:                        9.226   Durbin-Watson:                   2.218\n",
      "Prob(Omnibus):                  0.010   Jarque-Bera (JB):                8.845\n",
      "Skew:                          -0.869   Prob(JB):                       0.0120\n",
      "Kurtosis:                       3.543   Cond. No.                     5.08e+03\n",
      "==============================================================================\n",
      "\n",
      "Warnings:\n",
      "[1] Standard Errors assume that the covariance matrix of the errors is correctly specified.\n",
      "[2] The condition number is large, 5.08e+03. This might indicate that there are\n",
      "strong multicollinearity or other numerical problems.\n"
     ]
    }
   ],
   "source": [
    "lm = smf.ols(formula='y~x+x3', data = train).fit()\n",
    "print(lm.summary())"
   ]
  },
  {
   "cell_type": "code",
   "execution_count": 10,
   "metadata": {},
   "outputs": [
    {
     "data": {
      "text/plain": [
       "<matplotlib.axes._subplots.AxesSubplot at 0x1dae19c6198>"
      ]
     },
     "execution_count": 10,
     "metadata": {},
     "output_type": "execute_result"
    },
    {
     "data": {
      "image/png": "[encoded data removed]",
      "text/plain": [
       "<Figure size 432x288 with 1 Axes>"
      ]
     },
     "metadata": {
      "needs_background": "light"
     },
     "output_type": "display_data"
    }
   ],
   "source": [
    "import seaborn as sns\n",
    "train['ypred']=lm.predict()\n",
    "plt.plot(train.x,train.y,'.r')\n",
    "sns.lineplot(train.x,train.ypred,color='b') \n",
    "\n",
    "# This fits well!"
   ]
  },
  {
   "cell_type": "markdown",
   "metadata": {
    "colab_type": "text",
    "id": "ifu-vLZxa204"
   },
   "source": [
    "### Task 7: Generate regressors in the validation sample in range from M=12(Max power of x) and compute the model prediction.Visualize the fit of the model."
   ]
  },
  {
   "cell_type": "code",
   "execution_count": 11,
   "metadata": {
    "colab": {},
    "colab_type": "code",
    "id": "yRA9m5lzcBG0",
    "scrolled": true
   },
   "outputs": [
    {
     "data": {
      "text/html": [
       "<div>\n",
       "<style scoped>\n",
       "    .dataframe tbody tr th:only-of-type {\n",
       "        vertical-align: middle;\n",
       "    }\n",
       "\n",
       "    .dataframe tbody tr th {\n",
       "        vertical-align: top;\n",
       "    }\n",
       "\n",
       "    .dataframe thead th {\n",
       "        text-align: right;\n",
       "    }\n",
       "</style>\n",
       "<table border=\"1\" class=\"dataframe\">\n",
       "  <thead>\n",
       "    <tr style=\"text-align: right;\">\n",
       "      <th></th>\n",
       "      <th>x</th>\n",
       "      <th>y</th>\n",
       "      <th>ypred</th>\n",
       "      <th>x3</th>\n",
       "      <th>x1</th>\n",
       "      <th>x2</th>\n",
       "      <th>x4</th>\n",
       "      <th>x5</th>\n",
       "      <th>x6</th>\n",
       "      <th>x7</th>\n",
       "      <th>x8</th>\n",
       "      <th>x9</th>\n",
       "      <th>x10</th>\n",
       "      <th>x11</th>\n",
       "      <th>x12</th>\n",
       "    </tr>\n",
       "  </thead>\n",
       "  <tbody>\n",
       "    <tr>\n",
       "      <td>62</td>\n",
       "      <td>16.0</td>\n",
       "      <td>1547.609212</td>\n",
       "      <td>1662.463780</td>\n",
       "      <td>4096.000</td>\n",
       "      <td>16.0</td>\n",
       "      <td>256.00</td>\n",
       "      <td>65536.0000</td>\n",
       "      <td>1.048576e+06</td>\n",
       "      <td>1.677722e+07</td>\n",
       "      <td>2.684355e+08</td>\n",
       "      <td>4.294967e+09</td>\n",
       "      <td>6.871948e+10</td>\n",
       "      <td>1.099512e+12</td>\n",
       "      <td>1.759219e+13</td>\n",
       "      <td>2.814750e+14</td>\n",
       "    </tr>\n",
       "    <tr>\n",
       "      <td>53</td>\n",
       "      <td>11.5</td>\n",
       "      <td>503.038243</td>\n",
       "      <td>565.343289</td>\n",
       "      <td>1520.875</td>\n",
       "      <td>11.5</td>\n",
       "      <td>132.25</td>\n",
       "      <td>17490.0625</td>\n",
       "      <td>2.011357e+05</td>\n",
       "      <td>2.313061e+06</td>\n",
       "      <td>2.660020e+07</td>\n",
       "      <td>3.059023e+08</td>\n",
       "      <td>3.517876e+09</td>\n",
       "      <td>4.045558e+10</td>\n",
       "      <td>4.652391e+11</td>\n",
       "      <td>5.350250e+12</td>\n",
       "    </tr>\n",
       "    <tr>\n",
       "      <td>68</td>\n",
       "      <td>19.0</td>\n",
       "      <td>2721.708052</td>\n",
       "      <td>2820.460753</td>\n",
       "      <td>6859.000</td>\n",
       "      <td>19.0</td>\n",
       "      <td>361.00</td>\n",
       "      <td>130321.0000</td>\n",
       "      <td>2.476099e+06</td>\n",
       "      <td>4.704588e+07</td>\n",
       "      <td>8.938717e+08</td>\n",
       "      <td>1.698356e+10</td>\n",
       "      <td>3.226877e+11</td>\n",
       "      <td>6.131066e+12</td>\n",
       "      <td>1.164903e+14</td>\n",
       "      <td>2.213315e+15</td>\n",
       "    </tr>\n",
       "    <tr>\n",
       "      <td>56</td>\n",
       "      <td>13.0</td>\n",
       "      <td>770.448939</td>\n",
       "      <td>856.742058</td>\n",
       "      <td>2197.000</td>\n",
       "      <td>13.0</td>\n",
       "      <td>169.00</td>\n",
       "      <td>28561.0000</td>\n",
       "      <td>3.712930e+05</td>\n",
       "      <td>4.826809e+06</td>\n",
       "      <td>6.274852e+07</td>\n",
       "      <td>8.157307e+08</td>\n",
       "      <td>1.060450e+10</td>\n",
       "      <td>1.378585e+11</td>\n",
       "      <td>1.792160e+12</td>\n",
       "      <td>2.329809e+13</td>\n",
       "    </tr>\n",
       "    <tr>\n",
       "      <td>13</td>\n",
       "      <td>-8.5</td>\n",
       "      <td>-465.015577</td>\n",
       "      <td>-514.818845</td>\n",
       "      <td>-614.125</td>\n",
       "      <td>-8.5</td>\n",
       "      <td>72.25</td>\n",
       "      <td>5220.0625</td>\n",
       "      <td>-4.437053e+04</td>\n",
       "      <td>3.771495e+05</td>\n",
       "      <td>-3.205771e+06</td>\n",
       "      <td>2.724905e+07</td>\n",
       "      <td>-2.316169e+08</td>\n",
       "      <td>1.968744e+09</td>\n",
       "      <td>-1.673432e+10</td>\n",
       "      <td>1.422418e+11</td>\n",
       "    </tr>\n",
       "  </tbody>\n",
       "</table>\n",
       "</div>"
      ],
      "text/plain": [
       "       x            y        ypred        x3    x1      x2           x4  \\\n",
       "62  16.0  1547.609212  1662.463780  4096.000  16.0  256.00   65536.0000   \n",
       "53  11.5   503.038243   565.343289  1520.875  11.5  132.25   17490.0625   \n",
       "68  19.0  2721.708052  2820.460753  6859.000  19.0  361.00  130321.0000   \n",
       "56  13.0   770.448939   856.742058  2197.000  13.0  169.00   28561.0000   \n",
       "13  -8.5  -465.015577  -514.818845  -614.125  -8.5   72.25    5220.0625   \n",
       "\n",
       "              x5            x6            x7            x8            x9  \\\n",
       "62  1.048576e+06  1.677722e+07  2.684355e+08  4.294967e+09  6.871948e+10   \n",
       "53  2.011357e+05  2.313061e+06  2.660020e+07  3.059023e+08  3.517876e+09   \n",
       "68  2.476099e+06  4.704588e+07  8.938717e+08  1.698356e+10  3.226877e+11   \n",
       "56  3.712930e+05  4.826809e+06  6.274852e+07  8.157307e+08  1.060450e+10   \n",
       "13 -4.437053e+04  3.771495e+05 -3.205771e+06  2.724905e+07 -2.316169e+08   \n",
       "\n",
       "             x10           x11           x12  \n",
       "62  1.099512e+12  1.759219e+13  2.814750e+14  \n",
       "53  4.045558e+10  4.652391e+11  5.350250e+12  \n",
       "68  6.131066e+12  1.164903e+14  2.213315e+15  \n",
       "56  1.378585e+11  1.792160e+12  2.329809e+13  \n",
       "13  1.968744e+09 -1.673432e+10  1.422418e+11  "
      ]
     },
     "execution_count": 11,
     "metadata": {},
     "output_type": "execute_result"
    }
   ],
   "source": [
    "# First train it on the training set. The result seems perfect.\n",
    "M=12\n",
    "for p in range(1,M+1): \n",
    "    train['x%d'%p]=train.x**p\n",
    "train.head()"
   ]
  },
  {
   "cell_type": "code",
   "execution_count": 12,
   "metadata": {
    "scrolled": true
   },
   "outputs": [
    {
     "name": "stdout",
     "output_type": "stream",
     "text": [
      "                            OLS Regression Results                            \n",
      "==============================================================================\n",
      "Dep. Variable:                      y   R-squared:                       1.000\n",
      "Model:                            OLS   Adj. R-squared:                  1.000\n",
      "Method:                 Least Squares   F-statistic:                 1.456e+05\n",
      "Date:                Sun, 20 Oct 2019   Prob (F-statistic):          4.63e-115\n",
      "Time:                        20:32:34   Log-Likelihood:                -246.89\n",
      "No. Observations:                  64   AIC:                             513.8\n",
      "Df Residuals:                      54   BIC:                             535.4\n",
      "Df Model:                           9                                         \n",
      "Covariance Type:            nonrobust                                         \n",
      "==============================================================================\n",
      "                 coef    std err          t      P>|t|      [0.025      0.975]\n",
      "------------------------------------------------------------------------------\n",
      "Intercept      0.0002   1.23e-05     13.142      0.000       0.000       0.000\n",
      "x              0.0216      0.001     17.436      0.000       0.019       0.024\n",
      "x2             0.0083      0.001     13.869      0.000       0.007       0.010\n",
      "x3             0.5015      0.029     17.415      0.000       0.444       0.559\n",
      "x4            -0.0673      0.003    -21.065      0.000      -0.074      -0.061\n",
      "x5             0.0017      0.001      2.841      0.006       0.001       0.003\n",
      "x6             0.0007   5.93e-05     12.167      0.000       0.001       0.001\n",
      "x7         -3.051e-05   4.86e-06     -6.273      0.000   -4.03e-05   -2.08e-05\n",
      "x8         -2.946e-06   3.45e-07     -8.544      0.000   -3.64e-06   -2.25e-06\n",
      "x9           1.77e-07   2.21e-08      8.007      0.000    1.33e-07    2.21e-07\n",
      "x10         2.739e-09   5.66e-10      4.837      0.000     1.6e-09    3.87e-09\n",
      "x11        -3.348e-10    4.5e-11     -7.440      0.000   -4.25e-10   -2.45e-10\n",
      "x12         5.533e-12   8.15e-13      6.790      0.000     3.9e-12    7.17e-12\n",
      "==============================================================================\n",
      "Omnibus:                        0.665   Durbin-Watson:                   1.729\n",
      "Prob(Omnibus):                  0.717   Jarque-Bera (JB):                0.758\n",
      "Skew:                          -0.106   Prob(JB):                        0.685\n",
      "Kurtosis:                       2.511   Cond. No.                     2.58e+16\n",
      "==============================================================================\n",
      "\n",
      "Warnings:\n",
      "[1] Standard Errors assume that the covariance matrix of the errors is correctly specified.\n",
      "[2] The condition number is large, 2.58e+16. This might indicate that there are\n",
      "strong multicollinearity or other numerical problems.\n"
     ]
    },
    {
     "data": {
      "text/plain": [
       "<matplotlib.axes._subplots.AxesSubplot at 0x1dae193ab38>"
      ]
     },
     "execution_count": 12,
     "metadata": {},
     "output_type": "execute_result"
    },
    {
     "data": {
      "image/png": "[encoded data removed]",
      "text/plain": [
       "<Figure size 432x288 with 1 Axes>"
      ]
     },
     "metadata": {
      "needs_background": "light"
     },
     "output_type": "display_data"
    }
   ],
   "source": [
    "formula='y~x+'+'+'.join(['x%d'%p for p in range(2,M+1)])\n",
    "lm12 = smf.ols(formula=formula, data = train).fit()\n",
    "print(lm12.summary())\n",
    "train['ypred']=lm12.predict() \n",
    "plt.plot(train.x,train.y,'.r') \n",
    "sns.lineplot(train.x,train.ypred,color='b') "
   ]
  },
  {
   "cell_type": "code",
   "execution_count": 13,
   "metadata": {
    "scrolled": true
   },
   "outputs": [
    {
     "data": {
      "text/plain": [
       "<matplotlib.axes._subplots.AxesSubplot at 0x1dae3b6c320>"
      ]
     },
     "execution_count": 13,
     "metadata": {},
     "output_type": "execute_result"
    },
    {
     "data": {
      "image/png": "[encoded data removed]",
      "text/plain": [
       "<Figure size 432x288 with 1 Axes>"
      ]
     },
     "metadata": {
      "needs_background": "light"
     },
     "output_type": "display_data"
    }
   ],
   "source": [
    "# Let's see it on the validation set\n",
    "\n",
    "for p in range(1,M+1): \n",
    "    validation['x%d'%p]=validation.x**p\n",
    "validation['ypred']=lm12.predict(validation)\n",
    "plt.plot(validation.x,validation.y,'.r')\n",
    "sns.lineplot(validation.x,validation.ypred,color='b')\n",
    "sns.scatterplot(validation.x,validation.ypred,color='g')"
   ]
  },
  {
   "cell_type": "markdown",
   "metadata": {
    "colab_type": "text",
    "id": "orOQkqaJcEPA"
   },
   "source": [
    "### Task 8:Compute R2 over the validation data"
   ]
  },
  {
   "cell_type": "code",
   "execution_count": 14,
   "metadata": {},
   "outputs": [
    {
     "data": {
      "text/plain": [
       "0.9999284305756718"
      ]
     },
     "execution_count": 14,
     "metadata": {},
     "output_type": "execute_result"
    }
   ],
   "source": [
    "ValidR2=1-((validation.ypred-validation.y)**2).sum()/((validation.y-validation.y.mean())**2).sum()\n",
    "ValidR2"
   ]
  },
  {
   "cell_type": "markdown",
   "metadata": {
    "colab_type": "text",
    "id": "Rud8ZvsbcxaY"
   },
   "source": [
    "### Task 9: Did you get an optimal value with M=12?"
   ]
  },
  {
   "cell_type": "markdown",
   "metadata": {
    "colab_type": "text",
    "id": "RKV8LRDPeH-m"
   },
   "source": [
    "   Although it shouldn't be optimal because of overfitting, this one is also good because all points in this dataset are generated by a specific function and the result can be precisely predicted as long as the highest power of x is greater than 2. \n",
    "   \n",
    "   With the power of x keep growing, the model identify the trend and make parameters of x4, x5 and so on so small that can be ignored."
   ]
  },
  {
   "cell_type": "markdown",
   "metadata": {
    "colab_type": "text",
    "id": "x3JeekagdFw8"
   },
   "source": [
    "### Task 10:Generate regressors in the test sample and compute the model prediction"
   ]
  },
  {
   "cell_type": "code",
   "execution_count": 15,
   "metadata": {
    "colab": {},
    "colab_type": "code",
    "id": "_dPGOhUKePgo",
    "scrolled": true
   },
   "outputs": [
    {
     "data": {
      "text/plain": [
       "<matplotlib.legend.Legend at 0x1dae3c952e8>"
      ]
     },
     "execution_count": 15,
     "metadata": {},
     "output_type": "execute_result"
    },
    {
     "data": {
      "image/png": "[encoded data removed]",
      "text/plain": [
       "<Figure size 432x288 with 1 Axes>"
      ]
     },
     "metadata": {
      "needs_background": "light"
     },
     "output_type": "display_data"
    }
   ],
   "source": [
    "# Choose the optimal M\n",
    "TrainR2=[0]*12\n",
    "ValidR2=[0]*12\n",
    "lm=[0]*12\n",
    "for M in range(1,13):\n",
    "    formula='y~x'+'+'*(M>1)+'+'.join(['x%d'%p for p in range(2,M+1)]);\n",
    "    lm[M-1] = smf.ols(formula=formula, data = train).fit()\n",
    "    validation['ypred']=lm[M-1].predict(validation)\n",
    "    ValidR2[M-1]=1-((validation.ypred-validation.y)**2).sum()/((validation.y-validation.y.mean())**2).sum()\n",
    "    TrainR2[M-1]=lm[M-1].rsquared\n",
    "\n",
    "plt.plot(range(1,13),TrainR2[:12],'b-*',label='train')\n",
    "plt.plot(range(1,13),ValidR2[:12],'r-*',label='valid')\n",
    "plt.xlabel('M')\n",
    "plt.ylabel('R2')\n",
    "plt.legend(loc='lower right')"
   ]
  },
  {
   "cell_type": "code",
   "execution_count": 16,
   "metadata": {},
   "outputs": [
    {
     "data": {
      "text/plain": [
       "(8     -921.754513\n",
       " 28      -7.035766\n",
       " 33      -4.623200\n",
       " 38       0.952423\n",
       " 47     168.456611\n",
       " 57     876.780731\n",
       " 70    3216.882223\n",
       " 76    5044.507753\n",
       " Name: ypred, dtype: float64, 8     -917.935911\n",
       " 28      -8.718689\n",
       " 33      -7.816780\n",
       " 38       7.489708\n",
       " 47     165.848407\n",
       " 57     877.324955\n",
       " 70    3212.727817\n",
       " 76    5049.983454\n",
       " Name: y, dtype: float64)"
      ]
     },
     "execution_count": 16,
     "metadata": {},
     "output_type": "execute_result"
    }
   ],
   "source": [
    "test['x2']=test.x**2\n",
    "test['x3']=test.x**3\n",
    "lm3 = smf.ols(formula='y~x+x2+x3', data = train).fit()\n",
    "test['ypred']=lm3.predict(test)\n",
    "test['ypred'],test.y"
   ]
  },
  {
   "cell_type": "markdown",
   "metadata": {},
   "source": [
    "As told before, in this particular case, we could actually choose any M greater than 2, but I'd like to choose 3 for it has least model complexity."
   ]
  },
  {
   "cell_type": "markdown",
   "metadata": {
    "colab_type": "text",
    "id": "3bzf1w-9ehty"
   },
   "source": [
    "### Task 11:Visulaize results of Task 10."
   ]
  },
  {
   "cell_type": "code",
   "execution_count": 17,
   "metadata": {
    "colab": {},
    "colab_type": "code",
    "id": "1HZi1Z5BeRxl"
   },
   "outputs": [
    {
     "data": {
      "text/plain": [
       "<matplotlib.axes._subplots.AxesSubplot at 0x1dae3cb82b0>"
      ]
     },
     "execution_count": 17,
     "metadata": {},
     "output_type": "execute_result"
    },
    {
     "data": {
      "image/png": "[encoded data removed]",
      "text/plain": [
       "<Figure size 432x288 with 1 Axes>"
      ]
     },
     "metadata": {
      "needs_background": "light"
     },
     "output_type": "display_data"
    }
   ],
   "source": [
    "plt.plot(test.x,test.y,'.r') \n",
    "plt.plot(test.x,test.ypred,'b')\n",
    "sns.scatterplot(test.x,test.ypred,color='g')\n",
    "# In this situation we pick 3 because when power of x is more 3, the coef become so small that can be ignored.\n",
    "# We could safely arrive at the conclusion that the dataset is function of x**3"
   ]
  },
  {
   "cell_type": "markdown",
   "metadata": {
    "colab_type": "text",
    "id": "d08VxJCOezZu"
   },
   "source": [
    "## Problem 2:Refer the in class session_05_02 diagnostics python notebook ,to complete this part of the assignment."
   ]
  },
  {
   "cell_type": "markdown",
   "metadata": {
    "colab_type": "text",
    "id": "GUXe9UUrloLe"
   },
   "source": [
    "### Task 1: Perform regression on Advanced vs Other, \"Advanced\" which incorporated Master, Doctorate and ProfSchool and \"Other\" incorporating less than Bachelor.Your regression model will be between predicted and observed income."
   ]
  },
  {
   "cell_type": "code",
   "execution_count": 18,
   "metadata": {
    "colab": {},
    "colab_type": "code",
    "id": "lNI80bLulm9H",
    "scrolled": false
   },
   "outputs": [
    {
     "data": {
      "text/html": [
       "<div>\n",
       "<style scoped>\n",
       "    .dataframe tbody tr th:only-of-type {\n",
       "        vertical-align: middle;\n",
       "    }\n",
       "\n",
       "    .dataframe tbody tr th {\n",
       "        vertical-align: top;\n",
       "    }\n",
       "\n",
       "    .dataframe thead th {\n",
       "        text-align: right;\n",
       "    }\n",
       "</style>\n",
       "<table border=\"1\" class=\"dataframe\">\n",
       "  <thead>\n",
       "    <tr style=\"text-align: right;\">\n",
       "      <th></th>\n",
       "      <th>IncomePerCapita</th>\n",
       "      <th>LessThanHS</th>\n",
       "      <th>HighSchool</th>\n",
       "      <th>SomeCollege</th>\n",
       "      <th>Bachelor</th>\n",
       "      <th>Master</th>\n",
       "      <th>Doctorate</th>\n",
       "      <th>ProfSchool</th>\n",
       "    </tr>\n",
       "  </thead>\n",
       "  <tbody>\n",
       "    <tr>\n",
       "      <td>0</td>\n",
       "      <td>77512.0</td>\n",
       "      <td>0.085069</td>\n",
       "      <td>0.101972</td>\n",
       "      <td>0.127082</td>\n",
       "      <td>0.371203</td>\n",
       "      <td>0.208966</td>\n",
       "      <td>0.031786</td>\n",
       "      <td>0.073922</td>\n",
       "    </tr>\n",
       "    <tr>\n",
       "      <td>1</td>\n",
       "      <td>26905.0</td>\n",
       "      <td>0.347436</td>\n",
       "      <td>0.208724</td>\n",
       "      <td>0.140025</td>\n",
       "      <td>0.208774</td>\n",
       "      <td>0.065663</td>\n",
       "      <td>0.010520</td>\n",
       "      <td>0.018857</td>\n",
       "    </tr>\n",
       "    <tr>\n",
       "      <td>2</td>\n",
       "      <td>79088.0</td>\n",
       "      <td>0.036399</td>\n",
       "      <td>0.068234</td>\n",
       "      <td>0.109660</td>\n",
       "      <td>0.436064</td>\n",
       "      <td>0.220825</td>\n",
       "      <td>0.039483</td>\n",
       "      <td>0.089335</td>\n",
       "    </tr>\n",
       "    <tr>\n",
       "      <td>3</td>\n",
       "      <td>98020.0</td>\n",
       "      <td>0.012725</td>\n",
       "      <td>0.038175</td>\n",
       "      <td>0.133831</td>\n",
       "      <td>0.431768</td>\n",
       "      <td>0.241334</td>\n",
       "      <td>0.037736</td>\n",
       "      <td>0.104432</td>\n",
       "    </tr>\n",
       "    <tr>\n",
       "      <td>4</td>\n",
       "      <td>99633.0</td>\n",
       "      <td>0.022338</td>\n",
       "      <td>0.017299</td>\n",
       "      <td>0.076251</td>\n",
       "      <td>0.461035</td>\n",
       "      <td>0.274941</td>\n",
       "      <td>0.036782</td>\n",
       "      <td>0.111354</td>\n",
       "    </tr>\n",
       "  </tbody>\n",
       "</table>\n",
       "</div>"
      ],
      "text/plain": [
       "   IncomePerCapita  LessThanHS  HighSchool  SomeCollege  Bachelor    Master  \\\n",
       "0          77512.0    0.085069    0.101972     0.127082  0.371203  0.208966   \n",
       "1          26905.0    0.347436    0.208724     0.140025  0.208774  0.065663   \n",
       "2          79088.0    0.036399    0.068234     0.109660  0.436064  0.220825   \n",
       "3          98020.0    0.012725    0.038175     0.133831  0.431768  0.241334   \n",
       "4          99633.0    0.022338    0.017299     0.076251  0.461035  0.274941   \n",
       "\n",
       "   Doctorate  ProfSchool  \n",
       "0   0.031786    0.073922  \n",
       "1   0.010520    0.018857  \n",
       "2   0.039483    0.089335  \n",
       "3   0.037736    0.104432  \n",
       "4   0.036782    0.111354  "
      ]
     },
     "execution_count": 18,
     "metadata": {},
     "output_type": "execute_result"
    }
   ],
   "source": [
    "data4 = pd.read_csv('data/IncomeEduReg.csv')\n",
    "data4.dropna(inplace = True)  #drop NAN to avoid invalid computation\n",
    "data4 = pd.concat([data4.IncomePerCapita,      # Convert unit to 1k USD, only for scaling purpose\n",
    "        data4.iloc[:,3:].div(data4.PopOver25, axis = 0)],  # Compute the percentage, column-wise\n",
    "        axis = 1)\n",
    "data4.head()"
   ]
  },
  {
   "cell_type": "code",
   "execution_count": 19,
   "metadata": {},
   "outputs": [
    {
     "name": "stdout",
     "output_type": "stream",
     "text": [
      "                            OLS Regression Results                            \n",
      "==============================================================================\n",
      "Dep. Variable:        IncomePerCapita   R-squared:                       0.833\n",
      "Model:                            OLS   Adj. R-squared:                  0.832\n",
      "Method:                 Least Squares   F-statistic:                     891.0\n",
      "Date:                Sun, 20 Oct 2019   Prob (F-statistic):           2.06e-71\n",
      "Time:                        20:32:37   Log-Likelihood:                -1959.5\n",
      "No. Observations:                 181   AIC:                             3923.\n",
      "Df Residuals:                     179   BIC:                             3929.\n",
      "Df Model:                           1                                         \n",
      "Covariance Type:            nonrobust                                         \n",
      "==============================================================================\n",
      "                 coef    std err          t      P>|t|      [0.025      0.975]\n",
      "------------------------------------------------------------------------------\n",
      "Intercept   1857.3273   1539.833      1.206      0.229   -1181.233    4895.887\n",
      "Advanced    2.312e+05   7744.534     29.850      0.000    2.16e+05    2.46e+05\n",
      "==============================================================================\n",
      "Omnibus:                       73.507   Durbin-Watson:                   1.693\n",
      "Prob(Omnibus):                  0.000   Jarque-Bera (JB):              671.857\n",
      "Skew:                           1.216   Prob(JB):                    1.28e-146\n",
      "Kurtosis:                      12.120   Cond. No.                         8.73\n",
      "==============================================================================\n",
      "\n",
      "Warnings:\n",
      "[1] Standard Errors assume that the covariance matrix of the errors is correctly specified.\n"
     ]
    }
   ],
   "source": [
    "data4['Advanced'] = data4['Master'] + data4['Doctorate'] + data4['ProfSchool']\n",
    "lm2_2 = smf.ols(formula = 'IncomePerCapita ~ Advanced', data = data4).fit()\n",
    "print(lm2_2.summary())"
   ]
  },
  {
   "cell_type": "code",
   "execution_count": 20,
   "metadata": {
    "scrolled": false
   },
   "outputs": [
    {
     "name": "stdout",
     "output_type": "stream",
     "text": [
      "                            OLS Regression Results                            \n",
      "==============================================================================\n",
      "Dep. Variable:        IncomePerCapita   R-squared:                       0.834\n",
      "Model:                            OLS   Adj. R-squared:                  0.833\n",
      "Method:                 Least Squares   F-statistic:                     901.5\n",
      "Date:                Sun, 20 Oct 2019   Prob (F-statistic):           8.60e-72\n",
      "Time:                        20:32:37   Log-Likelihood:                -1958.6\n",
      "No. Observations:                 181   AIC:                             3921.\n",
      "Df Residuals:                     179   BIC:                             3928.\n",
      "Df Model:                           1                                         \n",
      "Covariance Type:            nonrobust                                         \n",
      "==============================================================================\n",
      "                 coef    std err          t      P>|t|      [0.025      0.975]\n",
      "------------------------------------------------------------------------------\n",
      "Intercept   1.173e+05   2762.512     42.463      0.000    1.12e+05    1.23e+05\n",
      "Lesser     -1.266e+05   4217.933    -30.025      0.000   -1.35e+05   -1.18e+05\n",
      "==============================================================================\n",
      "Omnibus:                      106.582   Durbin-Watson:                   1.727\n",
      "Prob(Omnibus):                  0.000   Jarque-Bera (JB):             1090.979\n",
      "Skew:                           1.966   Prob(JB):                    1.25e-237\n",
      "Kurtosis:                      14.367   Cond. No.                         6.50\n",
      "==============================================================================\n",
      "\n",
      "Warnings:\n",
      "[1] Standard Errors assume that the covariance matrix of the errors is correctly specified.\n"
     ]
    }
   ],
   "source": [
    "data4['Lesser'] = data4['LessThanHS'] + data4['HighSchool'] + data4['SomeCollege']\n",
    "lm2_3 = smf.ols(formula = 'IncomePerCapita ~ Lesser', data = data4).fit()\n",
    "print(lm2_3.summary())"
   ]
  },
  {
   "cell_type": "code",
   "execution_count": 51,
   "metadata": {},
   "outputs": [
    {
     "name": "stdout",
     "output_type": "stream",
     "text": [
      "                            OLS Regression Results                            \n",
      "==============================================================================\n",
      "Dep. Variable:        IncomePerCapita   R-squared:                       0.841\n",
      "Model:                            OLS   Adj. R-squared:                  0.840\n",
      "Method:                 Least Squares   F-statistic:                     472.5\n",
      "Date:                Sun, 20 Oct 2019   Prob (F-statistic):           6.38e-72\n",
      "Time:                        20:33:20   Log-Likelihood:                -1954.6\n",
      "No. Observations:                 181   AIC:                             3915.\n",
      "Df Residuals:                     178   BIC:                             3925.\n",
      "Df Model:                           2                                         \n",
      "Covariance Type:            nonrobust                                         \n",
      "==============================================================================\n",
      "                 coef    std err          t      P>|t|      [0.025      0.975]\n",
      "------------------------------------------------------------------------------\n",
      "Bachelor    6.273e+04   1.94e+04      3.226      0.001    2.44e+04    1.01e+05\n",
      "Advanced    1.735e+05      2e+04      8.670      0.000    1.34e+05    2.13e+05\n",
      "Lesser     -4433.1232   2504.641     -1.770      0.078   -9375.733     509.487\n",
      "==============================================================================\n",
      "Omnibus:                       96.491   Durbin-Watson:                   1.736\n",
      "Prob(Omnibus):                  0.000   Jarque-Bera (JB):              938.202\n",
      "Skew:                           1.734   Prob(JB):                    1.87e-204\n",
      "Kurtosis:                      13.601   Cond. No.                         21.6\n",
      "==============================================================================\n",
      "\n",
      "Warnings:\n",
      "[1] Standard Errors assume that the covariance matrix of the errors is correctly specified.\n"
     ]
    }
   ],
   "source": [
    "lm2_1 = smf.ols(formula = 'IncomePerCapita ~ Bachelor + Advanced + Lesser-1', data = data4).fit()\n",
    "print(lm2_1.summary())"
   ]
  },
  {
   "cell_type": "markdown",
   "metadata": {
    "colab_type": "text",
    "id": "b_HKtxwCl22A"
   },
   "source": [
    "### Task 2: Visualize the regression fit by plotting the observation versus our prediction for the income per zip code."
   ]
  },
  {
   "cell_type": "code",
   "execution_count": 22,
   "metadata": {},
   "outputs": [
    {
     "data": {
      "text/plain": [
       "[<matplotlib.lines.Line2D at 0x1dae4d2f0b8>]"
      ]
     },
     "execution_count": 22,
     "metadata": {},
     "output_type": "execute_result"
    },
    {
     "data": {
      "image/png": "[encoded data removed]",
      "text/plain": [
       "<Figure size 432x288 with 1 Axes>"
      ]
     },
     "metadata": {
      "needs_background": "light"
     },
     "output_type": "display_data"
    }
   ],
   "source": [
    "data4['pred_IPC_A']=lm2_2.predict() \n",
    "plt.plot(data4.Advanced,data4.IncomePerCapita,'.r') \n",
    "plt.plot(data4.Advanced,data4.pred_IPC_A,'b') "
   ]
  },
  {
   "cell_type": "code",
   "execution_count": 23,
   "metadata": {},
   "outputs": [
    {
     "data": {
      "text/plain": [
       "[<matplotlib.lines.Line2D at 0x1dae4d43390>]"
      ]
     },
     "execution_count": 23,
     "metadata": {},
     "output_type": "execute_result"
    },
    {
     "data": {
      "image/png": "[encoded data removed]",
      "text/plain": [
       "<Figure size 432x288 with 1 Axes>"
      ]
     },
     "metadata": {
      "needs_background": "light"
     },
     "output_type": "display_data"
    }
   ],
   "source": [
    "data4['pred_IPC_L']=lm2_3.predict() \n",
    "plt.plot(data4.Lesser,data4.IncomePerCapita,'.r') \n",
    "plt.plot(data4.Lesser,data4.pred_IPC_L,'b') "
   ]
  },
  {
   "cell_type": "markdown",
   "metadata": {},
   "source": [
    "Now it's clear to see that IPC does increase with a higher degree percentage. Studying hard really pays back. Let's visualize what we ought to do."
   ]
  },
  {
   "cell_type": "code",
   "execution_count": 55,
   "metadata": {},
   "outputs": [
    {
     "data": {
      "text/plain": [
       "Text(0, 0.5, 'Observed Income')"
      ]
     },
     "execution_count": 55,
     "metadata": {},
     "output_type": "execute_result"
    },
    {
     "data": {
      "image/png": "[encoded data removed]",
      "text/plain": [
       "<Figure size 432x288 with 1 Axes>"
      ]
     },
     "metadata": {
      "needs_background": "light"
     },
     "output_type": "display_data"
    }
   ],
   "source": [
    "# Visualize the regression fit by plotting the observation versus our prediction for the income per zip code.\n",
    "plt.plot(lm2_1.predict(), data4['IncomePerCapita'],'.r')\n",
    "plt.plot(lm2_1.predict(), lm2_1.predict(),'b')\n",
    "plt.xlabel('Predicted Income')\n",
    "plt.ylabel('Observed Income')"
   ]
  },
  {
   "cell_type": "markdown",
   "metadata": {
    "colab_type": "text",
    "id": "wgcL8G7rmPTS"
   },
   "source": [
    "## Problem 3:Refer in class session_05_01 Scaling python notebook to complete this part of the assignment."
   ]
  },
  {
   "cell_type": "markdown",
   "metadata": {
    "colab_type": "text",
    "id": "IWz_qqNzmfGg"
   },
   "source": [
    "### Task 1:Establish a scaling relationship  Y∼CXq  between total, violent and property crime vs population (by running log-scale regression where Crime>0). Visualize on the log scale. Does  q=1  fall into the 95% confidence interval? What about 99% CI?"
   ]
  },
  {
   "cell_type": "code",
   "execution_count": 24,
   "metadata": {},
   "outputs": [],
   "source": [
    "msa = pd.read_csv('data/msalist1.csv', encoding = \"ISO-8859-1\")\n",
    "msaNames={r['msa']:r['msa_name'] for i,r in msa.iterrows()}"
   ]
  },
  {
   "cell_type": "code",
   "execution_count": 25,
   "metadata": {
    "colab": {},
    "colab_type": "code",
    "id": "xcGKr7cPmmhV",
    "scrolled": false
   },
   "outputs": [
    {
     "data": {
      "text/html": [
       "<div>\n",
       "<style scoped>\n",
       "    .dataframe tbody tr th:only-of-type {\n",
       "        vertical-align: middle;\n",
       "    }\n",
       "\n",
       "    .dataframe tbody tr th {\n",
       "        vertical-align: top;\n",
       "    }\n",
       "\n",
       "    .dataframe thead th {\n",
       "        text-align: right;\n",
       "    }\n",
       "</style>\n",
       "<table border=\"1\" class=\"dataframe\">\n",
       "  <thead>\n",
       "    <tr style=\"text-align: right;\">\n",
       "      <th></th>\n",
       "      <th>Population</th>\n",
       "      <th>Crimes</th>\n",
       "      <th>Violent_Crimes</th>\n",
       "      <th>Property_Crimes</th>\n",
       "    </tr>\n",
       "    <tr>\n",
       "      <th>msa</th>\n",
       "      <th></th>\n",
       "      <th></th>\n",
       "      <th></th>\n",
       "      <th></th>\n",
       "    </tr>\n",
       "  </thead>\n",
       "  <tbody>\n",
       "    <tr>\n",
       "      <td>10180</td>\n",
       "      <td>168592.0</td>\n",
       "      <td>492</td>\n",
       "      <td>62</td>\n",
       "      <td>430</td>\n",
       "    </tr>\n",
       "    <tr>\n",
       "      <td>10420</td>\n",
       "      <td>703825.0</td>\n",
       "      <td>2397</td>\n",
       "      <td>106</td>\n",
       "      <td>2291</td>\n",
       "    </tr>\n",
       "    <tr>\n",
       "      <td>10500</td>\n",
       "      <td>151670.0</td>\n",
       "      <td>1364</td>\n",
       "      <td>107</td>\n",
       "      <td>1257</td>\n",
       "    </tr>\n",
       "    <tr>\n",
       "      <td>10540</td>\n",
       "      <td>119356.0</td>\n",
       "      <td>1092</td>\n",
       "      <td>23</td>\n",
       "      <td>1069</td>\n",
       "    </tr>\n",
       "    <tr>\n",
       "      <td>10580</td>\n",
       "      <td>880167.0</td>\n",
       "      <td>1590</td>\n",
       "      <td>91</td>\n",
       "      <td>1499</td>\n",
       "    </tr>\n",
       "  </tbody>\n",
       "</table>\n",
       "</div>"
      ],
      "text/plain": [
       "       Population  Crimes  Violent_Crimes  Property_Crimes\n",
       "msa                                                       \n",
       "10180    168592.0     492              62              430\n",
       "10420    703825.0    2397             106             2291\n",
       "10500    151670.0    1364             107             1257\n",
       "10540    119356.0    1092              23             1069\n",
       "10580    880167.0    1590              91             1499"
      ]
     },
     "execution_count": 25,
     "metadata": {},
     "output_type": "execute_result"
    }
   ],
   "source": [
    "crime2014 = pd.read_csv('data/crime2014/R11460954_SL050.csv') #Load crime data\n",
    "crime2014.rename(columns = { u'SE_T001_001' : 'Population',\\\n",
    "                             u'SE_T002_001' : 'Crimes',\\\n",
    "                          u'SE_T002_002' : 'Violent_Crimes', \\\n",
    "                          u'SE_T002_003' : 'Property_Crimes' }, inplace=True)\n",
    "\n",
    "crime2014 = crime2014[[u'Geo_FIPS', u'Geo_NAME', u'Geo_QNAME', u'Geo_STATE', u'Geo_COUNTY', 'Population', 'Crimes' , 'Violent_Crimes', 'Property_Crimes']]\n",
    "\n",
    "def num(s):\n",
    "    try:\n",
    "        return int(s)\n",
    "    except ValueError:\n",
    "        0\n",
    "\n",
    "crime2014['ID'] = crime2014.Geo_FIPS.apply(num)\n",
    "msa['ID'] = msa.Geo_FIPS.apply(num)\n",
    "\n",
    "\n",
    "crimemsa = pd.merge(crime2014, msa, on='ID', how='inner')\n",
    "\n",
    "msaCrime = crimemsa.groupby(by='msa').sum().loc[:,[u'Population', u'Crimes', u'Violent_Crimes', u'Property_Crimes']]\n",
    "msaCrime.head()"
   ]
  },
  {
   "cell_type": "code",
   "execution_count": 26,
   "metadata": {},
   "outputs": [
    {
     "data": {
      "text/html": [
       "<div>\n",
       "<style scoped>\n",
       "    .dataframe tbody tr th:only-of-type {\n",
       "        vertical-align: middle;\n",
       "    }\n",
       "\n",
       "    .dataframe tbody tr th {\n",
       "        vertical-align: top;\n",
       "    }\n",
       "\n",
       "    .dataframe thead th {\n",
       "        text-align: right;\n",
       "    }\n",
       "</style>\n",
       "<table border=\"1\" class=\"dataframe\">\n",
       "  <thead>\n",
       "    <tr style=\"text-align: right;\">\n",
       "      <th></th>\n",
       "      <th>msa</th>\n",
       "      <th>msa_name</th>\n",
       "      <th>Geo_FIPS</th>\n",
       "      <th>county</th>\n",
       "      <th>ID</th>\n",
       "    </tr>\n",
       "  </thead>\n",
       "  <tbody>\n",
       "    <tr>\n",
       "      <td>0</td>\n",
       "      <td>10180</td>\n",
       "      <td>Abilene, TX (Metropolitan Statistical Area)</td>\n",
       "      <td>48059</td>\n",
       "      <td>Callahan, TX</td>\n",
       "      <td>48059</td>\n",
       "    </tr>\n",
       "    <tr>\n",
       "      <td>1</td>\n",
       "      <td>10180</td>\n",
       "      <td>Abilene, TX (Metropolitan Statistical Area)</td>\n",
       "      <td>48253</td>\n",
       "      <td>Jones, TX</td>\n",
       "      <td>48253</td>\n",
       "    </tr>\n",
       "    <tr>\n",
       "      <td>2</td>\n",
       "      <td>10180</td>\n",
       "      <td>Abilene, TX (Metropolitan Statistical Area)</td>\n",
       "      <td>48441</td>\n",
       "      <td>Taylor, TX</td>\n",
       "      <td>48441</td>\n",
       "    </tr>\n",
       "    <tr>\n",
       "      <td>3</td>\n",
       "      <td>10420</td>\n",
       "      <td>Akron, OH (Metropolitan Statistical Area)</td>\n",
       "      <td>39133</td>\n",
       "      <td>Portage, OH</td>\n",
       "      <td>39133</td>\n",
       "    </tr>\n",
       "    <tr>\n",
       "      <td>4</td>\n",
       "      <td>10420</td>\n",
       "      <td>Akron, OH (Metropolitan Statistical Area)</td>\n",
       "      <td>39153</td>\n",
       "      <td>Summit, OH</td>\n",
       "      <td>39153</td>\n",
       "    </tr>\n",
       "  </tbody>\n",
       "</table>\n",
       "</div>"
      ],
      "text/plain": [
       "     msa                                     msa_name  Geo_FIPS        county  \\\n",
       "0  10180  Abilene, TX (Metropolitan Statistical Area)     48059  Callahan, TX   \n",
       "1  10180  Abilene, TX (Metropolitan Statistical Area)     48253     Jones, TX   \n",
       "2  10180  Abilene, TX (Metropolitan Statistical Area)     48441    Taylor, TX   \n",
       "3  10420    Akron, OH (Metropolitan Statistical Area)     39133   Portage, OH   \n",
       "4  10420    Akron, OH (Metropolitan Statistical Area)     39153    Summit, OH   \n",
       "\n",
       "      ID  \n",
       "0  48059  \n",
       "1  48253  \n",
       "2  48441  \n",
       "3  39133  \n",
       "4  39153  "
      ]
     },
     "execution_count": 26,
     "metadata": {},
     "output_type": "execute_result"
    }
   ],
   "source": [
    "msa.head()"
   ]
  },
  {
   "cell_type": "code",
   "execution_count": 27,
   "metadata": {
    "scrolled": true
   },
   "outputs": [],
   "source": [
    "msaCrime = msaCrime[['Population', 'Crimes', 'Violent_Crimes', 'Property_Crimes']]\n",
    "df = msaCrime.dropna(axis=0, how='any')\n",
    "df1 = df.loc[df['Crimes'] > 0]"
   ]
  },
  {
   "cell_type": "code",
   "execution_count": 28,
   "metadata": {},
   "outputs": [
    {
     "data": {
      "text/plain": [
       "337"
      ]
     },
     "execution_count": 28,
     "metadata": {},
     "output_type": "execute_result"
    }
   ],
   "source": [
    "len(df1)"
   ]
  },
  {
   "cell_type": "code",
   "execution_count": 29,
   "metadata": {
    "scrolled": true
   },
   "outputs": [
    {
     "data": {
      "text/html": [
       "<div>\n",
       "<style scoped>\n",
       "    .dataframe tbody tr th:only-of-type {\n",
       "        vertical-align: middle;\n",
       "    }\n",
       "\n",
       "    .dataframe tbody tr th {\n",
       "        vertical-align: top;\n",
       "    }\n",
       "\n",
       "    .dataframe thead th {\n",
       "        text-align: right;\n",
       "    }\n",
       "</style>\n",
       "<table border=\"1\" class=\"dataframe\">\n",
       "  <thead>\n",
       "    <tr style=\"text-align: right;\">\n",
       "      <th></th>\n",
       "      <th>Population</th>\n",
       "      <th>Crimes</th>\n",
       "      <th>Violent_Crimes</th>\n",
       "      <th>Property_Crimes</th>\n",
       "    </tr>\n",
       "    <tr>\n",
       "      <th>msa</th>\n",
       "      <th></th>\n",
       "      <th></th>\n",
       "      <th></th>\n",
       "      <th></th>\n",
       "    </tr>\n",
       "  </thead>\n",
       "  <tbody>\n",
       "    <tr>\n",
       "      <td>10180</td>\n",
       "      <td>168592.0</td>\n",
       "      <td>492</td>\n",
       "      <td>62</td>\n",
       "      <td>430</td>\n",
       "    </tr>\n",
       "    <tr>\n",
       "      <td>10420</td>\n",
       "      <td>703825.0</td>\n",
       "      <td>2397</td>\n",
       "      <td>106</td>\n",
       "      <td>2291</td>\n",
       "    </tr>\n",
       "    <tr>\n",
       "      <td>10500</td>\n",
       "      <td>151670.0</td>\n",
       "      <td>1364</td>\n",
       "      <td>107</td>\n",
       "      <td>1257</td>\n",
       "    </tr>\n",
       "    <tr>\n",
       "      <td>10540</td>\n",
       "      <td>119356.0</td>\n",
       "      <td>1092</td>\n",
       "      <td>23</td>\n",
       "      <td>1069</td>\n",
       "    </tr>\n",
       "    <tr>\n",
       "      <td>10580</td>\n",
       "      <td>880167.0</td>\n",
       "      <td>1590</td>\n",
       "      <td>91</td>\n",
       "      <td>1499</td>\n",
       "    </tr>\n",
       "  </tbody>\n",
       "</table>\n",
       "</div>"
      ],
      "text/plain": [
       "       Population  Crimes  Violent_Crimes  Property_Crimes\n",
       "msa                                                       \n",
       "10180    168592.0     492              62              430\n",
       "10420    703825.0    2397             106             2291\n",
       "10500    151670.0    1364             107             1257\n",
       "10540    119356.0    1092              23             1069\n",
       "10580    880167.0    1590              91             1499"
      ]
     },
     "execution_count": 29,
     "metadata": {},
     "output_type": "execute_result"
    }
   ],
   "source": [
    "# Prepare the data\n",
    "df1.head()"
   ]
  },
  {
   "cell_type": "code",
   "execution_count": 30,
   "metadata": {
    "scrolled": true
   },
   "outputs": [
    {
     "name": "stdout",
     "output_type": "stream",
     "text": [
      "                            OLS Regression Results                            \n",
      "==============================================================================\n",
      "Dep. Variable:                 Crimes   R-squared:                       0.351\n",
      "Model:                            OLS   Adj. R-squared:                  0.350\n",
      "Method:                 Least Squares   F-statistic:                     181.6\n",
      "Date:                Sun, 20 Oct 2019   Prob (F-statistic):           2.29e-33\n",
      "Time:                        20:32:38   Log-Likelihood:                -542.10\n",
      "No. Observations:                 337   AIC:                             1088.\n",
      "Df Residuals:                     335   BIC:                             1096.\n",
      "Df Model:                           1                                         \n",
      "Covariance Type:            nonrobust                                         \n",
      "==============================================================================\n",
      "                 coef    std err          t      P>|t|      [0.025      0.975]\n",
      "------------------------------------------------------------------------------\n",
      "Intercept     -3.1676      0.768     -4.127      0.000      -4.677      -1.658\n",
      "Population     0.8218      0.061     13.475      0.000       0.702       0.942\n",
      "==============================================================================\n",
      "Omnibus:                      224.360   Durbin-Watson:                   0.441\n",
      "Prob(Omnibus):                  0.000   Jarque-Bera (JB):             2291.504\n",
      "Skew:                          -2.697   Prob(JB):                         0.00\n",
      "Kurtosis:                      14.580   Cond. No.                         147.\n",
      "==============================================================================\n",
      "\n",
      "Warnings:\n",
      "[1] Standard Errors assume that the covariance matrix of the errors is correctly specified.\n"
     ]
    }
   ],
   "source": [
    "# implement Log Scale and fit the regression\n",
    "logPop = np.log(df1['Population'])\n",
    "logCrime = np.log(df1['Crimes'])\n",
    "dataLog = pd.DataFrame(data=[logCrime, logPop]).T\n",
    "dataLog.sort_values(by='Crimes', ascending=False, inplace=True) #Sorting values for better visualization\n",
    "\n",
    "lmCrime = smf.ols('Crimes~Population', data=dataLog).fit()\n",
    "print(lmCrime.summary())"
   ]
  },
  {
   "cell_type": "code",
   "execution_count": 31,
   "metadata": {},
   "outputs": [
    {
     "data": {
      "text/plain": [
       "[<matplotlib.lines.Line2D at 0x1dae17ce8d0>]"
      ]
     },
     "execution_count": 31,
     "metadata": {},
     "output_type": "execute_result"
    },
    {
     "data": {
      "image/png": "[encoded data removed]",
      "text/plain": [
       "<Figure size 1008x576 with 1 Axes>"
      ]
     },
     "metadata": {
      "needs_background": "light"
     },
     "output_type": "display_data"
    }
   ],
   "source": [
    "plt.figure(figsize=(14,8))\n",
    "plt.plot(dataLog['Population'], dataLog['Crimes'], 'o')\n",
    "plt.title('Crime scaing', fontsize = 15)\n",
    "plt.xlabel('Population')\n",
    "plt.ylabel('Crimes')\n",
    "plt.plot(dataLog['Population'], lmCrime.predict(), '-r')\n",
    "# Visualize the regression"
   ]
  },
  {
   "cell_type": "code",
   "execution_count": 32,
   "metadata": {
    "scrolled": true
   },
   "outputs": [
    {
     "data": {
      "text/html": [
       "<div>\n",
       "<style scoped>\n",
       "    .dataframe tbody tr th:only-of-type {\n",
       "        vertical-align: middle;\n",
       "    }\n",
       "\n",
       "    .dataframe tbody tr th {\n",
       "        vertical-align: top;\n",
       "    }\n",
       "\n",
       "    .dataframe thead th {\n",
       "        text-align: right;\n",
       "    }\n",
       "</style>\n",
       "<table border=\"1\" class=\"dataframe\">\n",
       "  <thead>\n",
       "    <tr style=\"text-align: right;\">\n",
       "      <th></th>\n",
       "      <th>0</th>\n",
       "      <th>1</th>\n",
       "    </tr>\n",
       "  </thead>\n",
       "  <tbody>\n",
       "    <tr>\n",
       "      <td>Intercept</td>\n",
       "      <td>-4.677330</td>\n",
       "      <td>-1.657776</td>\n",
       "    </tr>\n",
       "    <tr>\n",
       "      <td>Population</td>\n",
       "      <td>0.701814</td>\n",
       "      <td>0.941740</td>\n",
       "    </tr>\n",
       "  </tbody>\n",
       "</table>\n",
       "</div>"
      ],
      "text/plain": [
       "                   0         1\n",
       "Intercept  -4.677330 -1.657776\n",
       "Population  0.701814  0.941740"
      ]
     },
     "execution_count": 32,
     "metadata": {},
     "output_type": "execute_result"
    }
   ],
   "source": [
    "lmCrime.conf_int(alpha=0.05)"
   ]
  },
  {
   "cell_type": "code",
   "execution_count": 33,
   "metadata": {
    "scrolled": true
   },
   "outputs": [
    {
     "data": {
      "text/html": [
       "<div>\n",
       "<style scoped>\n",
       "    .dataframe tbody tr th:only-of-type {\n",
       "        vertical-align: middle;\n",
       "    }\n",
       "\n",
       "    .dataframe tbody tr th {\n",
       "        vertical-align: top;\n",
       "    }\n",
       "\n",
       "    .dataframe thead th {\n",
       "        text-align: right;\n",
       "    }\n",
       "</style>\n",
       "<table border=\"1\" class=\"dataframe\">\n",
       "  <thead>\n",
       "    <tr style=\"text-align: right;\">\n",
       "      <th></th>\n",
       "      <th>0</th>\n",
       "      <th>1</th>\n",
       "    </tr>\n",
       "  </thead>\n",
       "  <tbody>\n",
       "    <tr>\n",
       "      <td>Intercept</td>\n",
       "      <td>-5.155893</td>\n",
       "      <td>-1.179213</td>\n",
       "    </tr>\n",
       "    <tr>\n",
       "      <td>Population</td>\n",
       "      <td>0.663789</td>\n",
       "      <td>0.979765</td>\n",
       "    </tr>\n",
       "  </tbody>\n",
       "</table>\n",
       "</div>"
      ],
      "text/plain": [
       "                   0         1\n",
       "Intercept  -5.155893 -1.179213\n",
       "Population  0.663789  0.979765"
      ]
     },
     "execution_count": 33,
     "metadata": {},
     "output_type": "execute_result"
    }
   ],
   "source": [
    "lmCrime.conf_int(alpha=0.01)"
   ]
  },
  {
   "cell_type": "markdown",
   "metadata": {},
   "source": [
    "Even with 99% CI, the q of total crimes still doesn't reach 1. This is reasonable because crime rate increase shouldn't be as quick or even quicker than that of the population."
   ]
  },
  {
   "cell_type": "code",
   "execution_count": 34,
   "metadata": {
    "scrolled": true
   },
   "outputs": [
    {
     "data": {
      "text/plain": [
       "[<matplotlib.lines.Line2D at 0x1dae167f6a0>]"
      ]
     },
     "execution_count": 34,
     "metadata": {},
     "output_type": "execute_result"
    },
    {
     "data": {
      "image/png": "[encoded data removed]",
      "text/plain": [
       "<Figure size 1008x576 with 1 Axes>"
      ]
     },
     "metadata": {
      "needs_background": "light"
     },
     "output_type": "display_data"
    }
   ],
   "source": [
    "df2 = df.loc[df['Violent_Crimes'] > 0]\n",
    "logPop2 = np.log(df2['Population'])\n",
    "logCrime2 = np.log(df2['Violent_Crimes'])\n",
    "dataLog2 = pd.DataFrame(data=[logCrime2, logPop2]).T\n",
    "dataLog2.sort_values(by='Violent_Crimes', ascending=False, inplace=True) #Sorting values for better visualization\n",
    "lmCrime2 = smf.ols('Violent_Crimes~Population', data=dataLog2).fit()\n",
    "plt.figure(figsize=(14,8))\n",
    "plt.plot(dataLog2['Population'], dataLog2['Violent_Crimes'], 'o')\n",
    "plt.title('Violent Crime scaing', fontsize = 15)\n",
    "plt.xlabel('Population')\n",
    "plt.ylabel('Violent Crimes')\n",
    "plt.plot(dataLog2['Population'], lmCrime2.predict(), '-r')"
   ]
  },
  {
   "cell_type": "code",
   "execution_count": 35,
   "metadata": {
    "scrolled": true
   },
   "outputs": [
    {
     "data": {
      "text/html": [
       "<div>\n",
       "<style scoped>\n",
       "    .dataframe tbody tr th:only-of-type {\n",
       "        vertical-align: middle;\n",
       "    }\n",
       "\n",
       "    .dataframe tbody tr th {\n",
       "        vertical-align: top;\n",
       "    }\n",
       "\n",
       "    .dataframe thead th {\n",
       "        text-align: right;\n",
       "    }\n",
       "</style>\n",
       "<table border=\"1\" class=\"dataframe\">\n",
       "  <thead>\n",
       "    <tr style=\"text-align: right;\">\n",
       "      <th></th>\n",
       "      <th>0</th>\n",
       "      <th>1</th>\n",
       "    </tr>\n",
       "  </thead>\n",
       "  <tbody>\n",
       "    <tr>\n",
       "      <td>Intercept</td>\n",
       "      <td>-7.648421</td>\n",
       "      <td>-5.035586</td>\n",
       "    </tr>\n",
       "    <tr>\n",
       "      <td>Population</td>\n",
       "      <td>0.797491</td>\n",
       "      <td>1.005114</td>\n",
       "    </tr>\n",
       "  </tbody>\n",
       "</table>\n",
       "</div>"
      ],
      "text/plain": [
       "                   0         1\n",
       "Intercept  -7.648421 -5.035586\n",
       "Population  0.797491  1.005114"
      ]
     },
     "execution_count": 35,
     "metadata": {},
     "output_type": "execute_result"
    }
   ],
   "source": [
    "lmCrime2.conf_int(alpha=0.05)"
   ]
  },
  {
   "cell_type": "code",
   "execution_count": 36,
   "metadata": {},
   "outputs": [
    {
     "data": {
      "text/html": [
       "<div>\n",
       "<style scoped>\n",
       "    .dataframe tbody tr th:only-of-type {\n",
       "        vertical-align: middle;\n",
       "    }\n",
       "\n",
       "    .dataframe tbody tr th {\n",
       "        vertical-align: top;\n",
       "    }\n",
       "\n",
       "    .dataframe thead th {\n",
       "        text-align: right;\n",
       "    }\n",
       "</style>\n",
       "<table border=\"1\" class=\"dataframe\">\n",
       "  <thead>\n",
       "    <tr style=\"text-align: right;\">\n",
       "      <th></th>\n",
       "      <th>0</th>\n",
       "      <th>1</th>\n",
       "    </tr>\n",
       "  </thead>\n",
       "  <tbody>\n",
       "    <tr>\n",
       "      <td>Intercept</td>\n",
       "      <td>-8.062546</td>\n",
       "      <td>-4.621462</td>\n",
       "    </tr>\n",
       "    <tr>\n",
       "      <td>Population</td>\n",
       "      <td>0.764583</td>\n",
       "      <td>1.038021</td>\n",
       "    </tr>\n",
       "  </tbody>\n",
       "</table>\n",
       "</div>"
      ],
      "text/plain": [
       "                   0         1\n",
       "Intercept  -8.062546 -4.621462\n",
       "Population  0.764583  1.038021"
      ]
     },
     "execution_count": 36,
     "metadata": {},
     "output_type": "execute_result"
    }
   ],
   "source": [
    "lmCrime2.conf_int(alpha=0.01)"
   ]
  },
  {
   "cell_type": "code",
   "execution_count": 37,
   "metadata": {},
   "outputs": [
    {
     "data": {
      "text/plain": [
       "[<matplotlib.lines.Line2D at 0x1dae4ea4320>]"
      ]
     },
     "execution_count": 37,
     "metadata": {},
     "output_type": "execute_result"
    },
    {
     "data": {
      "image/png": "[encoded data removed]",
      "text/plain": [
       "<Figure size 1008x576 with 1 Axes>"
      ]
     },
     "metadata": {
      "needs_background": "light"
     },
     "output_type": "display_data"
    }
   ],
   "source": [
    "df3 = df.loc[df['Property_Crimes'] > 0]\n",
    "logPop3 = np.log(df3['Population'])\n",
    "logCrime3 = np.log(df3['Property_Crimes'])\n",
    "dataLog3 = pd.DataFrame(data=[logCrime3, logPop3]).T\n",
    "dataLog3.sort_values(by='Property_Crimes', ascending=False, inplace=True) #Sorting values for better visualization\n",
    "lmCrime3 = smf.ols('Property_Crimes~Population', data=dataLog3).fit()\n",
    "plt.figure(figsize=(14,8))\n",
    "plt.plot(dataLog3['Population'], dataLog3['Property_Crimes'], 'o')\n",
    "plt.title('Property Crime scaing', fontsize = 15)\n",
    "plt.xlabel('Population')\n",
    "plt.ylabel('Property Crimes')\n",
    "plt.plot(dataLog3['Population'], lmCrime3.predict(), '-r')"
   ]
  },
  {
   "cell_type": "code",
   "execution_count": 38,
   "metadata": {
    "scrolled": true
   },
   "outputs": [
    {
     "data": {
      "text/html": [
       "<div>\n",
       "<style scoped>\n",
       "    .dataframe tbody tr th:only-of-type {\n",
       "        vertical-align: middle;\n",
       "    }\n",
       "\n",
       "    .dataframe tbody tr th {\n",
       "        vertical-align: top;\n",
       "    }\n",
       "\n",
       "    .dataframe thead th {\n",
       "        text-align: right;\n",
       "    }\n",
       "</style>\n",
       "<table border=\"1\" class=\"dataframe\">\n",
       "  <thead>\n",
       "    <tr style=\"text-align: right;\">\n",
       "      <th></th>\n",
       "      <th>0</th>\n",
       "      <th>1</th>\n",
       "    </tr>\n",
       "  </thead>\n",
       "  <tbody>\n",
       "    <tr>\n",
       "      <td>Intercept</td>\n",
       "      <td>-4.526343</td>\n",
       "      <td>-1.745729</td>\n",
       "    </tr>\n",
       "    <tr>\n",
       "      <td>Population</td>\n",
       "      <td>0.702375</td>\n",
       "      <td>0.923313</td>\n",
       "    </tr>\n",
       "  </tbody>\n",
       "</table>\n",
       "</div>"
      ],
      "text/plain": [
       "                   0         1\n",
       "Intercept  -4.526343 -1.745729\n",
       "Population  0.702375  0.923313"
      ]
     },
     "execution_count": 38,
     "metadata": {},
     "output_type": "execute_result"
    }
   ],
   "source": [
    "lmCrime3.conf_int(alpha=0.05)"
   ]
  },
  {
   "cell_type": "code",
   "execution_count": 39,
   "metadata": {
    "scrolled": true
   },
   "outputs": [
    {
     "data": {
      "text/html": [
       "<div>\n",
       "<style scoped>\n",
       "    .dataframe tbody tr th:only-of-type {\n",
       "        vertical-align: middle;\n",
       "    }\n",
       "\n",
       "    .dataframe tbody tr th {\n",
       "        vertical-align: top;\n",
       "    }\n",
       "\n",
       "    .dataframe thead th {\n",
       "        text-align: right;\n",
       "    }\n",
       "</style>\n",
       "<table border=\"1\" class=\"dataframe\">\n",
       "  <thead>\n",
       "    <tr style=\"text-align: right;\">\n",
       "      <th></th>\n",
       "      <th>0</th>\n",
       "      <th>1</th>\n",
       "    </tr>\n",
       "  </thead>\n",
       "  <tbody>\n",
       "    <tr>\n",
       "      <td>Intercept</td>\n",
       "      <td>-4.967071</td>\n",
       "      <td>-1.305000</td>\n",
       "    </tr>\n",
       "    <tr>\n",
       "      <td>Population</td>\n",
       "      <td>0.667356</td>\n",
       "      <td>0.958331</td>\n",
       "    </tr>\n",
       "  </tbody>\n",
       "</table>\n",
       "</div>"
      ],
      "text/plain": [
       "                   0         1\n",
       "Intercept  -4.967071 -1.305000\n",
       "Population  0.667356  0.958331"
      ]
     },
     "execution_count": 39,
     "metadata": {},
     "output_type": "execute_result"
    }
   ],
   "source": [
    "lmCrime3.conf_int(alpha=0.01)"
   ]
  },
  {
   "cell_type": "markdown",
   "metadata": {},
   "source": [
    "As we can see from above, the total crime and property crime q is less than 1 no matter for 95%CI or 99%CI, while the q of violent crimes is greate than 1 in 95%CI, not to say 99%CI."
   ]
  },
  {
   "cell_type": "markdown",
   "metadata": {
    "colab_type": "text",
    "id": "dLil57hgmuLC"
   },
   "source": [
    "### Task 2: Find top 5 and last 5 cities by crime log-residual (difference between log-crime and above regression prediction)"
   ]
  },
  {
   "cell_type": "code",
   "execution_count": 40,
   "metadata": {
    "colab": {},
    "colab_type": "code",
    "id": "AgMrpEium3Hi",
    "scrolled": true
   },
   "outputs": [
    {
     "data": {
      "text/html": [
       "<div>\n",
       "<style scoped>\n",
       "    .dataframe tbody tr th:only-of-type {\n",
       "        vertical-align: middle;\n",
       "    }\n",
       "\n",
       "    .dataframe tbody tr th {\n",
       "        vertical-align: top;\n",
       "    }\n",
       "\n",
       "    .dataframe thead th {\n",
       "        text-align: right;\n",
       "    }\n",
       "</style>\n",
       "<table border=\"1\" class=\"dataframe\">\n",
       "  <thead>\n",
       "    <tr style=\"text-align: right;\">\n",
       "      <th></th>\n",
       "      <th>Crimes</th>\n",
       "      <th>Population</th>\n",
       "      <th>msaName</th>\n",
       "    </tr>\n",
       "    <tr>\n",
       "      <th>msa</th>\n",
       "      <th></th>\n",
       "      <th></th>\n",
       "      <th></th>\n",
       "    </tr>\n",
       "  </thead>\n",
       "  <tbody>\n",
       "    <tr>\n",
       "      <td>26420</td>\n",
       "      <td>11.198352</td>\n",
       "      <td>15.685801</td>\n",
       "      <td>Houston-The Woodlands-Sugar Land, TX (Metropol...</td>\n",
       "    </tr>\n",
       "    <tr>\n",
       "      <td>33100</td>\n",
       "      <td>11.025784</td>\n",
       "      <td>15.595504</td>\n",
       "      <td>Miami-Fort Lauderdale-West Palm Beach, FL (Met...</td>\n",
       "    </tr>\n",
       "    <tr>\n",
       "      <td>36740</td>\n",
       "      <td>10.683661</td>\n",
       "      <td>14.657689</td>\n",
       "      <td>Orlando-Kissimmee-Sanford, FL (Metropolitan St...</td>\n",
       "    </tr>\n",
       "    <tr>\n",
       "      <td>45300</td>\n",
       "      <td>10.571035</td>\n",
       "      <td>14.885580</td>\n",
       "      <td>Tampa-St. Petersburg-Clearwater, FL (Metropoli...</td>\n",
       "    </tr>\n",
       "    <tr>\n",
       "      <td>24860</td>\n",
       "      <td>10.098890</td>\n",
       "      <td>13.667548</td>\n",
       "      <td>Greenville-Anderson-Mauldin, SC (Metropolitan ...</td>\n",
       "    </tr>\n",
       "  </tbody>\n",
       "</table>\n",
       "</div>"
      ],
      "text/plain": [
       "          Crimes  Population  \\\n",
       "msa                            \n",
       "26420  11.198352   15.685801   \n",
       "33100  11.025784   15.595504   \n",
       "36740  10.683661   14.657689   \n",
       "45300  10.571035   14.885580   \n",
       "24860  10.098890   13.667548   \n",
       "\n",
       "                                                 msaName  \n",
       "msa                                                       \n",
       "26420  Houston-The Woodlands-Sugar Land, TX (Metropol...  \n",
       "33100  Miami-Fort Lauderdale-West Palm Beach, FL (Met...  \n",
       "36740  Orlando-Kissimmee-Sanford, FL (Metropolitan St...  \n",
       "45300  Tampa-St. Petersburg-Clearwater, FL (Metropoli...  \n",
       "24860  Greenville-Anderson-Mauldin, SC (Metropolitan ...  "
      ]
     },
     "execution_count": 40,
     "metadata": {},
     "output_type": "execute_result"
    }
   ],
   "source": [
    "dataLog['msaName']=dataLog.index.map(msaNames)\n",
    "dataLog.head()"
   ]
  },
  {
   "cell_type": "code",
   "execution_count": 41,
   "metadata": {
    "scrolled": true
   },
   "outputs": [
    {
     "data": {
      "text/html": [
       "<div>\n",
       "<style scoped>\n",
       "    .dataframe tbody tr th:only-of-type {\n",
       "        vertical-align: middle;\n",
       "    }\n",
       "\n",
       "    .dataframe tbody tr th {\n",
       "        vertical-align: top;\n",
       "    }\n",
       "\n",
       "    .dataframe thead th {\n",
       "        text-align: right;\n",
       "    }\n",
       "</style>\n",
       "<table border=\"1\" class=\"dataframe\">\n",
       "  <thead>\n",
       "    <tr style=\"text-align: right;\">\n",
       "      <th></th>\n",
       "      <th>Crimes</th>\n",
       "      <th>Population</th>\n",
       "      <th>msaName</th>\n",
       "      <th>CrimeRes</th>\n",
       "    </tr>\n",
       "    <tr>\n",
       "      <th>msa</th>\n",
       "      <th></th>\n",
       "      <th></th>\n",
       "      <th></th>\n",
       "      <th></th>\n",
       "    </tr>\n",
       "  </thead>\n",
       "  <tbody>\n",
       "    <tr>\n",
       "      <td>11020</td>\n",
       "      <td>0.000000</td>\n",
       "      <td>11.743680</td>\n",
       "      <td>Altoona, PA (Metropolitan Statistical Area)</td>\n",
       "      <td>6.483133</td>\n",
       "    </tr>\n",
       "    <tr>\n",
       "      <td>21500</td>\n",
       "      <td>0.693147</td>\n",
       "      <td>12.536969</td>\n",
       "      <td>Erie, PA (Metropolitan Statistical Area)</td>\n",
       "      <td>6.441892</td>\n",
       "    </tr>\n",
       "    <tr>\n",
       "      <td>10900</td>\n",
       "      <td>1.098612</td>\n",
       "      <td>12.917970</td>\n",
       "      <td>Allentown-Bethlehem-Easton, PA-NJ (Metropolita...</td>\n",
       "      <td>6.349525</td>\n",
       "    </tr>\n",
       "    <tr>\n",
       "      <td>38300</td>\n",
       "      <td>2.833213</td>\n",
       "      <td>14.582882</td>\n",
       "      <td>Pittsburgh, PA (Metropolitan Statistical Area)</td>\n",
       "      <td>5.983110</td>\n",
       "    </tr>\n",
       "    <tr>\n",
       "      <td>49620</td>\n",
       "      <td>1.609438</td>\n",
       "      <td>12.996244</td>\n",
       "      <td>York-Hanover, PA (Metropolitan Statistical Area)</td>\n",
       "      <td>5.903023</td>\n",
       "    </tr>\n",
       "  </tbody>\n",
       "</table>\n",
       "</div>"
      ],
      "text/plain": [
       "         Crimes  Population  \\\n",
       "msa                           \n",
       "11020  0.000000   11.743680   \n",
       "21500  0.693147   12.536969   \n",
       "10900  1.098612   12.917970   \n",
       "38300  2.833213   14.582882   \n",
       "49620  1.609438   12.996244   \n",
       "\n",
       "                                                 msaName  CrimeRes  \n",
       "msa                                                                 \n",
       "11020        Altoona, PA (Metropolitan Statistical Area)  6.483133  \n",
       "21500           Erie, PA (Metropolitan Statistical Area)  6.441892  \n",
       "10900  Allentown-Bethlehem-Easton, PA-NJ (Metropolita...  6.349525  \n",
       "38300     Pittsburgh, PA (Metropolitan Statistical Area)  5.983110  \n",
       "49620   York-Hanover, PA (Metropolitan Statistical Area)  5.903023  "
      ]
     },
     "execution_count": 41,
     "metadata": {},
     "output_type": "execute_result"
    }
   ],
   "source": [
    "dataLog['CrimeRes']=lmCrime.predict()-dataLog['Crimes']\n",
    "dataLog.sort_values(by='CrimeRes',ascending=False).head(5)"
   ]
  },
  {
   "cell_type": "code",
   "execution_count": 42,
   "metadata": {},
   "outputs": [
    {
     "data": {
      "text/html": [
       "<div>\n",
       "<style scoped>\n",
       "    .dataframe tbody tr th:only-of-type {\n",
       "        vertical-align: middle;\n",
       "    }\n",
       "\n",
       "    .dataframe tbody tr th {\n",
       "        vertical-align: top;\n",
       "    }\n",
       "\n",
       "    .dataframe thead th {\n",
       "        text-align: right;\n",
       "    }\n",
       "</style>\n",
       "<table border=\"1\" class=\"dataframe\">\n",
       "  <thead>\n",
       "    <tr style=\"text-align: right;\">\n",
       "      <th></th>\n",
       "      <th>Crimes</th>\n",
       "      <th>Population</th>\n",
       "      <th>msaName</th>\n",
       "      <th>CrimeRes</th>\n",
       "    </tr>\n",
       "    <tr>\n",
       "      <th>msa</th>\n",
       "      <th></th>\n",
       "      <th></th>\n",
       "      <th></th>\n",
       "      <th></th>\n",
       "    </tr>\n",
       "  </thead>\n",
       "  <tbody>\n",
       "    <tr>\n",
       "      <td>31420</td>\n",
       "      <td>9.294773</td>\n",
       "      <td>12.347789</td>\n",
       "      <td>Macon-Bibb County, GA (Metropolitan Statistica...</td>\n",
       "      <td>-2.315198</td>\n",
       "    </tr>\n",
       "    <tr>\n",
       "      <td>24860</td>\n",
       "      <td>10.098890</td>\n",
       "      <td>13.667548</td>\n",
       "      <td>Greenville-Anderson-Mauldin, SC (Metropolitan ...</td>\n",
       "      <td>-2.034767</td>\n",
       "    </tr>\n",
       "    <tr>\n",
       "      <td>37860</td>\n",
       "      <td>9.490545</td>\n",
       "      <td>13.069133</td>\n",
       "      <td>Pensacola-Ferry Pass-Brent, FL (Metropolitan S...</td>\n",
       "      <td>-1.918185</td>\n",
       "    </tr>\n",
       "    <tr>\n",
       "      <td>35380</td>\n",
       "      <td>9.919656</td>\n",
       "      <td>13.673404</td>\n",
       "      <td>New Orleans-Metairie, LA (Metropolitan Statist...</td>\n",
       "      <td>-1.850721</td>\n",
       "    </tr>\n",
       "    <tr>\n",
       "      <td>36740</td>\n",
       "      <td>10.683661</td>\n",
       "      <td>14.657689</td>\n",
       "      <td>Orlando-Kissimmee-Sanford, FL (Metropolitan St...</td>\n",
       "      <td>-1.805863</td>\n",
       "    </tr>\n",
       "  </tbody>\n",
       "</table>\n",
       "</div>"
      ],
      "text/plain": [
       "          Crimes  Population  \\\n",
       "msa                            \n",
       "31420   9.294773   12.347789   \n",
       "24860  10.098890   13.667548   \n",
       "37860   9.490545   13.069133   \n",
       "35380   9.919656   13.673404   \n",
       "36740  10.683661   14.657689   \n",
       "\n",
       "                                                 msaName  CrimeRes  \n",
       "msa                                                                 \n",
       "31420  Macon-Bibb County, GA (Metropolitan Statistica... -2.315198  \n",
       "24860  Greenville-Anderson-Mauldin, SC (Metropolitan ... -2.034767  \n",
       "37860  Pensacola-Ferry Pass-Brent, FL (Metropolitan S... -1.918185  \n",
       "35380  New Orleans-Metairie, LA (Metropolitan Statist... -1.850721  \n",
       "36740  Orlando-Kissimmee-Sanford, FL (Metropolitan St... -1.805863  "
      ]
     },
     "execution_count": 42,
     "metadata": {},
     "output_type": "execute_result"
    }
   ],
   "source": [
    "dataLog.sort_values(by='CrimeRes',ascending=True).head(5)"
   ]
  },
  {
   "cell_type": "markdown",
   "metadata": {
    "colab_type": "text",
    "id": "K__NioPNm5g_"
   },
   "source": [
    "### Task 3:Is there any correlation between residual by income and residual by crime?"
   ]
  },
  {
   "cell_type": "code",
   "execution_count": 43,
   "metadata": {
    "colab": {},
    "colab_type": "code",
    "id": "OLl9kHeknCHJ",
    "scrolled": true
   },
   "outputs": [
    {
     "data": {
      "text/html": [
       "<div>\n",
       "<style scoped>\n",
       "    .dataframe tbody tr th:only-of-type {\n",
       "        vertical-align: middle;\n",
       "    }\n",
       "\n",
       "    .dataframe tbody tr th {\n",
       "        vertical-align: top;\n",
       "    }\n",
       "\n",
       "    .dataframe thead th {\n",
       "        text-align: right;\n",
       "    }\n",
       "</style>\n",
       "<table border=\"1\" class=\"dataframe\">\n",
       "  <thead>\n",
       "    <tr style=\"text-align: right;\">\n",
       "      <th></th>\n",
       "      <th>Population</th>\n",
       "      <th>Area</th>\n",
       "      <th>Income</th>\n",
       "    </tr>\n",
       "    <tr>\n",
       "      <th>msa</th>\n",
       "      <th></th>\n",
       "      <th></th>\n",
       "      <th></th>\n",
       "    </tr>\n",
       "  </thead>\n",
       "  <tbody>\n",
       "    <tr>\n",
       "      <td>10180</td>\n",
       "      <td>167171</td>\n",
       "      <td>2743.478027</td>\n",
       "      <td>3740034900</td>\n",
       "    </tr>\n",
       "    <tr>\n",
       "      <td>10420</td>\n",
       "      <td>703017</td>\n",
       "      <td>900.129156</td>\n",
       "      <td>19560044574</td>\n",
       "    </tr>\n",
       "    <tr>\n",
       "      <td>10500</td>\n",
       "      <td>156706</td>\n",
       "      <td>1932.557130</td>\n",
       "      <td>3172077530</td>\n",
       "    </tr>\n",
       "    <tr>\n",
       "      <td>10540</td>\n",
       "      <td>118270</td>\n",
       "      <td>2290.129282</td>\n",
       "      <td>2526602010</td>\n",
       "    </tr>\n",
       "    <tr>\n",
       "      <td>10580</td>\n",
       "      <td>875567</td>\n",
       "      <td>2811.554500</td>\n",
       "      <td>28078339939</td>\n",
       "    </tr>\n",
       "  </tbody>\n",
       "</table>\n",
       "</div>"
      ],
      "text/plain": [
       "       Population         Area       Income\n",
       "msa                                        \n",
       "10180      167171  2743.478027   3740034900\n",
       "10420      703017   900.129156  19560044574\n",
       "10500      156706  1932.557130   3172077530\n",
       "10540      118270  2290.129282   2526602010\n",
       "10580      875567  2811.554500  28078339939"
      ]
     },
     "execution_count": 43,
     "metadata": {},
     "output_type": "execute_result"
    }
   ],
   "source": [
    "demographics = pd.read_csv('data/acs2014/R11460953_SL050.csv', encoding = \"ISO-8859-1\")\n",
    "demographics = demographics[[ u'Geo_GEOID', u'Geo_NAME', u'Geo_QName', u'Geo_COUNTY',\\\n",
    "                             u'SE_T001_001', u'SE_T002_002', u'SE_T002_003', u'SE_T057_001', u'SE_T083_001']]\n",
    "\n",
    "demographics.rename(columns={u'SE_T001_001' : 'Population',\\\n",
    "                             u'SE_T002_002' : 'Population Density', \\\n",
    "                             u'SE_T002_003' : 'Area',\\\n",
    "                             u'SE_T057_001' : 'Median household income',\\\n",
    "                             u'SE_T083_001' : 'Per capita income'}, inplace=True)\n",
    "demographics['Income']=demographics.Population*demographics['Per capita income']\n",
    "def num(s):\n",
    "    try:\n",
    "        return int(s)\n",
    "    except ValueError:\n",
    "        0\n",
    "\n",
    "demographics['ID'] = demographics.Geo_GEOID.apply(lambda x: num(x[7:]))\n",
    "msa['ID'] = msa.Geo_FIPS.apply(num)\n",
    "\n",
    "demomsa = pd.merge(demographics, msa, on='ID', how='inner')\n",
    "msaDemo = demomsa.groupby(by='msa').sum().loc[:,[u'Population', u'Area', u'Income']]\n",
    "msaDemo.head()"
   ]
  },
  {
   "cell_type": "code",
   "execution_count": 44,
   "metadata": {},
   "outputs": [],
   "source": [
    "logInc = np.log(msaDemo['Income'])"
   ]
  },
  {
   "cell_type": "code",
   "execution_count": 45,
   "metadata": {},
   "outputs": [
    {
     "data": {
      "text/plain": [
       "0.5173583738445174"
      ]
     },
     "execution_count": 45,
     "metadata": {},
     "output_type": "execute_result"
    }
   ],
   "source": [
    "dataLog['Income']=dataLog.index.map(logInc)\n",
    "dataLog['Income'].corr(dataLog['Crimes'])"
   ]
  },
  {
   "cell_type": "code",
   "execution_count": 46,
   "metadata": {},
   "outputs": [
    {
     "data": {
      "text/plain": [
       "0.44640639283367695"
      ]
     },
     "execution_count": 46,
     "metadata": {},
     "output_type": "execute_result"
    }
   ],
   "source": [
    "df1['Income']=df1.index.map(msaDemo['Income'])\n",
    "df1['Crimes'].corr(df1['Income'])"
   ]
  },
  {
   "cell_type": "markdown",
   "metadata": {},
   "source": [
    "I would say there is some kind of correlation between income and crime, but it is not really highly correlated. \n",
    "\n",
    "I would like to do the correlation between the original data instead of the residual first. Because this does imply something.\n",
    "\n",
    "Now Let's focus on the residual."
   ]
  },
  {
   "cell_type": "code",
   "execution_count": 47,
   "metadata": {},
   "outputs": [],
   "source": [
    "logPop = np.log(msaDemo['Population'])\n",
    "logIncome = np.log(msaDemo['Income'])\n",
    "dataLog_Inc = pd.DataFrame(data=[logIncome, logPop]).T\n",
    "dataLog_Inc.sort_values(by='Income', ascending=False, inplace=True) #Sorting values for better visualization\n",
    "lmIncome = smf.ols('Income~Population', data=dataLog_Inc).fit()\n",
    "msaDemo['IncRes']=lmIncome.predict()-dataLog_Inc['Income']"
   ]
  },
  {
   "cell_type": "code",
   "execution_count": 48,
   "metadata": {},
   "outputs": [
    {
     "data": {
      "text/html": [
       "<div>\n",
       "<style scoped>\n",
       "    .dataframe tbody tr th:only-of-type {\n",
       "        vertical-align: middle;\n",
       "    }\n",
       "\n",
       "    .dataframe tbody tr th {\n",
       "        vertical-align: top;\n",
       "    }\n",
       "\n",
       "    .dataframe thead th {\n",
       "        text-align: right;\n",
       "    }\n",
       "</style>\n",
       "<table border=\"1\" class=\"dataframe\">\n",
       "  <thead>\n",
       "    <tr style=\"text-align: right;\">\n",
       "      <th></th>\n",
       "      <th>Population</th>\n",
       "      <th>Area</th>\n",
       "      <th>Income</th>\n",
       "      <th>IncRes</th>\n",
       "    </tr>\n",
       "    <tr>\n",
       "      <th>msa</th>\n",
       "      <th></th>\n",
       "      <th></th>\n",
       "      <th></th>\n",
       "      <th></th>\n",
       "    </tr>\n",
       "  </thead>\n",
       "  <tbody>\n",
       "    <tr>\n",
       "      <td>10180</td>\n",
       "      <td>167171</td>\n",
       "      <td>2743.478027</td>\n",
       "      <td>3740034900</td>\n",
       "      <td>0.101101</td>\n",
       "    </tr>\n",
       "    <tr>\n",
       "      <td>10420</td>\n",
       "      <td>703017</td>\n",
       "      <td>900.129156</td>\n",
       "      <td>19560044574</td>\n",
       "      <td>-0.025948</td>\n",
       "    </tr>\n",
       "    <tr>\n",
       "      <td>10500</td>\n",
       "      <td>156706</td>\n",
       "      <td>1932.557130</td>\n",
       "      <td>3172077530</td>\n",
       "      <td>0.197068</td>\n",
       "    </tr>\n",
       "    <tr>\n",
       "      <td>10540</td>\n",
       "      <td>118270</td>\n",
       "      <td>2290.129282</td>\n",
       "      <td>2526602010</td>\n",
       "      <td>0.125354</td>\n",
       "    </tr>\n",
       "    <tr>\n",
       "      <td>10580</td>\n",
       "      <td>875567</td>\n",
       "      <td>2811.554500</td>\n",
       "      <td>28078339939</td>\n",
       "      <td>-0.154064</td>\n",
       "    </tr>\n",
       "  </tbody>\n",
       "</table>\n",
       "</div>"
      ],
      "text/plain": [
       "       Population         Area       Income    IncRes\n",
       "msa                                                  \n",
       "10180      167171  2743.478027   3740034900  0.101101\n",
       "10420      703017   900.129156  19560044574 -0.025948\n",
       "10500      156706  1932.557130   3172077530  0.197068\n",
       "10540      118270  2290.129282   2526602010  0.125354\n",
       "10580      875567  2811.554500  28078339939 -0.154064"
      ]
     },
     "execution_count": 48,
     "metadata": {},
     "output_type": "execute_result"
    }
   ],
   "source": [
    "msaDemo.head()"
   ]
  },
  {
   "cell_type": "code",
   "execution_count": 49,
   "metadata": {},
   "outputs": [],
   "source": [
    "logInc = msaDemo['IncRes']\n",
    "dataLog['IncRes']=dataLog.index.map(logInc)"
   ]
  },
  {
   "cell_type": "code",
   "execution_count": 50,
   "metadata": {},
   "outputs": [
    {
     "data": {
      "text/plain": [
       "-0.1862216554942585"
      ]
     },
     "execution_count": 50,
     "metadata": {},
     "output_type": "execute_result"
    }
   ],
   "source": [
    "dataLog['CrimeRes'].corr(dataLog['IncRes'])"
   ]
  }
 ],
 "metadata": {
  "colab": {
   "collapsed_sections": [],
   "name": "Assignment2_ADS.ipynb",
   "provenance": []
  },
  "kernelspec": {
   "display_name": "Python 3",
   "language": "python",
   "name": "python3"
  },
  "language_info": {
   "codemirror_mode": {
    "name": "ipython",
    "version": 3
   },
   "file_extension": ".py",
   "mimetype": "text/x-python",
   "name": "python",
   "nbconvert_exporter": "python",
   "pygments_lexer": "ipython3",
   "version": "3.7.0"
  }
 },
 "nbformat": 4,
 "nbformat_minor": 1
}
